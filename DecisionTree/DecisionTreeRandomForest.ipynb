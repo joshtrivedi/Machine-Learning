{
  "nbformat": 4,
  "nbformat_minor": 0,
  "metadata": {
    "colab": {
      "name": "DecisionTreeANDRandomForest.ipynb",
      "provenance": [],
      "collapsed_sections": []
    },
    "kernelspec": {
      "name": "python3",
      "display_name": "Python 3"
    }
  },
  "cells": [
    {
      "cell_type": "code",
      "metadata": {
        "colab": {
          "base_uri": "https://localhost:8080/"
        },
        "id": "jXxAsBqtoCew",
        "outputId": "18ddaca5-0090-49ad-f9c8-7791ed1a4914"
      },
      "source": [
        "import numpy as np  #does mathematical operation\r\n",
        "import matplotlib.pyplot as plt #For plotting the graphs\r\n",
        "import pandas as pd #making the data frames and import the csv files\r\n",
        "import math\r\n",
        "from sklearn.model_selection import train_test_split\r\n",
        "from sklearn.ensemble import RandomForestRegressor\r\n",
        "from sklearn.tree import export_graphviz\r\n",
        "import pydot\r\n",
        "\r\n",
        "from google.colab import drive #to import the google drive data\r\n",
        "drive.mount('/content/drive')   # to mount the drive data into the colab cloud and enter the activation code"
      ],
      "execution_count": 55,
      "outputs": [
        {
          "output_type": "stream",
          "text": [
            "Drive already mounted at /content/drive; to attempt to forcibly remount, call drive.mount(\"/content/drive\", force_remount=True).\n"
          ],
          "name": "stdout"
        }
      ]
    },
    {
      "cell_type": "code",
      "metadata": {
        "colab": {
          "base_uri": "https://localhost:8080/"
        },
        "id": "_ETNHZxg4UOO",
        "outputId": "87e90e9a-4e9b-47dd-d0f7-0fa24a696c36"
      },
      "source": [
        "#@title\n",
        "cd /content/drive/\"My Drive/Colab Notebooks/DecisionTreeAndRandomForest\" "
      ],
      "execution_count": 6,
      "outputs": [
        {
          "output_type": "stream",
          "text": [
            "/content/drive/My Drive/Colab Notebooks/DecisionTreeAndRandomForest\n"
          ],
          "name": "stdout"
        }
      ]
    },
    {
      "cell_type": "code",
      "metadata": {
        "id": "9k2LLtQ74XBA"
      },
      "source": [
        "features = pd.read_csv(\"temps.csv\")\r\n",
        "features.head(10)"
      ],
      "execution_count": null,
      "outputs": []
    },
    {
      "cell_type": "code",
      "metadata": {
        "colab": {
          "base_uri": "https://localhost:8080/"
        },
        "id": "8CukDyU642Ej",
        "outputId": "15a9813c-7597-4183-8ec8-223d173aca54"
      },
      "source": [
        "features.shape"
      ],
      "execution_count": 11,
      "outputs": [
        {
          "output_type": "execute_result",
          "data": {
            "text/plain": [
              "(348, 12)"
            ]
          },
          "metadata": {
            "tags": []
          },
          "execution_count": 11
        }
      ]
    },
    {
      "cell_type": "code",
      "metadata": {
        "id": "J5Q6uaPJ5bsT"
      },
      "source": [
        "features.describe()"
      ],
      "execution_count": null,
      "outputs": []
    },
    {
      "cell_type": "code",
      "metadata": {
        "id": "xSydxxDk5fXn"
      },
      "source": [
        "#One hotEccoding to change categoriacal to numerical\r\n",
        "features = pd.get_dummies(features)     #automatically takes the categorical feateres and convert to numerical with coloumns"
      ],
      "execution_count": 17,
      "outputs": []
    },
    {
      "cell_type": "code",
      "metadata": {
        "colab": {
          "base_uri": "https://localhost:8080/",
          "height": 402
        },
        "id": "697ECTpl8KJN",
        "outputId": "0c37c1ac-df2a-47f1-a056-7eaaeaf3c419"
      },
      "source": [
        "features"
      ],
      "execution_count": 18,
      "outputs": [
        {
          "output_type": "execute_result",
          "data": {
            "text/html": [
              "<div>\n",
              "<style scoped>\n",
              "    .dataframe tbody tr th:only-of-type {\n",
              "        vertical-align: middle;\n",
              "    }\n",
              "\n",
              "    .dataframe tbody tr th {\n",
              "        vertical-align: top;\n",
              "    }\n",
              "\n",
              "    .dataframe thead th {\n",
              "        text-align: right;\n",
              "    }\n",
              "</style>\n",
              "<table border=\"1\" class=\"dataframe\">\n",
              "  <thead>\n",
              "    <tr style=\"text-align: right;\">\n",
              "      <th></th>\n",
              "      <th>year</th>\n",
              "      <th>month</th>\n",
              "      <th>day</th>\n",
              "      <th>temp_2</th>\n",
              "      <th>temp_1</th>\n",
              "      <th>average</th>\n",
              "      <th>actual</th>\n",
              "      <th>forecast_noaa</th>\n",
              "      <th>forecast_acc</th>\n",
              "      <th>forecast_under</th>\n",
              "      <th>friend</th>\n",
              "      <th>week_Fri</th>\n",
              "      <th>week_Mon</th>\n",
              "      <th>week_Sat</th>\n",
              "      <th>week_Sun</th>\n",
              "      <th>week_Thurs</th>\n",
              "      <th>week_Tues</th>\n",
              "      <th>week_Wed</th>\n",
              "    </tr>\n",
              "  </thead>\n",
              "  <tbody>\n",
              "    <tr>\n",
              "      <th>0</th>\n",
              "      <td>2016</td>\n",
              "      <td>1</td>\n",
              "      <td>1</td>\n",
              "      <td>45</td>\n",
              "      <td>45</td>\n",
              "      <td>45.6</td>\n",
              "      <td>45</td>\n",
              "      <td>43</td>\n",
              "      <td>50</td>\n",
              "      <td>44</td>\n",
              "      <td>29</td>\n",
              "      <td>1</td>\n",
              "      <td>0</td>\n",
              "      <td>0</td>\n",
              "      <td>0</td>\n",
              "      <td>0</td>\n",
              "      <td>0</td>\n",
              "      <td>0</td>\n",
              "    </tr>\n",
              "    <tr>\n",
              "      <th>1</th>\n",
              "      <td>2016</td>\n",
              "      <td>1</td>\n",
              "      <td>2</td>\n",
              "      <td>44</td>\n",
              "      <td>45</td>\n",
              "      <td>45.7</td>\n",
              "      <td>44</td>\n",
              "      <td>41</td>\n",
              "      <td>50</td>\n",
              "      <td>44</td>\n",
              "      <td>61</td>\n",
              "      <td>0</td>\n",
              "      <td>0</td>\n",
              "      <td>1</td>\n",
              "      <td>0</td>\n",
              "      <td>0</td>\n",
              "      <td>0</td>\n",
              "      <td>0</td>\n",
              "    </tr>\n",
              "    <tr>\n",
              "      <th>2</th>\n",
              "      <td>2016</td>\n",
              "      <td>1</td>\n",
              "      <td>3</td>\n",
              "      <td>45</td>\n",
              "      <td>44</td>\n",
              "      <td>45.8</td>\n",
              "      <td>41</td>\n",
              "      <td>43</td>\n",
              "      <td>46</td>\n",
              "      <td>47</td>\n",
              "      <td>56</td>\n",
              "      <td>0</td>\n",
              "      <td>0</td>\n",
              "      <td>0</td>\n",
              "      <td>1</td>\n",
              "      <td>0</td>\n",
              "      <td>0</td>\n",
              "      <td>0</td>\n",
              "    </tr>\n",
              "    <tr>\n",
              "      <th>3</th>\n",
              "      <td>2016</td>\n",
              "      <td>1</td>\n",
              "      <td>4</td>\n",
              "      <td>44</td>\n",
              "      <td>41</td>\n",
              "      <td>45.9</td>\n",
              "      <td>40</td>\n",
              "      <td>44</td>\n",
              "      <td>48</td>\n",
              "      <td>46</td>\n",
              "      <td>53</td>\n",
              "      <td>0</td>\n",
              "      <td>1</td>\n",
              "      <td>0</td>\n",
              "      <td>0</td>\n",
              "      <td>0</td>\n",
              "      <td>0</td>\n",
              "      <td>0</td>\n",
              "    </tr>\n",
              "    <tr>\n",
              "      <th>4</th>\n",
              "      <td>2016</td>\n",
              "      <td>1</td>\n",
              "      <td>5</td>\n",
              "      <td>41</td>\n",
              "      <td>40</td>\n",
              "      <td>46.0</td>\n",
              "      <td>44</td>\n",
              "      <td>46</td>\n",
              "      <td>46</td>\n",
              "      <td>46</td>\n",
              "      <td>41</td>\n",
              "      <td>0</td>\n",
              "      <td>0</td>\n",
              "      <td>0</td>\n",
              "      <td>0</td>\n",
              "      <td>0</td>\n",
              "      <td>1</td>\n",
              "      <td>0</td>\n",
              "    </tr>\n",
              "    <tr>\n",
              "      <th>...</th>\n",
              "      <td>...</td>\n",
              "      <td>...</td>\n",
              "      <td>...</td>\n",
              "      <td>...</td>\n",
              "      <td>...</td>\n",
              "      <td>...</td>\n",
              "      <td>...</td>\n",
              "      <td>...</td>\n",
              "      <td>...</td>\n",
              "      <td>...</td>\n",
              "      <td>...</td>\n",
              "      <td>...</td>\n",
              "      <td>...</td>\n",
              "      <td>...</td>\n",
              "      <td>...</td>\n",
              "      <td>...</td>\n",
              "      <td>...</td>\n",
              "      <td>...</td>\n",
              "    </tr>\n",
              "    <tr>\n",
              "      <th>343</th>\n",
              "      <td>2016</td>\n",
              "      <td>12</td>\n",
              "      <td>27</td>\n",
              "      <td>42</td>\n",
              "      <td>42</td>\n",
              "      <td>45.2</td>\n",
              "      <td>47</td>\n",
              "      <td>41</td>\n",
              "      <td>50</td>\n",
              "      <td>47</td>\n",
              "      <td>47</td>\n",
              "      <td>0</td>\n",
              "      <td>0</td>\n",
              "      <td>0</td>\n",
              "      <td>0</td>\n",
              "      <td>0</td>\n",
              "      <td>1</td>\n",
              "      <td>0</td>\n",
              "    </tr>\n",
              "    <tr>\n",
              "      <th>344</th>\n",
              "      <td>2016</td>\n",
              "      <td>12</td>\n",
              "      <td>28</td>\n",
              "      <td>42</td>\n",
              "      <td>47</td>\n",
              "      <td>45.3</td>\n",
              "      <td>48</td>\n",
              "      <td>41</td>\n",
              "      <td>49</td>\n",
              "      <td>44</td>\n",
              "      <td>58</td>\n",
              "      <td>0</td>\n",
              "      <td>0</td>\n",
              "      <td>0</td>\n",
              "      <td>0</td>\n",
              "      <td>0</td>\n",
              "      <td>0</td>\n",
              "      <td>1</td>\n",
              "    </tr>\n",
              "    <tr>\n",
              "      <th>345</th>\n",
              "      <td>2016</td>\n",
              "      <td>12</td>\n",
              "      <td>29</td>\n",
              "      <td>47</td>\n",
              "      <td>48</td>\n",
              "      <td>45.3</td>\n",
              "      <td>48</td>\n",
              "      <td>43</td>\n",
              "      <td>50</td>\n",
              "      <td>45</td>\n",
              "      <td>65</td>\n",
              "      <td>0</td>\n",
              "      <td>0</td>\n",
              "      <td>0</td>\n",
              "      <td>0</td>\n",
              "      <td>1</td>\n",
              "      <td>0</td>\n",
              "      <td>0</td>\n",
              "    </tr>\n",
              "    <tr>\n",
              "      <th>346</th>\n",
              "      <td>2016</td>\n",
              "      <td>12</td>\n",
              "      <td>30</td>\n",
              "      <td>48</td>\n",
              "      <td>48</td>\n",
              "      <td>45.4</td>\n",
              "      <td>57</td>\n",
              "      <td>44</td>\n",
              "      <td>46</td>\n",
              "      <td>44</td>\n",
              "      <td>42</td>\n",
              "      <td>1</td>\n",
              "      <td>0</td>\n",
              "      <td>0</td>\n",
              "      <td>0</td>\n",
              "      <td>0</td>\n",
              "      <td>0</td>\n",
              "      <td>0</td>\n",
              "    </tr>\n",
              "    <tr>\n",
              "      <th>347</th>\n",
              "      <td>2016</td>\n",
              "      <td>12</td>\n",
              "      <td>31</td>\n",
              "      <td>48</td>\n",
              "      <td>57</td>\n",
              "      <td>45.5</td>\n",
              "      <td>40</td>\n",
              "      <td>42</td>\n",
              "      <td>48</td>\n",
              "      <td>47</td>\n",
              "      <td>57</td>\n",
              "      <td>0</td>\n",
              "      <td>0</td>\n",
              "      <td>1</td>\n",
              "      <td>0</td>\n",
              "      <td>0</td>\n",
              "      <td>0</td>\n",
              "      <td>0</td>\n",
              "    </tr>\n",
              "  </tbody>\n",
              "</table>\n",
              "<p>348 rows × 18 columns</p>\n",
              "</div>"
            ],
            "text/plain": [
              "     year  month  day  temp_2  ...  week_Sun  week_Thurs  week_Tues  week_Wed\n",
              "0    2016      1    1      45  ...         0           0          0         0\n",
              "1    2016      1    2      44  ...         0           0          0         0\n",
              "2    2016      1    3      45  ...         1           0          0         0\n",
              "3    2016      1    4      44  ...         0           0          0         0\n",
              "4    2016      1    5      41  ...         0           0          1         0\n",
              "..    ...    ...  ...     ...  ...       ...         ...        ...       ...\n",
              "343  2016     12   27      42  ...         0           0          1         0\n",
              "344  2016     12   28      42  ...         0           0          0         1\n",
              "345  2016     12   29      47  ...         0           1          0         0\n",
              "346  2016     12   30      48  ...         0           0          0         0\n",
              "347  2016     12   31      48  ...         0           0          0         0\n",
              "\n",
              "[348 rows x 18 columns]"
            ]
          },
          "metadata": {
            "tags": []
          },
          "execution_count": 18
        }
      ]
    },
    {
      "cell_type": "code",
      "metadata": {
        "colab": {
          "base_uri": "https://localhost:8080/"
        },
        "id": "3xth23ri8L4s",
        "outputId": "6fafd194-3db7-46b5-d66a-c0fd530034f3"
      },
      "source": [
        "features.shape"
      ],
      "execution_count": 19,
      "outputs": [
        {
          "output_type": "execute_result",
          "data": {
            "text/plain": [
              "(348, 18)"
            ]
          },
          "metadata": {
            "tags": []
          },
          "execution_count": 19
        }
      ]
    },
    {
      "cell_type": "code",
      "metadata": {
        "id": "dDZi727_8iQR"
      },
      "source": [
        "labels = np.array(features['actual'])"
      ],
      "execution_count": 20,
      "outputs": []
    },
    {
      "cell_type": "code",
      "metadata": {
        "id": "AYfSCdeT8vj_"
      },
      "source": [
        "labels"
      ],
      "execution_count": null,
      "outputs": []
    },
    {
      "cell_type": "code",
      "metadata": {
        "id": "vQqitsz18wdY"
      },
      "source": [
        "features = features.drop('actual',axis=1)"
      ],
      "execution_count": 24,
      "outputs": []
    },
    {
      "cell_type": "code",
      "metadata": {
        "colab": {
          "base_uri": "https://localhost:8080/",
          "height": 402
        },
        "id": "czoO4OzL9CWT",
        "outputId": "2fb42db7-ae2a-4f5d-c968-00dab5036143"
      },
      "source": [
        "features"
      ],
      "execution_count": 25,
      "outputs": [
        {
          "output_type": "execute_result",
          "data": {
            "text/html": [
              "<div>\n",
              "<style scoped>\n",
              "    .dataframe tbody tr th:only-of-type {\n",
              "        vertical-align: middle;\n",
              "    }\n",
              "\n",
              "    .dataframe tbody tr th {\n",
              "        vertical-align: top;\n",
              "    }\n",
              "\n",
              "    .dataframe thead th {\n",
              "        text-align: right;\n",
              "    }\n",
              "</style>\n",
              "<table border=\"1\" class=\"dataframe\">\n",
              "  <thead>\n",
              "    <tr style=\"text-align: right;\">\n",
              "      <th></th>\n",
              "      <th>year</th>\n",
              "      <th>month</th>\n",
              "      <th>day</th>\n",
              "      <th>temp_2</th>\n",
              "      <th>temp_1</th>\n",
              "      <th>average</th>\n",
              "      <th>forecast_noaa</th>\n",
              "      <th>forecast_acc</th>\n",
              "      <th>forecast_under</th>\n",
              "      <th>friend</th>\n",
              "      <th>week_Fri</th>\n",
              "      <th>week_Mon</th>\n",
              "      <th>week_Sat</th>\n",
              "      <th>week_Sun</th>\n",
              "      <th>week_Thurs</th>\n",
              "      <th>week_Tues</th>\n",
              "      <th>week_Wed</th>\n",
              "    </tr>\n",
              "  </thead>\n",
              "  <tbody>\n",
              "    <tr>\n",
              "      <th>0</th>\n",
              "      <td>2016</td>\n",
              "      <td>1</td>\n",
              "      <td>1</td>\n",
              "      <td>45</td>\n",
              "      <td>45</td>\n",
              "      <td>45.6</td>\n",
              "      <td>43</td>\n",
              "      <td>50</td>\n",
              "      <td>44</td>\n",
              "      <td>29</td>\n",
              "      <td>1</td>\n",
              "      <td>0</td>\n",
              "      <td>0</td>\n",
              "      <td>0</td>\n",
              "      <td>0</td>\n",
              "      <td>0</td>\n",
              "      <td>0</td>\n",
              "    </tr>\n",
              "    <tr>\n",
              "      <th>1</th>\n",
              "      <td>2016</td>\n",
              "      <td>1</td>\n",
              "      <td>2</td>\n",
              "      <td>44</td>\n",
              "      <td>45</td>\n",
              "      <td>45.7</td>\n",
              "      <td>41</td>\n",
              "      <td>50</td>\n",
              "      <td>44</td>\n",
              "      <td>61</td>\n",
              "      <td>0</td>\n",
              "      <td>0</td>\n",
              "      <td>1</td>\n",
              "      <td>0</td>\n",
              "      <td>0</td>\n",
              "      <td>0</td>\n",
              "      <td>0</td>\n",
              "    </tr>\n",
              "    <tr>\n",
              "      <th>2</th>\n",
              "      <td>2016</td>\n",
              "      <td>1</td>\n",
              "      <td>3</td>\n",
              "      <td>45</td>\n",
              "      <td>44</td>\n",
              "      <td>45.8</td>\n",
              "      <td>43</td>\n",
              "      <td>46</td>\n",
              "      <td>47</td>\n",
              "      <td>56</td>\n",
              "      <td>0</td>\n",
              "      <td>0</td>\n",
              "      <td>0</td>\n",
              "      <td>1</td>\n",
              "      <td>0</td>\n",
              "      <td>0</td>\n",
              "      <td>0</td>\n",
              "    </tr>\n",
              "    <tr>\n",
              "      <th>3</th>\n",
              "      <td>2016</td>\n",
              "      <td>1</td>\n",
              "      <td>4</td>\n",
              "      <td>44</td>\n",
              "      <td>41</td>\n",
              "      <td>45.9</td>\n",
              "      <td>44</td>\n",
              "      <td>48</td>\n",
              "      <td>46</td>\n",
              "      <td>53</td>\n",
              "      <td>0</td>\n",
              "      <td>1</td>\n",
              "      <td>0</td>\n",
              "      <td>0</td>\n",
              "      <td>0</td>\n",
              "      <td>0</td>\n",
              "      <td>0</td>\n",
              "    </tr>\n",
              "    <tr>\n",
              "      <th>4</th>\n",
              "      <td>2016</td>\n",
              "      <td>1</td>\n",
              "      <td>5</td>\n",
              "      <td>41</td>\n",
              "      <td>40</td>\n",
              "      <td>46.0</td>\n",
              "      <td>46</td>\n",
              "      <td>46</td>\n",
              "      <td>46</td>\n",
              "      <td>41</td>\n",
              "      <td>0</td>\n",
              "      <td>0</td>\n",
              "      <td>0</td>\n",
              "      <td>0</td>\n",
              "      <td>0</td>\n",
              "      <td>1</td>\n",
              "      <td>0</td>\n",
              "    </tr>\n",
              "    <tr>\n",
              "      <th>...</th>\n",
              "      <td>...</td>\n",
              "      <td>...</td>\n",
              "      <td>...</td>\n",
              "      <td>...</td>\n",
              "      <td>...</td>\n",
              "      <td>...</td>\n",
              "      <td>...</td>\n",
              "      <td>...</td>\n",
              "      <td>...</td>\n",
              "      <td>...</td>\n",
              "      <td>...</td>\n",
              "      <td>...</td>\n",
              "      <td>...</td>\n",
              "      <td>...</td>\n",
              "      <td>...</td>\n",
              "      <td>...</td>\n",
              "      <td>...</td>\n",
              "    </tr>\n",
              "    <tr>\n",
              "      <th>343</th>\n",
              "      <td>2016</td>\n",
              "      <td>12</td>\n",
              "      <td>27</td>\n",
              "      <td>42</td>\n",
              "      <td>42</td>\n",
              "      <td>45.2</td>\n",
              "      <td>41</td>\n",
              "      <td>50</td>\n",
              "      <td>47</td>\n",
              "      <td>47</td>\n",
              "      <td>0</td>\n",
              "      <td>0</td>\n",
              "      <td>0</td>\n",
              "      <td>0</td>\n",
              "      <td>0</td>\n",
              "      <td>1</td>\n",
              "      <td>0</td>\n",
              "    </tr>\n",
              "    <tr>\n",
              "      <th>344</th>\n",
              "      <td>2016</td>\n",
              "      <td>12</td>\n",
              "      <td>28</td>\n",
              "      <td>42</td>\n",
              "      <td>47</td>\n",
              "      <td>45.3</td>\n",
              "      <td>41</td>\n",
              "      <td>49</td>\n",
              "      <td>44</td>\n",
              "      <td>58</td>\n",
              "      <td>0</td>\n",
              "      <td>0</td>\n",
              "      <td>0</td>\n",
              "      <td>0</td>\n",
              "      <td>0</td>\n",
              "      <td>0</td>\n",
              "      <td>1</td>\n",
              "    </tr>\n",
              "    <tr>\n",
              "      <th>345</th>\n",
              "      <td>2016</td>\n",
              "      <td>12</td>\n",
              "      <td>29</td>\n",
              "      <td>47</td>\n",
              "      <td>48</td>\n",
              "      <td>45.3</td>\n",
              "      <td>43</td>\n",
              "      <td>50</td>\n",
              "      <td>45</td>\n",
              "      <td>65</td>\n",
              "      <td>0</td>\n",
              "      <td>0</td>\n",
              "      <td>0</td>\n",
              "      <td>0</td>\n",
              "      <td>1</td>\n",
              "      <td>0</td>\n",
              "      <td>0</td>\n",
              "    </tr>\n",
              "    <tr>\n",
              "      <th>346</th>\n",
              "      <td>2016</td>\n",
              "      <td>12</td>\n",
              "      <td>30</td>\n",
              "      <td>48</td>\n",
              "      <td>48</td>\n",
              "      <td>45.4</td>\n",
              "      <td>44</td>\n",
              "      <td>46</td>\n",
              "      <td>44</td>\n",
              "      <td>42</td>\n",
              "      <td>1</td>\n",
              "      <td>0</td>\n",
              "      <td>0</td>\n",
              "      <td>0</td>\n",
              "      <td>0</td>\n",
              "      <td>0</td>\n",
              "      <td>0</td>\n",
              "    </tr>\n",
              "    <tr>\n",
              "      <th>347</th>\n",
              "      <td>2016</td>\n",
              "      <td>12</td>\n",
              "      <td>31</td>\n",
              "      <td>48</td>\n",
              "      <td>57</td>\n",
              "      <td>45.5</td>\n",
              "      <td>42</td>\n",
              "      <td>48</td>\n",
              "      <td>47</td>\n",
              "      <td>57</td>\n",
              "      <td>0</td>\n",
              "      <td>0</td>\n",
              "      <td>1</td>\n",
              "      <td>0</td>\n",
              "      <td>0</td>\n",
              "      <td>0</td>\n",
              "      <td>0</td>\n",
              "    </tr>\n",
              "  </tbody>\n",
              "</table>\n",
              "<p>348 rows × 17 columns</p>\n",
              "</div>"
            ],
            "text/plain": [
              "     year  month  day  temp_2  ...  week_Sun  week_Thurs  week_Tues  week_Wed\n",
              "0    2016      1    1      45  ...         0           0          0         0\n",
              "1    2016      1    2      44  ...         0           0          0         0\n",
              "2    2016      1    3      45  ...         1           0          0         0\n",
              "3    2016      1    4      44  ...         0           0          0         0\n",
              "4    2016      1    5      41  ...         0           0          1         0\n",
              "..    ...    ...  ...     ...  ...       ...         ...        ...       ...\n",
              "343  2016     12   27      42  ...         0           0          1         0\n",
              "344  2016     12   28      42  ...         0           0          0         1\n",
              "345  2016     12   29      47  ...         0           1          0         0\n",
              "346  2016     12   30      48  ...         0           0          0         0\n",
              "347  2016     12   31      48  ...         0           0          0         0\n",
              "\n",
              "[348 rows x 17 columns]"
            ]
          },
          "metadata": {
            "tags": []
          },
          "execution_count": 25
        }
      ]
    },
    {
      "cell_type": "code",
      "metadata": {
        "colab": {
          "base_uri": "https://localhost:8080/"
        },
        "id": "zANoVqf09D5q",
        "outputId": "c8b00f22-7b3a-4299-b730-0f768b123d7f"
      },
      "source": [
        "features.shape"
      ],
      "execution_count": 26,
      "outputs": [
        {
          "output_type": "execute_result",
          "data": {
            "text/plain": [
              "(348, 17)"
            ]
          },
          "metadata": {
            "tags": []
          },
          "execution_count": 26
        }
      ]
    },
    {
      "cell_type": "code",
      "metadata": {
        "id": "wWeHP7Xm9Oc8"
      },
      "source": [
        "feature_list = list(features.columns)\r\n",
        "features = np.array(features)"
      ],
      "execution_count": 29,
      "outputs": []
    },
    {
      "cell_type": "code",
      "metadata": {
        "id": "x-TMB4a69Ur7"
      },
      "source": [
        "features"
      ],
      "execution_count": null,
      "outputs": []
    },
    {
      "cell_type": "code",
      "metadata": {
        "id": "IH-s4wqG9hkU"
      },
      "source": [
        "feature_list"
      ],
      "execution_count": null,
      "outputs": []
    },
    {
      "cell_type": "code",
      "metadata": {
        "id": "R1uzdaKS9fQr"
      },
      "source": [
        "train_features,test_features,train_labels,test_labels=train_test_split(features,labels,test_size=0.25,random_state=42)  #First train and test data for featureand then for labels"
      ],
      "execution_count": 33,
      "outputs": []
    },
    {
      "cell_type": "code",
      "metadata": {
        "colab": {
          "base_uri": "https://localhost:8080/"
        },
        "id": "5SX9_UQr-3X8",
        "outputId": "181dd8f7-fe0e-483c-9014-1281d1c86fe2"
      },
      "source": [
        "train_features.shape\r\n",
        "test_features.shape\r\n",
        "train_labels.shape\r\n",
        "test_labels.shape"
      ],
      "execution_count": 38,
      "outputs": [
        {
          "output_type": "execute_result",
          "data": {
            "text/plain": [
              "(87,)"
            ]
          },
          "metadata": {
            "tags": []
          },
          "execution_count": 38
        }
      ]
    },
    {
      "cell_type": "code",
      "metadata": {
        "id": "yvSGNaPC-_YB"
      },
      "source": [
        "random_forest_regressor_model = RandomForestRegressor(n_estimators=1000,random_state=42)"
      ],
      "execution_count": 40,
      "outputs": []
    },
    {
      "cell_type": "code",
      "metadata": {
        "colab": {
          "base_uri": "https://localhost:8080/"
        },
        "id": "tHWXxeJ9A7OQ",
        "outputId": "7c37c3f5-c3f1-4199-d703-ee656b6176a2"
      },
      "source": [
        "random_forest_regressor_model.fit(train_features,train_labels)"
      ],
      "execution_count": 41,
      "outputs": [
        {
          "output_type": "execute_result",
          "data": {
            "text/plain": [
              "RandomForestRegressor(bootstrap=True, ccp_alpha=0.0, criterion='mse',\n",
              "                      max_depth=None, max_features='auto', max_leaf_nodes=None,\n",
              "                      max_samples=None, min_impurity_decrease=0.0,\n",
              "                      min_impurity_split=None, min_samples_leaf=1,\n",
              "                      min_samples_split=2, min_weight_fraction_leaf=0.0,\n",
              "                      n_estimators=1000, n_jobs=None, oob_score=False,\n",
              "                      random_state=42, verbose=0, warm_start=False)"
            ]
          },
          "metadata": {
            "tags": []
          },
          "execution_count": 41
        }
      ]
    },
    {
      "cell_type": "code",
      "metadata": {
        "id": "0qpRzpfCBArL"
      },
      "source": [
        "predictions = random_forest_regressor_model.predict(test_features)"
      ],
      "execution_count": 42,
      "outputs": []
    },
    {
      "cell_type": "code",
      "metadata": {
        "id": "E-fzXl2CBQCQ"
      },
      "source": [
        "predictions"
      ],
      "execution_count": null,
      "outputs": []
    },
    {
      "cell_type": "code",
      "metadata": {
        "id": "KMdIIH5VBSy-"
      },
      "source": [
        "errors = abs(predictions-test_labels)"
      ],
      "execution_count": 45,
      "outputs": []
    },
    {
      "cell_type": "code",
      "metadata": {
        "id": "YTUpOUBrBpPo"
      },
      "source": [
        "#Mean absolute percentage Error\r\n",
        "mape = 100*(errors/len(test_labels))\r\n",
        "mean_error = np.mean(mape)"
      ],
      "execution_count": 49,
      "outputs": []
    },
    {
      "cell_type": "code",
      "metadata": {
        "colab": {
          "base_uri": "https://localhost:8080/"
        },
        "id": "hUmZZCC2B6ZT",
        "outputId": "af1d8452-c36a-44b1-8b83-4d034aeb1194"
      },
      "source": [
        "mape\r\n",
        "mean_error"
      ],
      "execution_count": 51,
      "outputs": [
        {
          "output_type": "execute_result",
          "data": {
            "text/plain": [
              "4.451948738274541"
            ]
          },
          "metadata": {
            "tags": []
          },
          "execution_count": 51
        }
      ]
    },
    {
      "cell_type": "code",
      "metadata": {
        "id": "zxmUs_FPB6x8"
      },
      "source": [
        "accuracy = 100-mean_error"
      ],
      "execution_count": 52,
      "outputs": []
    },
    {
      "cell_type": "code",
      "metadata": {
        "colab": {
          "base_uri": "https://localhost:8080/"
        },
        "id": "WxiJWaGTCHWt",
        "outputId": "f73fd0c3-24eb-4c62-b92f-e83ce8664c21"
      },
      "source": [
        "accuracy"
      ],
      "execution_count": 53,
      "outputs": [
        {
          "output_type": "execute_result",
          "data": {
            "text/plain": [
              "95.54805126172546"
            ]
          },
          "metadata": {
            "tags": []
          },
          "execution_count": 53
        }
      ]
    },
    {
      "cell_type": "code",
      "metadata": {
        "id": "BkNZzKPICIX6"
      },
      "source": [
        "tree = random_forest_regressor_model.estimators_[5]     #two output 1. Tree 2. dot File (whihc has property to be written in document for that tree)\r\n",
        "export_graphviz(tree,out_file='tree.dot',feature_names=feature_list,rounded=True,precision=1)"
      ],
      "execution_count": 61,
      "outputs": []
    },
    {
      "cell_type": "code",
      "metadata": {
        "id": "kSgIVlz6Ckla"
      },
      "source": [
        "(graph,)=pydot.graph_from_dot_file('tree.dot')\r\n",
        "graph.write_png('tree.png');"
      ],
      "execution_count": 62,
      "outputs": []
    },
    {
      "cell_type": "code",
      "metadata": {
        "id": "x1pBSGEcDh-L"
      },
      "source": [
        ""
      ],
      "execution_count": null,
      "outputs": []
    }
  ]
}