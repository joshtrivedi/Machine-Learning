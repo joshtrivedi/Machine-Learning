{
  "nbformat": 4,
  "nbformat_minor": 0,
  "metadata": {
    "colab": {
      "name": "DBSCAN-Lab.ipynb",
      "provenance": [],
      "collapsed_sections": [],
      "include_colab_link": true
    },
    "kernelspec": {
      "name": "python3",
      "display_name": "Python 3"
    },
    "language_info": {
      "name": "python"
    }
  },
  "cells": [
    {
      "cell_type": "markdown",
      "metadata": {
        "id": "view-in-github",
        "colab_type": "text"
      },
      "source": [
        "<a href=\"https://colab.research.google.com/github/joshtrivedi/Machine-Learning/blob/main/DBSCAN_Lab.ipynb\" target=\"_parent\"><img src=\"https://colab.research.google.com/assets/colab-badge.svg\" alt=\"Open In Colab\"/></a>"
      ]
    },
    {
      "cell_type": "code",
      "metadata": {
        "id": "Cx3J-nxpFcpA"
      },
      "source": [
        "import numpy as np\n",
        "import matplotlib.pyplot as plt\n",
        "import pandas as pd"
      ],
      "execution_count": null,
      "outputs": []
    },
    {
      "cell_type": "code",
      "metadata": {
        "id": "C1_ZKgTfGCnb"
      },
      "source": [
        "from google.colab import drive #to import google drive data"
      ],
      "execution_count": null,
      "outputs": []
    },
    {
      "cell_type": "code",
      "metadata": {
        "colab": {
          "base_uri": "https://localhost:8080/"
        },
        "id": "XHDm0Ir8GEMB",
        "outputId": "8b2c3706-fa23-402a-8772-371d1f16816e"
      },
      "source": [
        "drive.mount('/content/drive') #to mount the drive data into colab clound and enter the activation code"
      ],
      "execution_count": null,
      "outputs": [
        {
          "output_type": "stream",
          "text": [
            "Mounted at /content/drive\n"
          ],
          "name": "stdout"
        }
      ]
    },
    {
      "cell_type": "code",
      "metadata": {
        "colab": {
          "base_uri": "https://localhost:8080/"
        },
        "id": "HTz4vaShGGC2",
        "outputId": "58f265c4-38ec-4ac2-d573-f4c85007ec04"
      },
      "source": [
        "cd /content/drive/\"My Drive/Colab Notebooks/DBSCAN\""
      ],
      "execution_count": null,
      "outputs": [
        {
          "output_type": "stream",
          "text": [
            "/content/drive/My Drive/Colab Notebooks/DBSCAN\n"
          ],
          "name": "stdout"
        }
      ]
    },
    {
      "cell_type": "code",
      "metadata": {
        "id": "9kXVXyjuGmqf"
      },
      "source": [
        "dataset=pd.read_csv(\"KMeans.csv\")"
      ],
      "execution_count": null,
      "outputs": []
    },
    {
      "cell_type": "code",
      "metadata": {
        "colab": {
          "base_uri": "https://localhost:8080/",
          "height": 419
        },
        "id": "Aa5wyFkeGdBn",
        "outputId": "3c868c41-051c-48f9-c240-c7aec8eb5879"
      },
      "source": [
        "dataset"
      ],
      "execution_count": null,
      "outputs": [
        {
          "output_type": "execute_result",
          "data": {
            "text/html": [
              "<div>\n",
              "<style scoped>\n",
              "    .dataframe tbody tr th:only-of-type {\n",
              "        vertical-align: middle;\n",
              "    }\n",
              "\n",
              "    .dataframe tbody tr th {\n",
              "        vertical-align: top;\n",
              "    }\n",
              "\n",
              "    .dataframe thead th {\n",
              "        text-align: right;\n",
              "    }\n",
              "</style>\n",
              "<table border=\"1\" class=\"dataframe\">\n",
              "  <thead>\n",
              "    <tr style=\"text-align: right;\">\n",
              "      <th></th>\n",
              "      <th>Age</th>\n",
              "      <th>Annual Income (k$)</th>\n",
              "      <th>Spending Score (1-100)</th>\n",
              "    </tr>\n",
              "  </thead>\n",
              "  <tbody>\n",
              "    <tr>\n",
              "      <th>0</th>\n",
              "      <td>19</td>\n",
              "      <td>15</td>\n",
              "      <td>39</td>\n",
              "    </tr>\n",
              "    <tr>\n",
              "      <th>1</th>\n",
              "      <td>21</td>\n",
              "      <td>15</td>\n",
              "      <td>81</td>\n",
              "    </tr>\n",
              "    <tr>\n",
              "      <th>2</th>\n",
              "      <td>20</td>\n",
              "      <td>16</td>\n",
              "      <td>6</td>\n",
              "    </tr>\n",
              "    <tr>\n",
              "      <th>3</th>\n",
              "      <td>23</td>\n",
              "      <td>16</td>\n",
              "      <td>77</td>\n",
              "    </tr>\n",
              "    <tr>\n",
              "      <th>4</th>\n",
              "      <td>31</td>\n",
              "      <td>17</td>\n",
              "      <td>40</td>\n",
              "    </tr>\n",
              "    <tr>\n",
              "      <th>...</th>\n",
              "      <td>...</td>\n",
              "      <td>...</td>\n",
              "      <td>...</td>\n",
              "    </tr>\n",
              "    <tr>\n",
              "      <th>195</th>\n",
              "      <td>35</td>\n",
              "      <td>120</td>\n",
              "      <td>79</td>\n",
              "    </tr>\n",
              "    <tr>\n",
              "      <th>196</th>\n",
              "      <td>45</td>\n",
              "      <td>126</td>\n",
              "      <td>28</td>\n",
              "    </tr>\n",
              "    <tr>\n",
              "      <th>197</th>\n",
              "      <td>32</td>\n",
              "      <td>126</td>\n",
              "      <td>74</td>\n",
              "    </tr>\n",
              "    <tr>\n",
              "      <th>198</th>\n",
              "      <td>32</td>\n",
              "      <td>137</td>\n",
              "      <td>18</td>\n",
              "    </tr>\n",
              "    <tr>\n",
              "      <th>199</th>\n",
              "      <td>30</td>\n",
              "      <td>137</td>\n",
              "      <td>83</td>\n",
              "    </tr>\n",
              "  </tbody>\n",
              "</table>\n",
              "<p>200 rows × 3 columns</p>\n",
              "</div>"
            ],
            "text/plain": [
              "     Age  Annual Income (k$)  Spending Score (1-100)\n",
              "0     19                  15                      39\n",
              "1     21                  15                      81\n",
              "2     20                  16                       6\n",
              "3     23                  16                      77\n",
              "4     31                  17                      40\n",
              "..   ...                 ...                     ...\n",
              "195   35                 120                      79\n",
              "196   45                 126                      28\n",
              "197   32                 126                      74\n",
              "198   32                 137                      18\n",
              "199   30                 137                      83\n",
              "\n",
              "[200 rows x 3 columns]"
            ]
          },
          "metadata": {
            "tags": []
          },
          "execution_count": 6
        }
      ]
    },
    {
      "cell_type": "code",
      "metadata": {
        "id": "cc1Y46AsHW-W"
      },
      "source": [
        "X=dataset.iloc[:,[1,2]].values"
      ],
      "execution_count": null,
      "outputs": []
    },
    {
      "cell_type": "code",
      "metadata": {
        "colab": {
          "base_uri": "https://localhost:8080/"
        },
        "id": "yTNfXByYHfLO",
        "outputId": "5556cedc-d9f4-4a2f-b028-09823386d352"
      },
      "source": [
        "X.shape"
      ],
      "execution_count": null,
      "outputs": [
        {
          "output_type": "execute_result",
          "data": {
            "text/plain": [
              "(200, 2)"
            ]
          },
          "metadata": {
            "tags": []
          },
          "execution_count": 29
        }
      ]
    },
    {
      "cell_type": "code",
      "metadata": {
        "id": "4GVIKlhXHll2"
      },
      "source": [
        "from sklearn.cluster import DBSCAN\n",
        "from sklearn import metrics\n",
        "from sklearn.preprocessing import StandardScaler\n",
        "from sklearn.neighbors import NearestNeighbors"
      ],
      "execution_count": null,
      "outputs": []
    },
    {
      "cell_type": "code",
      "metadata": {
        "id": "Rwe6dnHgOw10"
      },
      "source": [
        "X=StandardScaler().fit_transform(X)"
      ],
      "execution_count": null,
      "outputs": []
    },
    {
      "cell_type": "code",
      "metadata": {
        "id": "RPRoPRXTPt86"
      },
      "source": [
        "ns=3"
      ],
      "execution_count": null,
      "outputs": []
    },
    {
      "cell_type": "code",
      "metadata": {
        "id": "gOSNzRYHPvLt"
      },
      "source": [
        "nearestneighbours=NearestNeighbors(3).fit(X)"
      ],
      "execution_count": null,
      "outputs": []
    },
    {
      "cell_type": "code",
      "metadata": {
        "id": "ryn-AvlCQtb0"
      },
      "source": [
        "distances,indices=nearestneighbours.kneighbors(X)"
      ],
      "execution_count": null,
      "outputs": []
    },
    {
      "cell_type": "code",
      "metadata": {
        "colab": {
          "base_uri": "https://localhost:8080/"
        },
        "id": "mjaVeOahQ-We",
        "outputId": "f4af6ce6-21e0-491b-ded4-b8c5b2804a3a"
      },
      "source": [
        "indices"
      ],
      "execution_count": null,
      "outputs": [
        {
          "output_type": "execute_result",
          "data": {
            "text/plain": [
              "array([[  0,   4,  16],\n",
              "       [  1,   3,  15],\n",
              "       [  2,   6,   8],\n",
              "       [  3,   5,  13],\n",
              "       [  4,   0,  16],\n",
              "       [  5,   3,  13],\n",
              "       [  6,   2,   8],\n",
              "       [  7,  11,  19],\n",
              "       [  8,   6,   2],\n",
              "       [  9,   5,  21],\n",
              "       [ 10,  14,  12],\n",
              "       [ 11,  19,   7],\n",
              "       [ 12,  10,  14],\n",
              "       [ 13,  15,   5],\n",
              "       [ 14,  10,  12],\n",
              "       [ 15,  13,   5],\n",
              "       [ 16,  20,  18],\n",
              "       [ 17,   9,  21],\n",
              "       [ 18,  26,  20],\n",
              "       [ 19,  11,   7],\n",
              "       [ 20,  16,  26],\n",
              "       [ 21,  23,   9],\n",
              "       [ 22,  30,   8],\n",
              "       [ 23,  21,  31],\n",
              "       [ 24,  34,  36],\n",
              "       [ 25,  35,  29],\n",
              "       [ 26,  28,  20],\n",
              "       [ 27,  17,  43],\n",
              "       [ 28,  26,  18],\n",
              "       [ 29,  25,  33],\n",
              "       [ 30,  32,  22],\n",
              "       [ 31,  37,  23],\n",
              "       [ 32,  30,  22],\n",
              "       [ 33,  41,  29],\n",
              "       [ 34,  36,  24],\n",
              "       [ 35,  25,  29],\n",
              "       [ 36,  34,  24],\n",
              "       [ 37,  39,  31],\n",
              "       [ 38,  44,  40],\n",
              "       [ 39,  37,  31],\n",
              "       [ 40,  42,  44],\n",
              "       [ 41,  33,  29],\n",
              "       [ 42,  40,  48],\n",
              "       [ 43,  51,  45],\n",
              "       [ 44,  38,  40],\n",
              "       [ 45,  43,  51],\n",
              "       [ 46,  52,  50],\n",
              "       [ 47,  54,  57],\n",
              "       [ 49,  48,  55],\n",
              "       [ 49,  48,  55],\n",
              "       [ 50,  52,  56],\n",
              "       [ 51,  53,  43],\n",
              "       [ 52,  50,  61],\n",
              "       [ 53,  51,  63],\n",
              "       [ 54,  57,  59],\n",
              "       [ 55,  49,  48],\n",
              "       [ 56,  58,  50],\n",
              "       [ 57,  54,  59],\n",
              "       [ 58,  62,  64],\n",
              "       [ 59,  57,  69],\n",
              "       [ 60,  61,  70],\n",
              "       [ 61,  60,  70],\n",
              "       [ 62,  64,  58],\n",
              "       [ 63,  68,  65],\n",
              "       [ 64,  66,  62],\n",
              "       [ 65,  68,  63],\n",
              "       [ 66,  64,  67],\n",
              "       [ 67,  69,  66],\n",
              "       [ 65,  68,  63],\n",
              "       [ 69,  67,  59],\n",
              "       [ 70,  73,  61],\n",
              "       [ 71,  79,  59],\n",
              "       [ 72,  67,  66],\n",
              "       [ 73,  70,  68],\n",
              "       [ 74,  77,  85],\n",
              "       [ 75,  76,  81],\n",
              "       [ 76,  78,  75],\n",
              "       [ 77,  74,  85],\n",
              "       [ 78,  76,  80],\n",
              "       [ 79,  82,  83],\n",
              "       [ 80,  78,  76],\n",
              "       [ 81,  75,  76],\n",
              "       [ 82,  79,  83],\n",
              "       [ 83,  85,  79],\n",
              "       [ 84,  81,  75],\n",
              "       [ 85,  74,  83],\n",
              "       [ 86,  88,  87],\n",
              "       [ 87,  90,  81],\n",
              "       [ 88,  86, 102],\n",
              "       [ 89,  96,  92],\n",
              "       [ 90,  87, 103],\n",
              "       [ 91,  94,  93],\n",
              "       [ 92,  99,  97],\n",
              "       [ 93,  91,  94],\n",
              "       [ 94,  98,  91],\n",
              "       [ 95,  97, 110],\n",
              "       [ 96,  92, 101],\n",
              "       [ 97,  92,  99],\n",
              "       [ 98, 105,  94],\n",
              "       [ 99,  92, 101],\n",
              "       [100, 105,  98],\n",
              "       [101, 109,  99],\n",
              "       [102, 117, 104],\n",
              "       [103, 104, 111],\n",
              "       [104, 103, 111],\n",
              "       [105,  98, 100],\n",
              "       [106, 115, 110],\n",
              "       [107, 113, 109],\n",
              "       [108, 105, 112],\n",
              "       [109, 101, 114],\n",
              "       [110, 111, 106],\n",
              "       [111, 103, 110],\n",
              "       [112, 116, 108],\n",
              "       [113, 107, 114],\n",
              "       [114, 109, 115],\n",
              "       [115, 106, 114],\n",
              "       [116, 112, 118],\n",
              "       [117, 119, 102],\n",
              "       [118, 116, 121],\n",
              "       [119, 120, 122],\n",
              "       [120, 119, 122],\n",
              "       [121, 118, 112],\n",
              "       [122, 119, 120],\n",
              "       [123, 127, 135],\n",
              "       [124, 132, 126],\n",
              "       [125, 129, 131],\n",
              "       [126, 132, 146],\n",
              "       [127, 141, 123],\n",
              "       [128, 130, 138],\n",
              "       [129, 131, 125],\n",
              "       [130, 128, 136],\n",
              "       [129, 131, 125],\n",
              "       [132, 126, 146],\n",
              "       [133, 139, 137],\n",
              "       [134, 140, 136],\n",
              "       [135, 143, 151],\n",
              "       [136, 134, 130],\n",
              "       [137, 139, 133],\n",
              "       [138, 130, 128],\n",
              "       [139, 137, 133],\n",
              "       [140, 134, 136],\n",
              "       [141, 149, 127],\n",
              "       [142, 146, 160],\n",
              "       [143, 151, 155],\n",
              "       [144, 138, 154],\n",
              "       [145, 141, 163],\n",
              "       [146, 160, 142],\n",
              "       [147, 159, 153],\n",
              "       [148, 152, 150],\n",
              "       [149, 155, 151],\n",
              "       [150, 154, 152],\n",
              "       [151, 155, 149],\n",
              "       [152, 148, 150],\n",
              "       [153, 157, 147],\n",
              "       [154, 150, 152],\n",
              "       [155, 151, 149],\n",
              "       [158, 156, 140],\n",
              "       [157, 153, 147],\n",
              "       [158, 156, 140],\n",
              "       [159, 147, 153],\n",
              "       [160, 146, 142],\n",
              "       [161, 143, 151],\n",
              "       [162, 158, 156],\n",
              "       [163, 149, 155],\n",
              "       [164, 168, 166],\n",
              "       [165, 171, 177],\n",
              "       [166, 176, 164],\n",
              "       [167, 173, 163],\n",
              "       [168, 164, 166],\n",
              "       [169, 177, 171],\n",
              "       [170, 174, 176],\n",
              "       [171, 165, 177],\n",
              "       [172, 170, 174],\n",
              "       [173, 167, 163],\n",
              "       [174, 170, 176],\n",
              "       [175, 173, 179],\n",
              "       [176, 174, 170],\n",
              "       [177, 171, 169],\n",
              "       [178, 174, 176],\n",
              "       [179, 183, 181],\n",
              "       [180, 184, 186],\n",
              "       [181, 183, 179],\n",
              "       [182, 178, 188],\n",
              "       [183, 181, 179],\n",
              "       [184, 180, 186],\n",
              "       [185, 183, 179],\n",
              "       [186, 190, 188],\n",
              "       [187, 191, 177],\n",
              "       [188, 182, 190],\n",
              "       [189, 183, 181],\n",
              "       [190, 186, 188],\n",
              "       [191, 187, 177],\n",
              "       [192, 194, 188],\n",
              "       [193, 189, 195],\n",
              "       [194, 192, 196],\n",
              "       [195, 197, 193],\n",
              "       [196, 194, 198],\n",
              "       [197, 195, 199],\n",
              "       [198, 196, 194],\n",
              "       [199, 197, 195]])"
            ]
          },
          "metadata": {
            "tags": []
          },
          "execution_count": 36
        }
      ]
    },
    {
      "cell_type": "code",
      "metadata": {
        "id": "P8tasuUxRahv"
      },
      "source": [
        "distances"
      ],
      "execution_count": null,
      "outputs": []
    },
    {
      "cell_type": "code",
      "metadata": {
        "id": "EgbmGnSsSIlg"
      },
      "source": [
        "distanceDec=sorted(distances[:,2],reverse=True)"
      ],
      "execution_count": null,
      "outputs": []
    },
    {
      "cell_type": "code",
      "metadata": {
        "id": "C4DbZr-PSICR"
      },
      "source": [
        "distanceDec"
      ],
      "execution_count": null,
      "outputs": []
    },
    {
      "cell_type": "code",
      "metadata": {
        "colab": {
          "base_uri": "https://localhost:8080/",
          "height": 282
        },
        "id": "qn6buuLcTNMG",
        "outputId": "405588af-0786-422c-fd93-8d1a841ab539"
      },
      "source": [
        "plt.plot(indices[:,0],distanceDec)"
      ],
      "execution_count": null,
      "outputs": [
        {
          "output_type": "execute_result",
          "data": {
            "text/plain": [
              "[<matplotlib.lines.Line2D at 0x7f1fd0806b90>]"
            ]
          },
          "metadata": {
            "tags": []
          },
          "execution_count": 44
        },
        {
          "output_type": "display_data",
          "data": {
            "image/png": "[encoded data removed]",
            "text/plain": [
              "<Figure size 432x288 with 1 Axes>"
            ]
          },
          "metadata": {
            "tags": [],
            "needs_background": "light"
          }
        }
      ]
    },
    {
      "cell_type": "code",
      "metadata": {
        "id": "l9GwKZKiTwMy"
      },
      "source": [
        "db=DBSCAN(eps=0.3,min_samples=5).fit(X)"
      ],
      "execution_count": null,
      "outputs": []
    },
    {
      "cell_type": "code",
      "metadata": {
        "colab": {
          "base_uri": "https://localhost:8080/"
        },
        "id": "d694nz1DVYo5",
        "outputId": "b6460080-4b51-4aa3-e32e-13f71ffaf8c8"
      },
      "source": [
        "db"
      ],
      "execution_count": null,
      "outputs": [
        {
          "output_type": "execute_result",
          "data": {
            "text/plain": [
              "DBSCAN(algorithm='auto', eps=0.3, leaf_size=30, metric='euclidean',\n",
              "       metric_params=None, min_samples=5, n_jobs=None, p=None)"
            ]
          },
          "metadata": {
            "tags": []
          },
          "execution_count": 53
        }
      ]
    },
    {
      "cell_type": "code",
      "metadata": {
        "id": "E6e80M7ZVZhm"
      },
      "source": [
        "labels=db.labels_ #-1 is noise points"
      ],
      "execution_count": null,
      "outputs": []
    },
    {
      "cell_type": "code",
      "metadata": {
        "colab": {
          "base_uri": "https://localhost:8080/"
        },
        "id": "PvZ38RIpViBa",
        "outputId": "6a901198-5b8e-406e-85d0-b7b5bb118c49"
      },
      "source": [
        "db.core_sample_indices_ #core datapoints"
      ],
      "execution_count": null,
      "outputs": [
        {
          "output_type": "execute_result",
          "data": {
            "text/plain": [
              "array([  1,   3,   5,   6,   9,  13,  15,  16,  18,  20,  21,  23,  26,\n",
              "        31,  40,  42,  43,  46,  47,  48,  49,  50,  51,  52,  53,  54,\n",
              "        55,  56,  57,  58,  59,  60,  61,  62,  63,  64,  65,  66,  67,\n",
              "        68,  69,  70,  71,  72,  73,  74,  75,  76,  77,  78,  79,  80,\n",
              "        81,  82,  83,  84,  85,  86,  87,  88,  89,  90,  91,  92,  93,\n",
              "        94,  95,  96,  97,  98,  99, 100, 101, 102, 103, 104, 105, 106,\n",
              "       107, 108, 109, 110, 111, 112, 113, 114, 115, 116, 117, 118, 119,\n",
              "       120, 121, 122, 125, 126, 127, 128, 129, 130, 131, 132, 133, 134,\n",
              "       135, 136, 137, 138, 139, 140, 141, 142, 143, 144, 145, 146, 147,\n",
              "       149, 150, 151, 153, 154, 155, 156, 157, 158, 159, 161, 163, 165,\n",
              "       166, 170, 172, 173, 174, 176, 178, 179])"
            ]
          },
          "metadata": {
            "tags": []
          },
          "execution_count": 56
        }
      ]
    },
    {
      "cell_type": "code",
      "metadata": {
        "id": "9RYM0dsdVoyf"
      },
      "source": [
        "core_samples_mask=np.zeros_like(db.labels_,dtype=bool)"
      ],
      "execution_count": null,
      "outputs": []
    },
    {
      "cell_type": "code",
      "metadata": {
        "id": "bWlxVlpRYiWn"
      },
      "source": [
        "core_samples_mask[db.core_sample_indices_]=True"
      ],
      "execution_count": null,
      "outputs": []
    },
    {
      "cell_type": "code",
      "metadata": {
        "colab": {
          "base_uri": "https://localhost:8080/"
        },
        "id": "j4Gj2aJ7YmIB",
        "outputId": "5d64d2bc-156c-4e32-f41b-d116e6070544"
      },
      "source": [
        "core_samples_mask"
      ],
      "execution_count": null,
      "outputs": [
        {
          "output_type": "execute_result",
          "data": {
            "text/plain": [
              "array([False,  True, False,  True, False,  True,  True, False, False,\n",
              "        True, False, False, False,  True, False,  True,  True, False,\n",
              "        True, False,  True,  True, False,  True, False, False,  True,\n",
              "       False, False, False, False,  True, False, False, False, False,\n",
              "       False, False, False, False,  True, False,  True,  True, False,\n",
              "       False,  True,  True,  True,  True,  True,  True,  True,  True,\n",
              "        True,  True,  True,  True,  True,  True,  True,  True,  True,\n",
              "        True,  True,  True,  True,  True,  True,  True,  True,  True,\n",
              "        True,  True,  True,  True,  True,  True,  True,  True,  True,\n",
              "        True,  True,  True,  True,  True,  True,  True,  True,  True,\n",
              "        True,  True,  True,  True,  True,  True,  True,  True,  True,\n",
              "        True,  True,  True,  True,  True,  True,  True,  True,  True,\n",
              "        True,  True,  True,  True,  True,  True,  True,  True,  True,\n",
              "        True,  True,  True,  True,  True,  True, False, False,  True,\n",
              "        True,  True,  True,  True,  True,  True,  True,  True,  True,\n",
              "        True,  True,  True,  True,  True,  True,  True,  True,  True,\n",
              "        True,  True,  True,  True, False,  True,  True,  True, False,\n",
              "        True,  True,  True,  True,  True,  True,  True, False,  True,\n",
              "       False,  True, False,  True,  True, False, False, False,  True,\n",
              "       False,  True,  True,  True, False,  True, False,  True,  True,\n",
              "       False, False, False, False, False, False, False, False, False,\n",
              "       False, False, False, False, False, False, False, False, False,\n",
              "       False, False])"
            ]
          },
          "metadata": {
            "tags": []
          },
          "execution_count": 60
        }
      ]
    },
    {
      "cell_type": "code",
      "metadata": {
        "id": "5aJ0bms6Y5o_"
      },
      "source": [
        "n_clusters_=len(set(labels))-1"
      ],
      "execution_count": null,
      "outputs": []
    },
    {
      "cell_type": "code",
      "metadata": {
        "colab": {
          "base_uri": "https://localhost:8080/"
        },
        "id": "RYbkPjj0ZO4P",
        "outputId": "52f2cce6-f813-40ae-beca-76b30b22680d"
      },
      "source": [
        "n_clusters_"
      ],
      "execution_count": null,
      "outputs": [
        {
          "output_type": "execute_result",
          "data": {
            "text/plain": [
              "7"
            ]
          },
          "metadata": {
            "tags": []
          },
          "execution_count": 66
        }
      ]
    },
    {
      "cell_type": "code",
      "metadata": {
        "id": "0HhB1p9KZY9F"
      },
      "source": [
        "unique_labels=set(labels)"
      ],
      "execution_count": null,
      "outputs": []
    },
    {
      "cell_type": "code",
      "metadata": {
        "id": "D-jX60JUaVET"
      },
      "source": [
        "colors=[plt.cm.Spectral(i) for i in np.linspace(0,1,len(unique_labels))]"
      ],
      "execution_count": null,
      "outputs": []
    },
    {
      "cell_type": "code",
      "metadata": {
        "colab": {
          "base_uri": "https://localhost:8080/"
        },
        "id": "grLoWu6UbHKx",
        "outputId": "6a93793f-09b3-44fd-de41-8aa63e1b8430"
      },
      "source": [
        "colors #RGBA"
      ],
      "execution_count": null,
      "outputs": [
        {
          "output_type": "execute_result",
          "data": {
            "text/plain": [
              "[(0.6196078431372549, 0.00392156862745098, 0.25882352941176473, 1.0),\n",
              " (0.8853517877739331, 0.3190311418685121, 0.29042675893886966, 1.0),\n",
              " (0.9873125720876587, 0.6473663975394078, 0.3642445213379469, 1.0),\n",
              " (0.9971549404075356, 0.9118031526336025, 0.6010765090349866, 1.0),\n",
              " (0.9288735101883892, 0.9715494040753557, 0.6380622837370243, 1.0),\n",
              " (0.6334486735870821, 0.8521337946943485, 0.6436755094194541, 1.0),\n",
              " (0.2800461361014994, 0.6269896193771626, 0.7024221453287197, 1.0),\n",
              " (0.3686274509803922, 0.30980392156862746, 0.6352941176470588, 1.0)]"
            ]
          },
          "metadata": {
            "tags": []
          },
          "execution_count": 72
        }
      ]
    },
    {
      "cell_type": "code",
      "metadata": {
        "id": "zAxtBeTgcgZG"
      },
      "source": [
        "#core_sample_mask: Core datapoints"
      ],
      "execution_count": null,
      "outputs": []
    },
    {
      "cell_type": "code",
      "metadata": {
        "colab": {
          "base_uri": "https://localhost:8080/",
          "height": 281
        },
        "id": "1VpA80ldcvEC",
        "outputId": "982001bc-c972-4b46-b45e-86d905cb1bd5"
      },
      "source": [
        "for k,col in zip(unique_labels,colors):\n",
        "  if(k==-1):\n",
        "    col=[0,0,0,1] #noise points\n",
        "  noise_mask=(labels==k)\n",
        "  y=X[core_samples_mask & noise_mask] \n",
        "  plt.plot(y[:,0],y[:,1],'o',markerfacecolor=tuple(col),markeredgecolor='k',markersize=15) #core datapoints\n",
        "\n",
        "  y=X[~core_samples_mask & noise_mask] #boundary datapoints\n",
        "  plt.plot(y[:,0],y[:,1],'o',markerfacecolor=tuple(col),markeredgecolor='k',markersize=8)\n",
        "plt.title('DBSCAN Clusters')\n",
        "plt.show()\n"
      ],
      "execution_count": null,
      "outputs": [
        {
          "output_type": "display_data",
          "data": {
            "image/png": "[encoded data removed]",
            "text/plain": [
              "<Figure size 432x288 with 1 Axes>"
            ]
          },
          "metadata": {
            "tags": [],
            "needs_background": "light"
          }
        }
      ]
    }
  ]
}