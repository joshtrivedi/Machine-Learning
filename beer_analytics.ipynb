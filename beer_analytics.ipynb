{
  "nbformat": 4,
  "nbformat_minor": 0,
  "metadata": {
    "colab": {
      "name": "beer-analytics.ipynb",
      "provenance": [],
      "collapsed_sections": []
    },
    "kernelspec": {
      "name": "python3",
      "display_name": "Python 3"
    }
  },
  "cells": [
    {
      "cell_type": "code",
      "metadata": {
        "id": "cRWuAFegihj3"
      },
      "source": [
        "from datetime import date\r\n",
        "import numpy as np\r\n",
        "import matplotlib.pyplot as plt\r\n",
        "import pandas as pd\r\n"
      ],
      "execution_count": 1,
      "outputs": []
    },
    {
      "cell_type": "code",
      "metadata": {
        "colab": {
          "base_uri": "https://localhost:8080/"
        },
        "id": "tIuQVqJKitZW",
        "outputId": "92d7a577-7f17-4378-e045-4ade1ab56521"
      },
      "source": [
        "from google.colab import drive\r\n",
        "drive.mount('/content/drive')"
      ],
      "execution_count": 2,
      "outputs": [
        {
          "output_type": "stream",
          "text": [
            "Mounted at /content/drive\n"
          ],
          "name": "stdout"
        }
      ]
    },
    {
      "cell_type": "code",
      "metadata": {
        "colab": {
          "base_uri": "https://localhost:8080/"
        },
        "id": "7JLrCSOrjb6k",
        "outputId": "314ece9e-2aad-4906-c9c0-1137ac257702"
      },
      "source": [
        "cd/content/drive/\"My Drive/Colab Notebooks\""
      ],
      "execution_count": 3,
      "outputs": [
        {
          "output_type": "stream",
          "text": [
            "/content/drive/My Drive/Colab Notebooks\n"
          ],
          "name": "stdout"
        }
      ]
    },
    {
      "cell_type": "code",
      "metadata": {
        "colab": {
          "base_uri": "https://localhost:8080/"
        },
        "id": "qs6Khdbljybm",
        "outputId": "ed310689-22d0-4acf-d5ff-7313183ae87f"
      },
      "source": [
        "#columnName = ['date','med_temp','min_temp','max_temp','precipitaion','final','consumption']\r\n",
        "dataset = pd.read_csv(\"beer_data.csv\", decimal=',')\r\n",
        "dataset = dataset.iloc[1:]\r\n",
        "print(dataset)\r\n"
      ],
      "execution_count": 4,
      "outputs": [
        {
          "output_type": "stream",
          "text": [
            "           Data  ...  Consumo de cerveja (litros)\n",
            "1    2015-01-02  ...                       28.972\n",
            "2    2015-01-03  ...                       30.814\n",
            "3    2015-01-04  ...                       29.799\n",
            "4    2015-01-05  ...                       28.900\n",
            "5    2015-01-06  ...                       28.218\n",
            "..          ...  ...                          ...\n",
            "936         NaN  ...                          NaN\n",
            "937         NaN  ...                          NaN\n",
            "938         NaN  ...                          NaN\n",
            "939         NaN  ...                          NaN\n",
            "940         NaN  ...                          NaN\n",
            "\n",
            "[940 rows x 7 columns]\n"
          ],
          "name": "stdout"
        }
      ]
    },
    {
      "cell_type": "code",
      "metadata": {
        "colab": {
          "base_uri": "https://localhost:8080/"
        },
        "id": "Gwk2lKFNqb3Q",
        "outputId": "848f5018-dc10-4908-f151-ea5108fa4dc7"
      },
      "source": [
        "dataset.columns = ['date', 'med_temp', 'min_temp','max_temp', 'precipitation','isWeekend','consumption']\r\n",
        "dataset.info()"
      ],
      "execution_count": 5,
      "outputs": [
        {
          "output_type": "stream",
          "text": [
            "<class 'pandas.core.frame.DataFrame'>\n",
            "RangeIndex: 940 entries, 1 to 940\n",
            "Data columns (total 7 columns):\n",
            " #   Column         Non-Null Count  Dtype  \n",
            "---  ------         --------------  -----  \n",
            " 0   date           364 non-null    object \n",
            " 1   med_temp       364 non-null    float64\n",
            " 2   min_temp       364 non-null    float64\n",
            " 3   max_temp       364 non-null    float64\n",
            " 4   precipitation  364 non-null    float64\n",
            " 5   isWeekend      364 non-null    float64\n",
            " 6   consumption    364 non-null    object \n",
            "dtypes: float64(5), object(2)\n",
            "memory usage: 51.5+ KB\n"
          ],
          "name": "stdout"
        }
      ]
    },
    {
      "cell_type": "code",
      "metadata": {
        "colab": {
          "base_uri": "https://localhost:8080/"
        },
        "id": "Jdp2sd9YkzQB",
        "outputId": "a2926dcf-992f-444b-f32e-4e685d5da56e"
      },
      "source": [
        "dataset.head"
      ],
      "execution_count": 6,
      "outputs": [
        {
          "output_type": "execute_result",
          "data": {
            "text/plain": [
              "<bound method NDFrame.head of            date  med_temp  min_temp  ...  precipitation  isWeekend  consumption\n",
              "1    2015-01-02     27.02      24.5  ...            0.0        0.0       28.972\n",
              "2    2015-01-03     24.82      22.4  ...            0.0        1.0       30.814\n",
              "3    2015-01-04     23.98      21.5  ...            1.2        1.0       29.799\n",
              "4    2015-01-05     23.82      21.0  ...            0.0        0.0       28.900\n",
              "5    2015-01-06     23.78      20.1  ...           12.2        0.0       28.218\n",
              "..          ...       ...       ...  ...            ...        ...          ...\n",
              "936         NaN       NaN       NaN  ...            NaN        NaN          NaN\n",
              "937         NaN       NaN       NaN  ...            NaN        NaN          NaN\n",
              "938         NaN       NaN       NaN  ...            NaN        NaN          NaN\n",
              "939         NaN       NaN       NaN  ...            NaN        NaN          NaN\n",
              "940         NaN       NaN       NaN  ...            NaN        NaN          NaN\n",
              "\n",
              "[940 rows x 7 columns]>"
            ]
          },
          "metadata": {
            "tags": []
          },
          "execution_count": 6
        }
      ]
    },
    {
      "cell_type": "code",
      "metadata": {
        "colab": {
          "base_uri": "https://localhost:8080/"
        },
        "id": "2yy5q3t3lzL0",
        "outputId": "bea3b332-4deb-40c1-a4a5-35f2e84e9b89"
      },
      "source": [
        "dataset.shape"
      ],
      "execution_count": 7,
      "outputs": [
        {
          "output_type": "execute_result",
          "data": {
            "text/plain": [
              "(940, 7)"
            ]
          },
          "metadata": {
            "tags": []
          },
          "execution_count": 7
        }
      ]
    },
    {
      "cell_type": "code",
      "metadata": {
        "colab": {
          "base_uri": "https://localhost:8080/",
          "height": 419
        },
        "id": "23h59Y8_mRDD",
        "outputId": "ed09318a-09c4-42eb-b2b6-380efd83a1cf"
      },
      "source": [
        "dataset.dropna()"
      ],
      "execution_count": 8,
      "outputs": [
        {
          "output_type": "execute_result",
          "data": {
            "text/html": [
              "<div>\n",
              "<style scoped>\n",
              "    .dataframe tbody tr th:only-of-type {\n",
              "        vertical-align: middle;\n",
              "    }\n",
              "\n",
              "    .dataframe tbody tr th {\n",
              "        vertical-align: top;\n",
              "    }\n",
              "\n",
              "    .dataframe thead th {\n",
              "        text-align: right;\n",
              "    }\n",
              "</style>\n",
              "<table border=\"1\" class=\"dataframe\">\n",
              "  <thead>\n",
              "    <tr style=\"text-align: right;\">\n",
              "      <th></th>\n",
              "      <th>date</th>\n",
              "      <th>med_temp</th>\n",
              "      <th>min_temp</th>\n",
              "      <th>max_temp</th>\n",
              "      <th>precipitation</th>\n",
              "      <th>isWeekend</th>\n",
              "      <th>consumption</th>\n",
              "    </tr>\n",
              "  </thead>\n",
              "  <tbody>\n",
              "    <tr>\n",
              "      <th>1</th>\n",
              "      <td>2015-01-02</td>\n",
              "      <td>27.02</td>\n",
              "      <td>24.5</td>\n",
              "      <td>33.5</td>\n",
              "      <td>0.0</td>\n",
              "      <td>0.0</td>\n",
              "      <td>28.972</td>\n",
              "    </tr>\n",
              "    <tr>\n",
              "      <th>2</th>\n",
              "      <td>2015-01-03</td>\n",
              "      <td>24.82</td>\n",
              "      <td>22.4</td>\n",
              "      <td>29.9</td>\n",
              "      <td>0.0</td>\n",
              "      <td>1.0</td>\n",
              "      <td>30.814</td>\n",
              "    </tr>\n",
              "    <tr>\n",
              "      <th>3</th>\n",
              "      <td>2015-01-04</td>\n",
              "      <td>23.98</td>\n",
              "      <td>21.5</td>\n",
              "      <td>28.6</td>\n",
              "      <td>1.2</td>\n",
              "      <td>1.0</td>\n",
              "      <td>29.799</td>\n",
              "    </tr>\n",
              "    <tr>\n",
              "      <th>4</th>\n",
              "      <td>2015-01-05</td>\n",
              "      <td>23.82</td>\n",
              "      <td>21.0</td>\n",
              "      <td>28.3</td>\n",
              "      <td>0.0</td>\n",
              "      <td>0.0</td>\n",
              "      <td>28.900</td>\n",
              "    </tr>\n",
              "    <tr>\n",
              "      <th>5</th>\n",
              "      <td>2015-01-06</td>\n",
              "      <td>23.78</td>\n",
              "      <td>20.1</td>\n",
              "      <td>30.5</td>\n",
              "      <td>12.2</td>\n",
              "      <td>0.0</td>\n",
              "      <td>28.218</td>\n",
              "    </tr>\n",
              "    <tr>\n",
              "      <th>...</th>\n",
              "      <td>...</td>\n",
              "      <td>...</td>\n",
              "      <td>...</td>\n",
              "      <td>...</td>\n",
              "      <td>...</td>\n",
              "      <td>...</td>\n",
              "      <td>...</td>\n",
              "    </tr>\n",
              "    <tr>\n",
              "      <th>360</th>\n",
              "      <td>2015-12-27</td>\n",
              "      <td>24.00</td>\n",
              "      <td>21.1</td>\n",
              "      <td>28.2</td>\n",
              "      <td>13.6</td>\n",
              "      <td>1.0</td>\n",
              "      <td>32.307</td>\n",
              "    </tr>\n",
              "    <tr>\n",
              "      <th>361</th>\n",
              "      <td>2015-12-28</td>\n",
              "      <td>22.64</td>\n",
              "      <td>21.1</td>\n",
              "      <td>26.7</td>\n",
              "      <td>0.0</td>\n",
              "      <td>0.0</td>\n",
              "      <td>26.095</td>\n",
              "    </tr>\n",
              "    <tr>\n",
              "      <th>362</th>\n",
              "      <td>2015-12-29</td>\n",
              "      <td>21.68</td>\n",
              "      <td>20.3</td>\n",
              "      <td>24.1</td>\n",
              "      <td>10.3</td>\n",
              "      <td>0.0</td>\n",
              "      <td>22.309</td>\n",
              "    </tr>\n",
              "    <tr>\n",
              "      <th>363</th>\n",
              "      <td>2015-12-30</td>\n",
              "      <td>21.38</td>\n",
              "      <td>19.3</td>\n",
              "      <td>22.4</td>\n",
              "      <td>6.3</td>\n",
              "      <td>0.0</td>\n",
              "      <td>20.467</td>\n",
              "    </tr>\n",
              "    <tr>\n",
              "      <th>364</th>\n",
              "      <td>2015-12-31</td>\n",
              "      <td>24.76</td>\n",
              "      <td>20.2</td>\n",
              "      <td>29.0</td>\n",
              "      <td>0.0</td>\n",
              "      <td>0.0</td>\n",
              "      <td>22.446</td>\n",
              "    </tr>\n",
              "  </tbody>\n",
              "</table>\n",
              "<p>364 rows × 7 columns</p>\n",
              "</div>"
            ],
            "text/plain": [
              "           date  med_temp  min_temp  ...  precipitation  isWeekend  consumption\n",
              "1    2015-01-02     27.02      24.5  ...            0.0        0.0       28.972\n",
              "2    2015-01-03     24.82      22.4  ...            0.0        1.0       30.814\n",
              "3    2015-01-04     23.98      21.5  ...            1.2        1.0       29.799\n",
              "4    2015-01-05     23.82      21.0  ...            0.0        0.0       28.900\n",
              "5    2015-01-06     23.78      20.1  ...           12.2        0.0       28.218\n",
              "..          ...       ...       ...  ...            ...        ...          ...\n",
              "360  2015-12-27     24.00      21.1  ...           13.6        1.0       32.307\n",
              "361  2015-12-28     22.64      21.1  ...            0.0        0.0       26.095\n",
              "362  2015-12-29     21.68      20.3  ...           10.3        0.0       22.309\n",
              "363  2015-12-30     21.38      19.3  ...            6.3        0.0       20.467\n",
              "364  2015-12-31     24.76      20.2  ...            0.0        0.0       22.446\n",
              "\n",
              "[364 rows x 7 columns]"
            ]
          },
          "metadata": {
            "tags": []
          },
          "execution_count": 8
        }
      ]
    },
    {
      "cell_type": "code",
      "metadata": {
        "colab": {
          "base_uri": "https://localhost:8080/"
        },
        "id": "6qbnbnxjmdGl",
        "outputId": "1c117a8b-acd5-4bd0-bc7f-0a232cdd8f34"
      },
      "source": [
        "dataset.info()"
      ],
      "execution_count": 9,
      "outputs": [
        {
          "output_type": "stream",
          "text": [
            "<class 'pandas.core.frame.DataFrame'>\n",
            "RangeIndex: 940 entries, 1 to 940\n",
            "Data columns (total 7 columns):\n",
            " #   Column         Non-Null Count  Dtype  \n",
            "---  ------         --------------  -----  \n",
            " 0   date           364 non-null    object \n",
            " 1   med_temp       364 non-null    float64\n",
            " 2   min_temp       364 non-null    float64\n",
            " 3   max_temp       364 non-null    float64\n",
            " 4   precipitation  364 non-null    float64\n",
            " 5   isWeekend      364 non-null    float64\n",
            " 6   consumption    364 non-null    object \n",
            "dtypes: float64(5), object(2)\n",
            "memory usage: 51.5+ KB\n"
          ],
          "name": "stdout"
        }
      ]
    },
    {
      "cell_type": "code",
      "metadata": {
        "colab": {
          "base_uri": "https://localhost:8080/"
        },
        "id": "USyR0FAYmpR2",
        "outputId": "d73e8f6f-ac25-48c7-abf0-ba09450ecf15"
      },
      "source": [
        "dataset['consumption'] = dataset['consumption'].astype(float) \r\n",
        "dataset.info()"
      ],
      "execution_count": 10,
      "outputs": [
        {
          "output_type": "stream",
          "text": [
            "<class 'pandas.core.frame.DataFrame'>\n",
            "RangeIndex: 940 entries, 1 to 940\n",
            "Data columns (total 7 columns):\n",
            " #   Column         Non-Null Count  Dtype  \n",
            "---  ------         --------------  -----  \n",
            " 0   date           364 non-null    object \n",
            " 1   med_temp       364 non-null    float64\n",
            " 2   min_temp       364 non-null    float64\n",
            " 3   max_temp       364 non-null    float64\n",
            " 4   precipitation  364 non-null    float64\n",
            " 5   isWeekend      364 non-null    float64\n",
            " 6   consumption    364 non-null    float64\n",
            "dtypes: float64(6), object(1)\n",
            "memory usage: 51.5+ KB\n"
          ],
          "name": "stdout"
        }
      ]
    },
    {
      "cell_type": "code",
      "metadata": {
        "colab": {
          "base_uri": "https://localhost:8080/",
          "height": 297
        },
        "id": "u0rkiLmsnFVr",
        "outputId": "71fa7b7f-21ad-4858-8be0-1dd95d154ce4"
      },
      "source": [
        "dataset.plot(kind='scatter', x='med_temp', y= 'consumption' )"
      ],
      "execution_count": 11,
      "outputs": [
        {
          "output_type": "execute_result",
          "data": {
            "text/plain": [
              "<matplotlib.axes._subplots.AxesSubplot at 0x7f5c93f6b780>"
            ]
          },
          "metadata": {
            "tags": []
          },
          "execution_count": 11
        },
        {
          "output_type": "display_data",
          "data": {
            "image/png": "[encoded data removed]",
            "text/plain": [
              "<Figure size 432x288 with 1 Axes>"
            ]
          },
          "metadata": {
            "tags": [],
            "needs_background": "light"
          }
        }
      ]
    },
    {
      "cell_type": "code",
      "metadata": {
        "colab": {
          "base_uri": "https://localhost:8080/",
          "height": 297
        },
        "id": "THtgsbvBp8sQ",
        "outputId": "873ce1cf-9e7b-4a24-af64-eade380c82be"
      },
      "source": [
        "dataset.plot(kind='scatter', x='min_temp',y='consumption')"
      ],
      "execution_count": 12,
      "outputs": [
        {
          "output_type": "execute_result",
          "data": {
            "text/plain": [
              "<matplotlib.axes._subplots.AxesSubplot at 0x7f5c93e36c50>"
            ]
          },
          "metadata": {
            "tags": []
          },
          "execution_count": 12
        },
        {
          "output_type": "display_data",
          "data": {
            "image/png": "[encoded data removed]",
            "text/plain": [
              "<Figure size 432x288 with 1 Axes>"
            ]
          },
          "metadata": {
            "tags": [],
            "needs_background": "light"
          }
        }
      ]
    },
    {
      "cell_type": "code",
      "metadata": {
        "colab": {
          "base_uri": "https://localhost:8080/",
          "height": 297
        },
        "id": "pNJslfvSr5Hx",
        "outputId": "89fc5fb3-da22-461e-b8f2-55a6b2c56dcb"
      },
      "source": [
        "dataset.plot(kind='scatter',x='max_temp',y='consumption')"
      ],
      "execution_count": 13,
      "outputs": [
        {
          "output_type": "execute_result",
          "data": {
            "text/plain": [
              "<matplotlib.axes._subplots.AxesSubplot at 0x7f5c939ddcf8>"
            ]
          },
          "metadata": {
            "tags": []
          },
          "execution_count": 13
        },
        {
          "output_type": "display_data",
          "data": {
            "image/png": "[encoded data removed]",
            "text/plain": [
              "<Figure size 432x288 with 1 Axes>"
            ]
          },
          "metadata": {
            "tags": [],
            "needs_background": "light"
          }
        }
      ]
    },
    {
      "cell_type": "code",
      "metadata": {
        "colab": {
          "base_uri": "https://localhost:8080/",
          "height": 296
        },
        "id": "GSmQnNo6sGIF",
        "outputId": "1f096f0a-2360-4673-edff-628bc85d776b"
      },
      "source": [
        "dataset.plot(kind='scatter',x='precipitation',y='consumption')"
      ],
      "execution_count": 14,
      "outputs": [
        {
          "output_type": "execute_result",
          "data": {
            "text/plain": [
              "<matplotlib.axes._subplots.AxesSubplot at 0x7f5c93e36b70>"
            ]
          },
          "metadata": {
            "tags": []
          },
          "execution_count": 14
        },
        {
          "output_type": "display_data",
          "data": {
            "image/png": "[encoded data removed]",
            "text/plain": [
              "<Figure size 432x288 with 1 Axes>"
            ]
          },
          "metadata": {
            "tags": [],
            "needs_background": "light"
          }
        }
      ]
    },
    {
      "cell_type": "code",
      "metadata": {
        "colab": {
          "base_uri": "https://localhost:8080/",
          "height": 296
        },
        "id": "G9ubC3k6sZid",
        "outputId": "0582aee0-9460-47bd-dfcd-1be24e4ef89b"
      },
      "source": [
        "dataset.plot(kind='scatter',x='isWeekend',y='consumption')"
      ],
      "execution_count": 15,
      "outputs": [
        {
          "output_type": "execute_result",
          "data": {
            "text/plain": [
              "<matplotlib.axes._subplots.AxesSubplot at 0x7f5c9393f128>"
            ]
          },
          "metadata": {
            "tags": []
          },
          "execution_count": 15
        },
        {
          "output_type": "display_data",
          "data": {
            "image/png": "[encoded data removed]",
            "text/plain": [
              "<Figure size 432x288 with 1 Axes>"
            ]
          },
          "metadata": {
            "tags": [],
            "needs_background": "light"
          }
        }
      ]
    },
    {
      "cell_type": "code",
      "metadata": {
        "id": "NxyA4EpKtZmV"
      },
      "source": [
        "from sklearn.linear_model import LinearRegression\r\n",
        "from sklearn.model_selection import train_test_split"
      ],
      "execution_count": 16,
      "outputs": []
    },
    {
      "cell_type": "code",
      "metadata": {
        "id": "rZeqj899tjxg"
      },
      "source": [
        "dataset = dataset.dropna()\r\n",
        "features = ['med_temp', 'precipitation','isWeekend']\r\n",
        "X=dataset[features]\r\n",
        "Y=dataset.consumption\r\n",
        "X_train, X_test, Y_train, Y_Test = train_test_split(X,Y, random_state =1)"
      ],
      "execution_count": 23,
      "outputs": []
    },
    {
      "cell_type": "code",
      "metadata": {
        "id": "SD2vZtJxt0TG"
      },
      "source": [
        "model = LinearRegression() "
      ],
      "execution_count": 24,
      "outputs": []
    },
    {
      "cell_type": "code",
      "metadata": {
        "colab": {
          "base_uri": "https://localhost:8080/"
        },
        "id": "s6MhbQi3Fjrz",
        "outputId": "fee39441-518c-4cdd-83ca-89f7b31d1970"
      },
      "source": [
        "model.fit(X_train,Y_train)"
      ],
      "execution_count": 25,
      "outputs": [
        {
          "output_type": "execute_result",
          "data": {
            "text/plain": [
              "LinearRegression(copy_X=True, fit_intercept=True, n_jobs=None, normalize=False)"
            ]
          },
          "metadata": {
            "tags": []
          },
          "execution_count": 25
        }
      ]
    },
    {
      "cell_type": "code",
      "metadata": {
        "id": "45wlhFXQFsG0"
      },
      "source": [
        "Y_predict = model.predict(X_test)"
      ],
      "execution_count": null,
      "outputs": []
    },
    {
      "cell_type": "code",
      "metadata": {
        "id": "sD_QWQsaFxSL",
        "colab": {
          "base_uri": "https://localhost:8080/"
        },
        "outputId": "aa937d3a-45bb-4ba6-fe82-915887e20c33"
      },
      "source": [
        "print(features, model.coef_)"
      ],
      "execution_count": 27,
      "outputs": [
        {
          "output_type": "stream",
          "text": [
            "['med_temp', 'precipitation', 'isWeekend'] [ 0.83046685 -0.0789426   5.3128114 ]\n"
          ],
          "name": "stdout"
        }
      ]
    },
    {
      "cell_type": "code",
      "metadata": {
        "id": "UNnBeRQ_ywyj",
        "colab": {
          "base_uri": "https://localhost:8080/"
        },
        "outputId": "a8434f56-3e92-49ae-c8bf-54638c95400e"
      },
      "source": [
        "model.score(X_test,Y_Test)"
      ],
      "execution_count": 28,
      "outputs": [
        {
          "output_type": "execute_result",
          "data": {
            "text/plain": [
              "0.6376428998276019"
            ]
          },
          "metadata": {
            "tags": []
          },
          "execution_count": 28
        }
      ]
    }
  ]
}