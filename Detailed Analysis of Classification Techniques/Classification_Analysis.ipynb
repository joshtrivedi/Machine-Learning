{
  "nbformat": 4,
  "nbformat_minor": 0,
  "metadata": {
    "colab": {
      "name": "Classification-Analysis.ipynb",
      "provenance": [],
      "collapsed_sections": [],
      "authorship_tag": "ABX9TyP7Ykn+PpNmJYM0Zmt3uHBQ",
      "include_colab_link": true
    },
    "kernelspec": {
      "name": "python3",
      "display_name": "Python 3"
    },
    "language_info": {
      "name": "python"
    }
  },
  "cells": [
    {
      "cell_type": "markdown",
      "metadata": {
        "id": "view-in-github",
        "colab_type": "text"
      },
      "source": [
        "<a href=\"https://colab.research.google.com/github/joshtrivedi/Machine-Learning/blob/main/Detailed%20Analysis%20of%20Classification%20Techniques/Classification_Analysis.ipynb\" target=\"_parent\"><img src=\"https://colab.research.google.com/assets/colab-badge.svg\" alt=\"Open In Colab\"/></a>"
      ]
    },
    {
      "cell_type": "markdown",
      "metadata": {
        "id": "_R4VoogVI6mB"
      },
      "source": [
        "#Classification Analysis\n",
        "\n"
      ]
    },
    {
      "cell_type": "markdown",
      "metadata": {
        "id": "y09WP0_DURWB"
      },
      "source": [
        "##Dataset : cars.data"
      ]
    },
    {
      "cell_type": "markdown",
      "metadata": {
        "id": "Q61H2jnLJTdw"
      },
      "source": [
        "### **Dataset breakdown**\n",
        "---\n",
        "***Attributes:***\n",
        "\n",
        "   **CAR:**                      car acceptability\n",
        "\n",
        "   **PRICE**:                  overall price\n",
        "\n",
        "   **buying:**               buying price\n",
        "\n",
        "   **maint:**                price of the maintenance\n",
        "\n",
        "   **TECH:**                   technical characteristics\n",
        "\n",
        "   **COMFORT:**              comfort\n",
        "\n",
        "   **doors:**              number of doors\n",
        "\n",
        "   **persons:**            capacity in terms of persons to carry\n",
        "\n",
        "   **lug_boot:**           the size of luggage boot\n",
        "\n",
        "   **safety:**               estimated safety of the car\n",
        "  \n",
        "***Missing Attribute Values:*** none\n",
        "----\n",
        "***Class Distribution (number of instances per class)***\n",
        "----\n",
        "\n",
        "   **class:**      N          N[%]\n",
        "\n",
        "   **unacc:**     1210     (70.023 %) \n",
        "\n",
        "   **acc:**        384     (22.222 %) \n",
        "\n",
        "   **good:**       69     ( 3.993 %) \n",
        "\n",
        "   **v-good:**      65     ( 3.762 %) \n",
        "\n",
        "***Number of Instances:*** 1728\n",
        "---\n",
        "***Number of Attributes:*** 6\n",
        "---\n",
        "***Attribute Values:***\n",
        "---\n",
        "   **buying:**       v-high, high, med, low\n",
        "\n",
        "   **maint:**        v-high, high, med, low\n",
        "\n",
        "   **doors:**        2, 3, 4, 5-more\n",
        "\n",
        "   **persons:**      2, 4, more\n",
        "\n",
        "   **lug_boot:**     small, med, big\n",
        "\n",
        "   **safety:**       low, med, high\n",
        "\n"
      ]
    },
    {
      "cell_type": "markdown",
      "metadata": {
        "id": "AdiZNAEcLf_l"
      },
      "source": [
        "##Importing Libraries"
      ]
    },
    {
      "cell_type": "code",
      "metadata": {
        "id": "eZTpj8yMUOeE"
      },
      "source": [
        "import numpy as np\n",
        "import pandas as pd\n",
        "import random\n",
        "import matplotlib.pyplot as plt\n",
        "import matplotlib"
      ],
      "execution_count": 397,
      "outputs": []
    },
    {
      "cell_type": "code",
      "metadata": {
        "id": "PMqb7iP2Vb2Q"
      },
      "source": [
        "from google.colab import drive"
      ],
      "execution_count": 398,
      "outputs": []
    },
    {
      "cell_type": "code",
      "metadata": {
        "colab": {
          "base_uri": "https://localhost:8080/"
        },
        "id": "P6MXR2mYV9-d",
        "outputId": "e5a3d11c-e47e-4e7f-aa3b-86e635c33e79"
      },
      "source": [
        "drive.mount('/content/drive')"
      ],
      "execution_count": 399,
      "outputs": [
        {
          "output_type": "stream",
          "text": [
            "Drive already mounted at /content/drive; to attempt to forcibly remount, call drive.mount(\"/content/drive\", force_remount=True).\n"
          ],
          "name": "stdout"
        }
      ]
    },
    {
      "cell_type": "code",
      "metadata": {
        "colab": {
          "base_uri": "https://localhost:8080/"
        },
        "id": "Ek_vV1UZWYac",
        "outputId": "b9e9d8f5-d63d-43a8-90fd-df0dedb9ab27"
      },
      "source": [
        "cd /content/drive/\"My Drive/datasets\""
      ],
      "execution_count": 400,
      "outputs": [
        {
          "output_type": "stream",
          "text": [
            "/content/drive/My Drive/datasets\n"
          ],
          "name": "stdout"
        }
      ]
    },
    {
      "cell_type": "code",
      "metadata": {
        "id": "QJLBrRdzXATE"
      },
      "source": [
        "dataset = pd.read_csv('car.data')"
      ],
      "execution_count": 401,
      "outputs": []
    },
    {
      "cell_type": "code",
      "metadata": {
        "colab": {
          "base_uri": "https://localhost:8080/",
          "height": 0
        },
        "id": "QwGjQPmRXF39",
        "outputId": "89f1075a-7751-465f-b76c-21fd25701eb8"
      },
      "source": [
        "dataset"
      ],
      "execution_count": 402,
      "outputs": [
        {
          "output_type": "execute_result",
          "data": {
            "text/html": [
              "<div>\n",
              "<style scoped>\n",
              "    .dataframe tbody tr th:only-of-type {\n",
              "        vertical-align: middle;\n",
              "    }\n",
              "\n",
              "    .dataframe tbody tr th {\n",
              "        vertical-align: top;\n",
              "    }\n",
              "\n",
              "    .dataframe thead th {\n",
              "        text-align: right;\n",
              "    }\n",
              "</style>\n",
              "<table border=\"1\" class=\"dataframe\">\n",
              "  <thead>\n",
              "    <tr style=\"text-align: right;\">\n",
              "      <th></th>\n",
              "      <th>vhigh</th>\n",
              "      <th>vhigh.1</th>\n",
              "      <th>2</th>\n",
              "      <th>2.1</th>\n",
              "      <th>small</th>\n",
              "      <th>low</th>\n",
              "      <th>unacc</th>\n",
              "    </tr>\n",
              "  </thead>\n",
              "  <tbody>\n",
              "    <tr>\n",
              "      <th>0</th>\n",
              "      <td>vhigh</td>\n",
              "      <td>vhigh</td>\n",
              "      <td>2</td>\n",
              "      <td>2</td>\n",
              "      <td>small</td>\n",
              "      <td>med</td>\n",
              "      <td>unacc</td>\n",
              "    </tr>\n",
              "    <tr>\n",
              "      <th>1</th>\n",
              "      <td>vhigh</td>\n",
              "      <td>vhigh</td>\n",
              "      <td>2</td>\n",
              "      <td>2</td>\n",
              "      <td>small</td>\n",
              "      <td>high</td>\n",
              "      <td>unacc</td>\n",
              "    </tr>\n",
              "    <tr>\n",
              "      <th>2</th>\n",
              "      <td>vhigh</td>\n",
              "      <td>vhigh</td>\n",
              "      <td>2</td>\n",
              "      <td>2</td>\n",
              "      <td>med</td>\n",
              "      <td>low</td>\n",
              "      <td>unacc</td>\n",
              "    </tr>\n",
              "    <tr>\n",
              "      <th>3</th>\n",
              "      <td>vhigh</td>\n",
              "      <td>vhigh</td>\n",
              "      <td>2</td>\n",
              "      <td>2</td>\n",
              "      <td>med</td>\n",
              "      <td>med</td>\n",
              "      <td>unacc</td>\n",
              "    </tr>\n",
              "    <tr>\n",
              "      <th>4</th>\n",
              "      <td>vhigh</td>\n",
              "      <td>vhigh</td>\n",
              "      <td>2</td>\n",
              "      <td>2</td>\n",
              "      <td>med</td>\n",
              "      <td>high</td>\n",
              "      <td>unacc</td>\n",
              "    </tr>\n",
              "    <tr>\n",
              "      <th>...</th>\n",
              "      <td>...</td>\n",
              "      <td>...</td>\n",
              "      <td>...</td>\n",
              "      <td>...</td>\n",
              "      <td>...</td>\n",
              "      <td>...</td>\n",
              "      <td>...</td>\n",
              "    </tr>\n",
              "    <tr>\n",
              "      <th>1722</th>\n",
              "      <td>low</td>\n",
              "      <td>low</td>\n",
              "      <td>5more</td>\n",
              "      <td>more</td>\n",
              "      <td>med</td>\n",
              "      <td>med</td>\n",
              "      <td>good</td>\n",
              "    </tr>\n",
              "    <tr>\n",
              "      <th>1723</th>\n",
              "      <td>low</td>\n",
              "      <td>low</td>\n",
              "      <td>5more</td>\n",
              "      <td>more</td>\n",
              "      <td>med</td>\n",
              "      <td>high</td>\n",
              "      <td>vgood</td>\n",
              "    </tr>\n",
              "    <tr>\n",
              "      <th>1724</th>\n",
              "      <td>low</td>\n",
              "      <td>low</td>\n",
              "      <td>5more</td>\n",
              "      <td>more</td>\n",
              "      <td>big</td>\n",
              "      <td>low</td>\n",
              "      <td>unacc</td>\n",
              "    </tr>\n",
              "    <tr>\n",
              "      <th>1725</th>\n",
              "      <td>low</td>\n",
              "      <td>low</td>\n",
              "      <td>5more</td>\n",
              "      <td>more</td>\n",
              "      <td>big</td>\n",
              "      <td>med</td>\n",
              "      <td>good</td>\n",
              "    </tr>\n",
              "    <tr>\n",
              "      <th>1726</th>\n",
              "      <td>low</td>\n",
              "      <td>low</td>\n",
              "      <td>5more</td>\n",
              "      <td>more</td>\n",
              "      <td>big</td>\n",
              "      <td>high</td>\n",
              "      <td>vgood</td>\n",
              "    </tr>\n",
              "  </tbody>\n",
              "</table>\n",
              "<p>1727 rows × 7 columns</p>\n",
              "</div>"
            ],
            "text/plain": [
              "      vhigh vhigh.1      2   2.1  small   low  unacc\n",
              "0     vhigh   vhigh      2     2  small   med  unacc\n",
              "1     vhigh   vhigh      2     2  small  high  unacc\n",
              "2     vhigh   vhigh      2     2    med   low  unacc\n",
              "3     vhigh   vhigh      2     2    med   med  unacc\n",
              "4     vhigh   vhigh      2     2    med  high  unacc\n",
              "...     ...     ...    ...   ...    ...   ...    ...\n",
              "1722    low     low  5more  more    med   med   good\n",
              "1723    low     low  5more  more    med  high  vgood\n",
              "1724    low     low  5more  more    big   low  unacc\n",
              "1725    low     low  5more  more    big   med   good\n",
              "1726    low     low  5more  more    big  high  vgood\n",
              "\n",
              "[1727 rows x 7 columns]"
            ]
          },
          "metadata": {
            "tags": []
          },
          "execution_count": 402
        }
      ]
    },
    {
      "cell_type": "markdown",
      "metadata": {
        "id": "ZsXsMcNsLmms"
      },
      "source": [
        "## Data Pre-processing "
      ]
    },
    {
      "cell_type": "code",
      "metadata": {
        "colab": {
          "base_uri": "https://localhost:8080/"
        },
        "id": "oyHTBWyaXNA8",
        "outputId": "0a9c35b0-72c5-42c5-bfc6-107dcccf0ac0"
      },
      "source": [
        "dataset.head"
      ],
      "execution_count": 403,
      "outputs": [
        {
          "output_type": "execute_result",
          "data": {
            "text/plain": [
              "<bound method NDFrame.head of       vhigh vhigh.1      2   2.1  small   low  unacc\n",
              "0     vhigh   vhigh      2     2  small   med  unacc\n",
              "1     vhigh   vhigh      2     2  small  high  unacc\n",
              "2     vhigh   vhigh      2     2    med   low  unacc\n",
              "3     vhigh   vhigh      2     2    med   med  unacc\n",
              "4     vhigh   vhigh      2     2    med  high  unacc\n",
              "...     ...     ...    ...   ...    ...   ...    ...\n",
              "1722    low     low  5more  more    med   med   good\n",
              "1723    low     low  5more  more    med  high  vgood\n",
              "1724    low     low  5more  more    big   low  unacc\n",
              "1725    low     low  5more  more    big   med   good\n",
              "1726    low     low  5more  more    big  high  vgood\n",
              "\n",
              "[1727 rows x 7 columns]>"
            ]
          },
          "metadata": {
            "tags": []
          },
          "execution_count": 403
        }
      ]
    },
    {
      "cell_type": "code",
      "metadata": {
        "colab": {
          "base_uri": "https://localhost:8080/"
        },
        "id": "-aC6824-XzYE",
        "outputId": "0e2b2791-0bfd-45b6-ca2d-6d47906899a8"
      },
      "source": [
        "dataset.shape"
      ],
      "execution_count": 404,
      "outputs": [
        {
          "output_type": "execute_result",
          "data": {
            "text/plain": [
              "(1727, 7)"
            ]
          },
          "metadata": {
            "tags": []
          },
          "execution_count": 404
        }
      ]
    },
    {
      "cell_type": "code",
      "metadata": {
        "colab": {
          "base_uri": "https://localhost:8080/"
        },
        "id": "Z0JmlcQbZbJU",
        "outputId": "77ae2872-46fa-4b7d-ccd2-1d735d574771"
      },
      "source": [
        "dataset.info()"
      ],
      "execution_count": 405,
      "outputs": [
        {
          "output_type": "stream",
          "text": [
            "<class 'pandas.core.frame.DataFrame'>\n",
            "RangeIndex: 1727 entries, 0 to 1726\n",
            "Data columns (total 7 columns):\n",
            " #   Column   Non-Null Count  Dtype \n",
            "---  ------   --------------  ----- \n",
            " 0   vhigh    1727 non-null   object\n",
            " 1   vhigh.1  1727 non-null   object\n",
            " 2   2        1727 non-null   object\n",
            " 3   2.1      1727 non-null   object\n",
            " 4   small    1727 non-null   object\n",
            " 5   low      1727 non-null   object\n",
            " 6   unacc    1727 non-null   object\n",
            "dtypes: object(7)\n",
            "memory usage: 94.6+ KB\n"
          ],
          "name": "stdout"
        }
      ]
    },
    {
      "cell_type": "code",
      "metadata": {
        "colab": {
          "base_uri": "https://localhost:8080/"
        },
        "id": "oYsuieo7X1A8",
        "outputId": "918521e4-6e8d-40ff-c7d8-9dcc56e258eb"
      },
      "source": [
        "dataset.isnull().any()"
      ],
      "execution_count": 406,
      "outputs": [
        {
          "output_type": "execute_result",
          "data": {
            "text/plain": [
              "vhigh      False\n",
              "vhigh.1    False\n",
              "2          False\n",
              "2.1        False\n",
              "small      False\n",
              "low        False\n",
              "unacc      False\n",
              "dtype: bool"
            ]
          },
          "metadata": {
            "tags": []
          },
          "execution_count": 406
        }
      ]
    },
    {
      "cell_type": "code",
      "metadata": {
        "id": "diS7qOXwZzgb"
      },
      "source": [
        "dataset.columns = ['Price', 'Maintenance Cost', 'Number of Doors', 'Capacity',\n",
        "       'Size of Luggage Boot', 'safety', 'Decision']"
      ],
      "execution_count": 407,
      "outputs": []
    },
    {
      "cell_type": "markdown",
      "metadata": {
        "id": "KqgXSMJfLtA2"
      },
      "source": [
        "### Turning data into numerical features (0-5)"
      ]
    },
    {
      "cell_type": "code",
      "metadata": {
        "id": "V9oRuCfiaFgD",
        "colab": {
          "base_uri": "https://localhost:8080/"
        },
        "outputId": "0a4ffddd-5c58-4e25-83f5-e84e3069f7df"
      },
      "source": [
        "dataset['Decision'].value_counts().sort_index()"
      ],
      "execution_count": 408,
      "outputs": [
        {
          "output_type": "execute_result",
          "data": {
            "text/plain": [
              "acc       384\n",
              "good       69\n",
              "unacc    1209\n",
              "vgood      65\n",
              "Name: Decision, dtype: int64"
            ]
          },
          "metadata": {
            "tags": []
          },
          "execution_count": 408
        }
      ]
    },
    {
      "cell_type": "code",
      "metadata": {
        "id": "Pv1n8wvGZqxE"
      },
      "source": [
        "dataset.Decision.replace(('unacc', 'acc', 'good', 'vgood'), (0, 1, 2, 3), inplace = True)"
      ],
      "execution_count": 409,
      "outputs": []
    },
    {
      "cell_type": "code",
      "metadata": {
        "colab": {
          "base_uri": "https://localhost:8080/"
        },
        "id": "ORERedptZ_Et",
        "outputId": "3bfee37d-fe48-4d31-abbf-b11937b6d7fb"
      },
      "source": [
        "dataset['Decision'].value_counts()"
      ],
      "execution_count": 410,
      "outputs": [
        {
          "output_type": "execute_result",
          "data": {
            "text/plain": [
              "0    1209\n",
              "1     384\n",
              "2      69\n",
              "3      65\n",
              "Name: Decision, dtype: int64"
            ]
          },
          "metadata": {
            "tags": []
          },
          "execution_count": 410
        }
      ]
    },
    {
      "cell_type": "code",
      "metadata": {
        "colab": {
          "base_uri": "https://localhost:8080/"
        },
        "id": "E36LsDiyaEfr",
        "outputId": "8226a0dc-2020-42aa-aa3f-debda1a9a0bc"
      },
      "source": [
        "dataset['Size of Luggage Boot'].value_counts().sort_index()"
      ],
      "execution_count": 411,
      "outputs": [
        {
          "output_type": "execute_result",
          "data": {
            "text/plain": [
              "big      576\n",
              "med      576\n",
              "small    575\n",
              "Name: Size of Luggage Boot, dtype: int64"
            ]
          },
          "metadata": {
            "tags": []
          },
          "execution_count": 411
        }
      ]
    },
    {
      "cell_type": "code",
      "metadata": {
        "id": "VupUZHouaLkb"
      },
      "source": [
        "dataset['Size of Luggage Boot'].replace(('small', 'med', 'big'), (0, 1, 2), inplace = True)"
      ],
      "execution_count": 412,
      "outputs": []
    },
    {
      "cell_type": "code",
      "metadata": {
        "colab": {
          "base_uri": "https://localhost:8080/"
        },
        "id": "CMxV7ddkaO0k",
        "outputId": "bde2310f-bcfd-488f-f3f6-14706b4a3122"
      },
      "source": [
        "dataset['Size of Luggage Boot'].value_counts()"
      ],
      "execution_count": 413,
      "outputs": [
        {
          "output_type": "execute_result",
          "data": {
            "text/plain": [
              "2    576\n",
              "1    576\n",
              "0    575\n",
              "Name: Size of Luggage Boot, dtype: int64"
            ]
          },
          "metadata": {
            "tags": []
          },
          "execution_count": 413
        }
      ]
    },
    {
      "cell_type": "code",
      "metadata": {
        "colab": {
          "base_uri": "https://localhost:8080/"
        },
        "id": "MfoHDR43aHU8",
        "outputId": "da8cdfa8-0d28-402a-9162-8f4218d28a06"
      },
      "source": [
        "dataset['safety'].value_counts().sort_index()"
      ],
      "execution_count": 414,
      "outputs": [
        {
          "output_type": "execute_result",
          "data": {
            "text/plain": [
              "high    576\n",
              "low     575\n",
              "med     576\n",
              "Name: safety, dtype: int64"
            ]
          },
          "metadata": {
            "tags": []
          },
          "execution_count": 414
        }
      ]
    },
    {
      "cell_type": "code",
      "metadata": {
        "id": "4TwLVITJacws"
      },
      "source": [
        "dataset['safety'].replace(('low', 'med', 'high'), (0, 1, 2), inplace = True)"
      ],
      "execution_count": 415,
      "outputs": []
    },
    {
      "cell_type": "code",
      "metadata": {
        "colab": {
          "base_uri": "https://localhost:8080/"
        },
        "id": "P2-qXEIRag4E",
        "outputId": "3a502ec4-79fc-4c4e-a995-929920f88943"
      },
      "source": [
        "dataset['safety'].value_counts()"
      ],
      "execution_count": 416,
      "outputs": [
        {
          "output_type": "execute_result",
          "data": {
            "text/plain": [
              "2    576\n",
              "1    576\n",
              "0    575\n",
              "Name: safety, dtype: int64"
            ]
          },
          "metadata": {
            "tags": []
          },
          "execution_count": 416
        }
      ]
    },
    {
      "cell_type": "code",
      "metadata": {
        "colab": {
          "base_uri": "https://localhost:8080/"
        },
        "id": "0JGtTaJzalQ3",
        "outputId": "f80b3e50-e728-4116-976c-6e0b025b066b"
      },
      "source": [
        "dataset['Price'].value_counts().sort_index()"
      ],
      "execution_count": 417,
      "outputs": [
        {
          "output_type": "execute_result",
          "data": {
            "text/plain": [
              "high     432\n",
              "low      432\n",
              "med      432\n",
              "vhigh    431\n",
              "Name: Price, dtype: int64"
            ]
          },
          "metadata": {
            "tags": []
          },
          "execution_count": 417
        }
      ]
    },
    {
      "cell_type": "code",
      "metadata": {
        "id": "YQBbI41WavVm"
      },
      "source": [
        "dataset['Price'].replace(('low','med','high','vhigh'),(0,1,2,3), inplace = True)"
      ],
      "execution_count": 418,
      "outputs": []
    },
    {
      "cell_type": "code",
      "metadata": {
        "colab": {
          "base_uri": "https://localhost:8080/"
        },
        "id": "s6XMfoRAbVC6",
        "outputId": "75827cbc-30cd-4fc8-9df4-002dead899d6"
      },
      "source": [
        "dataset['Price'].value_counts()"
      ],
      "execution_count": 419,
      "outputs": [
        {
          "output_type": "execute_result",
          "data": {
            "text/plain": [
              "2    432\n",
              "1    432\n",
              "0    432\n",
              "3    431\n",
              "Name: Price, dtype: int64"
            ]
          },
          "metadata": {
            "tags": []
          },
          "execution_count": 419
        }
      ]
    },
    {
      "cell_type": "code",
      "metadata": {
        "colab": {
          "base_uri": "https://localhost:8080/"
        },
        "id": "VHdOiKL0bfl9",
        "outputId": "a4c21a10-fe7d-4303-a035-0480aa99a67a"
      },
      "source": [
        "dataset['Maintenance Cost'].value_counts().sort_index()"
      ],
      "execution_count": 420,
      "outputs": [
        {
          "output_type": "execute_result",
          "data": {
            "text/plain": [
              "high     432\n",
              "low      432\n",
              "med      432\n",
              "vhigh    431\n",
              "Name: Maintenance Cost, dtype: int64"
            ]
          },
          "metadata": {
            "tags": []
          },
          "execution_count": 420
        }
      ]
    },
    {
      "cell_type": "code",
      "metadata": {
        "id": "7DvQ8R2AbzXD"
      },
      "source": [
        "dataset['Maintenance Cost'].replace(('low','med','high','vhigh'),(0,1,2,3), inplace = True)"
      ],
      "execution_count": 421,
      "outputs": []
    },
    {
      "cell_type": "code",
      "metadata": {
        "colab": {
          "base_uri": "https://localhost:8080/"
        },
        "id": "_Mirn0gOcBBj",
        "outputId": "5f2fe9d5-932d-4f6d-f9d1-992cf5d57eb9"
      },
      "source": [
        "dataset['Maintenance Cost'].value_counts()"
      ],
      "execution_count": 422,
      "outputs": [
        {
          "output_type": "execute_result",
          "data": {
            "text/plain": [
              "2    432\n",
              "1    432\n",
              "0    432\n",
              "3    431\n",
              "Name: Maintenance Cost, dtype: int64"
            ]
          },
          "metadata": {
            "tags": []
          },
          "execution_count": 422
        }
      ]
    },
    {
      "cell_type": "code",
      "metadata": {
        "colab": {
          "base_uri": "https://localhost:8080/"
        },
        "id": "0400XLBkcIm6",
        "outputId": "45ea8af2-ba9f-4ff0-ed3d-b5a41091b471"
      },
      "source": [
        "dataset['Number of Doors'].value_counts()"
      ],
      "execution_count": 423,
      "outputs": [
        {
          "output_type": "execute_result",
          "data": {
            "text/plain": [
              "5more    432\n",
              "4        432\n",
              "3        432\n",
              "2        431\n",
              "Name: Number of Doors, dtype: int64"
            ]
          },
          "metadata": {
            "tags": []
          },
          "execution_count": 423
        }
      ]
    },
    {
      "cell_type": "code",
      "metadata": {
        "id": "XicrkoHhcWZS"
      },
      "source": [
        "dataset['Number of Doors'].replace('5more',5, inplace = True)"
      ],
      "execution_count": 424,
      "outputs": []
    },
    {
      "cell_type": "code",
      "metadata": {
        "colab": {
          "base_uri": "https://localhost:8080/"
        },
        "id": "MdFFdyWSceIK",
        "outputId": "05cc2fb2-a83c-4a0d-fb68-55473876d9a0"
      },
      "source": [
        "dataset['Number of Doors'].value_counts()"
      ],
      "execution_count": 425,
      "outputs": [
        {
          "output_type": "execute_result",
          "data": {
            "text/plain": [
              "4    432\n",
              "3    432\n",
              "5    432\n",
              "2    431\n",
              "Name: Number of Doors, dtype: int64"
            ]
          },
          "metadata": {
            "tags": []
          },
          "execution_count": 425
        }
      ]
    },
    {
      "cell_type": "code",
      "metadata": {
        "colab": {
          "base_uri": "https://localhost:8080/"
        },
        "id": "JHVBTgEScmbR",
        "outputId": "fe4cdb29-8be5-402b-9662-6c2d05e59ebe"
      },
      "source": [
        "dataset['Capacity'].value_counts()"
      ],
      "execution_count": 426,
      "outputs": [
        {
          "output_type": "execute_result",
          "data": {
            "text/plain": [
              "more    576\n",
              "4       576\n",
              "2       575\n",
              "Name: Capacity, dtype: int64"
            ]
          },
          "metadata": {
            "tags": []
          },
          "execution_count": 426
        }
      ]
    },
    {
      "cell_type": "code",
      "metadata": {
        "id": "XLZSjvOccrCi"
      },
      "source": [
        "dataset['Capacity'].replace('more',5, inplace = True)"
      ],
      "execution_count": 427,
      "outputs": []
    },
    {
      "cell_type": "code",
      "metadata": {
        "colab": {
          "base_uri": "https://localhost:8080/"
        },
        "id": "1bpf5i6rc0QD",
        "outputId": "c42918ea-a97a-40a8-addb-02cb5bce126b"
      },
      "source": [
        "dataset['Capacity'].value_counts()"
      ],
      "execution_count": 428,
      "outputs": [
        {
          "output_type": "execute_result",
          "data": {
            "text/plain": [
              "4    576\n",
              "5    576\n",
              "2    575\n",
              "Name: Capacity, dtype: int64"
            ]
          },
          "metadata": {
            "tags": []
          },
          "execution_count": 428
        }
      ]
    },
    {
      "cell_type": "code",
      "metadata": {
        "id": "RWI6Kdsic5Ki",
        "colab": {
          "base_uri": "https://localhost:8080/"
        },
        "outputId": "2543c5bd-2080-4a3b-ea0c-b686c729b95f"
      },
      "source": [
        "dataset.info()"
      ],
      "execution_count": 429,
      "outputs": [
        {
          "output_type": "stream",
          "text": [
            "<class 'pandas.core.frame.DataFrame'>\n",
            "RangeIndex: 1727 entries, 0 to 1726\n",
            "Data columns (total 7 columns):\n",
            " #   Column                Non-Null Count  Dtype \n",
            "---  ------                --------------  ----- \n",
            " 0   Price                 1727 non-null   int64 \n",
            " 1   Maintenance Cost      1727 non-null   int64 \n",
            " 2   Number of Doors       1727 non-null   object\n",
            " 3   Capacity              1727 non-null   object\n",
            " 4   Size of Luggage Boot  1727 non-null   int64 \n",
            " 5   safety                1727 non-null   int64 \n",
            " 6   Decision              1727 non-null   int64 \n",
            "dtypes: int64(5), object(2)\n",
            "memory usage: 94.6+ KB\n"
          ],
          "name": "stdout"
        }
      ]
    },
    {
      "cell_type": "code",
      "metadata": {
        "id": "NRS8fFeq-MBG"
      },
      "source": [
        "dataset['Number of Doors'] = dataset['Number of Doors'].astype(int)\n",
        "dataset['Capacity'] = dataset['Capacity'].astype(int)"
      ],
      "execution_count": 430,
      "outputs": []
    },
    {
      "cell_type": "code",
      "metadata": {
        "colab": {
          "base_uri": "https://localhost:8080/"
        },
        "id": "Oi8OzS-Z-TTY",
        "outputId": "18b1eb2a-c7e9-4dac-9fe1-08b40b9ae16b"
      },
      "source": [
        "dataset.info()"
      ],
      "execution_count": 431,
      "outputs": [
        {
          "output_type": "stream",
          "text": [
            "<class 'pandas.core.frame.DataFrame'>\n",
            "RangeIndex: 1727 entries, 0 to 1726\n",
            "Data columns (total 7 columns):\n",
            " #   Column                Non-Null Count  Dtype\n",
            "---  ------                --------------  -----\n",
            " 0   Price                 1727 non-null   int64\n",
            " 1   Maintenance Cost      1727 non-null   int64\n",
            " 2   Number of Doors       1727 non-null   int64\n",
            " 3   Capacity              1727 non-null   int64\n",
            " 4   Size of Luggage Boot  1727 non-null   int64\n",
            " 5   safety                1727 non-null   int64\n",
            " 6   Decision              1727 non-null   int64\n",
            "dtypes: int64(7)\n",
            "memory usage: 94.6 KB\n"
          ],
          "name": "stdout"
        }
      ]
    },
    {
      "cell_type": "code",
      "metadata": {
        "id": "dL-uE-EVYCyc"
      },
      "source": [
        "# splitting the dataset into dependent and independent variables\n",
        "X = dataset.iloc[:,:6].values\n",
        "y = dataset.iloc[:, 6].values"
      ],
      "execution_count": 432,
      "outputs": []
    },
    {
      "cell_type": "code",
      "metadata": {
        "colab": {
          "base_uri": "https://localhost:8080/"
        },
        "id": "GSQJgxFyYO7c",
        "outputId": "50028833-c2c7-4601-9459-9c2f7676d3c8"
      },
      "source": [
        "X"
      ],
      "execution_count": 433,
      "outputs": [
        {
          "output_type": "execute_result",
          "data": {
            "text/plain": [
              "array([[3, 3, 2, 2, 0, 1],\n",
              "       [3, 3, 2, 2, 0, 2],\n",
              "       [3, 3, 2, 2, 1, 0],\n",
              "       ...,\n",
              "       [0, 0, 5, 5, 2, 0],\n",
              "       [0, 0, 5, 5, 2, 1],\n",
              "       [0, 0, 5, 5, 2, 2]])"
            ]
          },
          "metadata": {
            "tags": []
          },
          "execution_count": 433
        }
      ]
    },
    {
      "cell_type": "code",
      "metadata": {
        "colab": {
          "base_uri": "https://localhost:8080/"
        },
        "id": "LiHO0KviYRQ_",
        "outputId": "361cd058-2e71-45e7-a07d-bc8211a3a98e"
      },
      "source": [
        "y"
      ],
      "execution_count": 434,
      "outputs": [
        {
          "output_type": "execute_result",
          "data": {
            "text/plain": [
              "array([0, 0, 0, ..., 0, 2, 3])"
            ]
          },
          "metadata": {
            "tags": []
          },
          "execution_count": 434
        }
      ]
    },
    {
      "cell_type": "markdown",
      "metadata": {
        "id": "j3TCw-UMUZQK"
      },
      "source": [
        "###Performing Algorithms "
      ]
    },
    {
      "cell_type": "code",
      "metadata": {
        "colab": {
          "base_uri": "https://localhost:8080/"
        },
        "id": "qq-61xUQYSXD",
        "outputId": "187f6f17-9962-4948-eb58-f29395187df1"
      },
      "source": [
        "#dataset.Decision.replace((0,1,2,3),(0,0,1,1), inplace = True)\n",
        "# splitting the dataset into train and test sets\n",
        "from sklearn.model_selection import train_test_split\n",
        "\n",
        "x_train, x_test, y_train, y_test = train_test_split(X, y, test_size = 0.15, random_state = 0)\n",
        "\n",
        "print(\"Shape of x_train: \", x_train.shape)\n",
        "print(\"Shape of y_train: \", y_train.shape)\n",
        "print(\"shape of x_test: \", x_test.shape)\n",
        "print(\"shape of y_test: \", y_test.shape)"
      ],
      "execution_count": 435,
      "outputs": [
        {
          "output_type": "stream",
          "text": [
            "Shape of x_train:  (1467, 6)\n",
            "Shape of y_train:  (1467,)\n",
            "shape of x_test:  (260, 6)\n",
            "shape of y_test:  (260,)\n"
          ],
          "name": "stdout"
        }
      ]
    },
    {
      "cell_type": "code",
      "metadata": {
        "id": "majaFmavZDDE"
      },
      "source": [
        "# standardization\n",
        "\n",
        "from sklearn.preprocessing import StandardScaler\n",
        "\n",
        "sc = StandardScaler()\n",
        "\n",
        "x_train = sc.fit_transform(x_train)\n",
        "x_test = sc.transform(x_test)"
      ],
      "execution_count": 436,
      "outputs": []
    },
    {
      "cell_type": "code",
      "metadata": {
        "colab": {
          "base_uri": "https://localhost:8080/"
        },
        "id": "EIoOmMlHc_gT",
        "outputId": "3e394ad6-ec22-4193-ddae-74cd6b8dbcbb"
      },
      "source": [
        "#Random Forest \n",
        "#importing libraries\n",
        "from sklearn.ensemble import RandomForestClassifier\n",
        "from sklearn.metrics import confusion_matrix\n",
        "\n",
        "# creating a model\n",
        "model = RandomForestClassifier()\n",
        "# feeding the training data into the model\n",
        "model.fit(x_train, y_train)\n",
        "\n",
        "# predicting the values for x-test\n",
        "y_pred = model.predict(x_test)\n",
        "\n",
        "# finding the training and testing accuracy\n",
        "print(\"Training Accuracy: \",model.score(x_train, y_train))\n",
        "print(\"Testing Accuracy: \", model.score(x_test, y_test))\n",
        "print(\"Precision:\",metrics.precision_score(y_test, y_pred,average='macro'))\n",
        "print(\"Recall:\",metrics.recall_score(y_test, y_pred,average='macro'))\n",
        "\n",
        "# printing the confusion Matrix\n",
        "cm = confusion_matrix(y_test, y_pred)\n",
        "print(cm)"
      ],
      "execution_count": 437,
      "outputs": [
        {
          "output_type": "stream",
          "text": [
            "Training Accuracy:  1.0\n",
            "Testing Accuracy:  0.9769230769230769\n",
            "Precision: 0.8828983516483517\n",
            "Recall: 0.8705357142857143\n",
            "[[184   0   0   0]\n",
            " [  0  55   1   0]\n",
            " [  0   0   6   4]\n",
            " [  0   1   0   9]]\n"
          ],
          "name": "stdout"
        }
      ]
    },
    {
      "cell_type": "code",
      "metadata": {
        "colab": {
          "base_uri": "https://localhost:8080/"
        },
        "id": "ymJsUkDHM4b1",
        "outputId": "4b75e3e6-b107-46ae-8f38-95cd2171e8d0"
      },
      "source": [
        "#Decision Tree\n",
        "#importing libraries\n",
        "from sklearn.tree import DecisionTreeClassifier\n",
        "from sklearn.metrics import confusion_matrix\n",
        "max_d = 22\n",
        "dec_tree_training_accuracies = []\n",
        "dec_tree_testing_accuracies = [] \n",
        "for i in range(2,max_d):\n",
        "\n",
        "  # creating a model\n",
        "  model = DecisionTreeClassifier(max_depth = i-1)\n",
        "  # feeding the training data into the model\n",
        "  model.fit(x_train, y_train)\n",
        "\n",
        "  # predicting the values for x-test\n",
        "  y_pred = model.predict(x_test)\n",
        "\n",
        "  # finding the training and testing accuracy\n",
        "  print(\"For Max Depth = \",i,\" Decision Tree ->\")\n",
        "  print(\"Training Accuracy: \",model.score(x_train, y_train))\n",
        "  print(\"Testing Accuracy: \",model.score(x_test, y_test))\n",
        "  print(\"Precision:\",metrics.precision_score(y_test, y_pred,average='macro'))\n",
        "  print(\"Recall:\",metrics.recall_score(y_test, y_pred,average='macro'))\n",
        "  print('\\n\\n')\n",
        "  dec_tree_training_accuracies.append(model.score(x_train, y_train))\n",
        "  dec_tree_testing_accuracies.append(model.score(x_test, y_test))\n",
        "  # printing the confusion Matrix\n",
        "  cm = confusion_matrix(y_test, y_pred)\n",
        "  print(cm)"
      ],
      "execution_count": 438,
      "outputs": [
        {
          "output_type": "stream",
          "text": [
            "For Max Depth =  2  Decision Tree ->\n",
            "Training Accuracy:  0.6987048398091343\n",
            "Testing Accuracy:  0.7076923076923077\n",
            "Precision: 0.17692307692307693\n",
            "Recall: 0.25\n",
            "\n",
            "\n",
            "\n",
            "[[184   0   0   0]\n",
            " [ 56   0   0   0]\n",
            " [ 10   0   0   0]\n",
            " [ 10   0   0   0]]\n",
            "For Max Depth =  3  Decision Tree ->\n",
            "Training Accuracy:  0.7743694614860259\n",
            "Testing Accuracy:  0.7961538461538461\n",
            "Precision: 0.37844036697247707\n",
            "Recall: 0.45516304347826086\n",
            "\n",
            "\n",
            "\n",
            "[[151  33   0   0]\n",
            " [  0  56   0   0]\n",
            " [  0  10   0   0]\n",
            " [  0  10   0   0]]\n",
            "For Max Depth =  4  Decision Tree ->\n",
            "Training Accuracy:  0.7832310838445807\n",
            "Testing Accuracy:  0.8384615384615385\n",
            "Precision: 0.3804199385455787\n",
            "Recall: 0.4079968944099379\n",
            "\n",
            "\n",
            "\n",
            "[[182   2   0   0]\n",
            " [ 20  36   0   0]\n",
            " [  0  10   0   0]\n",
            " [  0  10   0   0]]\n",
            "For Max Depth =  5  Decision Tree ->\n",
            "Training Accuracy:  0.8486707566462167\n",
            "Testing Accuracy:  0.8615384615384616\n",
            "Precision: 0.5264049808886766\n",
            "Recall: 0.6587732919254659\n",
            "\n",
            "\n",
            "\n",
            "[[176   8   0   0]\n",
            " [  6  38  12   0]\n",
            " [  0   0  10   0]\n",
            " [  0   0  10   0]]\n",
            "For Max Depth =  6  Decision Tree ->\n",
            "Training Accuracy:  0.8704839809134287\n",
            "Testing Accuracy:  0.9076923076923077\n",
            "Precision: 0.6033241421568628\n",
            "Recall: 0.6968167701863355\n",
            "\n",
            "\n",
            "\n",
            "[[181   3   0   0]\n",
            " [ 11  45   0   0]\n",
            " [  0   3   0   7]\n",
            " [  0   0   0  10]]\n",
            "For Max Depth =  7  Decision Tree ->\n",
            "Training Accuracy:  0.934560327198364\n",
            "Testing Accuracy:  0.9346153846153846\n",
            "Precision: 0.7557659932659933\n",
            "Recall: 0.8369565217391304\n",
            "\n",
            "\n",
            "\n",
            "[[179   5   0   0]\n",
            " [  1  49   6   0]\n",
            " [  0   0   5   5]\n",
            " [  0   0   0  10]]\n",
            "For Max Depth =  8  Decision Tree ->\n",
            "Training Accuracy:  0.9372869802317655\n",
            "Testing Accuracy:  0.9346153846153846\n",
            "Precision: 0.7894571740316421\n",
            "Recall: 0.7865683229813664\n",
            "\n",
            "\n",
            "\n",
            "[[182   2   0   0]\n",
            " [  6  48   2   0]\n",
            " [  0   2   3   5]\n",
            " [  0   0   0  10]]\n",
            "For Max Depth =  9  Decision Tree ->\n",
            "Training Accuracy:  0.978186775732788\n",
            "Testing Accuracy:  0.9769230769230769\n",
            "Precision: 0.9056451612903226\n",
            "Recall: 0.9321428571428572\n",
            "\n",
            "\n",
            "\n",
            "[[184   0   0   0]\n",
            " [  2  52   2   0]\n",
            " [  0   0   8   2]\n",
            " [  0   0   0  10]]\n",
            "For Max Depth =  10  Decision Tree ->\n",
            "Training Accuracy:  0.9829584185412407\n",
            "Testing Accuracy:  0.9692307692307692\n",
            "Precision: 0.9169564920894708\n",
            "Recall: 0.9026785714285714\n",
            "\n",
            "\n",
            "\n",
            "[[184   0   0   0]\n",
            " [  4  51   1   0]\n",
            " [  0   1   7   2]\n",
            " [  0   0   0  10]]\n",
            "For Max Depth =  11  Decision Tree ->\n",
            "Training Accuracy:  0.9959100204498977\n",
            "Testing Accuracy:  0.9807692307692307\n",
            "Precision: 0.9604431410883023\n",
            "Recall: 0.9366071428571429\n",
            "\n",
            "\n",
            "\n",
            "[[184   0   0   0]\n",
            " [  2  53   1   0]\n",
            " [  0   2   8   0]\n",
            " [  0   0   0  10]]\n",
            "For Max Depth =  12  Decision Tree ->\n",
            "Training Accuracy:  0.9979550102249489\n",
            "Testing Accuracy:  0.9923076923076923\n",
            "Precision: 0.994184362934363\n",
            "Recall: 0.9705357142857143\n",
            "\n",
            "\n",
            "\n",
            "[[184   0   0   0]\n",
            " [  1  55   0   0]\n",
            " [  0   1   9   0]\n",
            " [  0   0   0  10]]\n",
            "For Max Depth =  13  Decision Tree ->\n",
            "Training Accuracy:  1.0\n",
            "Testing Accuracy:  0.9923076923076923\n",
            "Precision: 0.994184362934363\n",
            "Recall: 0.9705357142857143\n",
            "\n",
            "\n",
            "\n",
            "[[184   0   0   0]\n",
            " [  1  55   0   0]\n",
            " [  0   1   9   0]\n",
            " [  0   0   0  10]]\n",
            "For Max Depth =  14  Decision Tree ->\n",
            "Training Accuracy:  1.0\n",
            "Testing Accuracy:  0.9769230769230769\n",
            "Precision: 0.9301620586103345\n",
            "Recall: 0.8705357142857144\n",
            "\n",
            "\n",
            "\n",
            "[[184   0   0   0]\n",
            " [  1  55   0   0]\n",
            " [  0   0   8   2]\n",
            " [  0   3   0   7]]\n",
            "For Max Depth =  15  Decision Tree ->\n",
            "Training Accuracy:  1.0\n",
            "Testing Accuracy:  0.9769230769230769\n",
            "Precision: 0.9301620586103345\n",
            "Recall: 0.8705357142857144\n",
            "\n",
            "\n",
            "\n",
            "[[184   0   0   0]\n",
            " [  1  55   0   0]\n",
            " [  0   0   8   2]\n",
            " [  0   3   0   7]]\n",
            "For Max Depth =  16  Decision Tree ->\n",
            "Training Accuracy:  1.0\n",
            "Testing Accuracy:  0.9769230769230769\n",
            "Precision: 0.9301620586103345\n",
            "Recall: 0.8705357142857144\n",
            "\n",
            "\n",
            "\n",
            "[[184   0   0   0]\n",
            " [  1  55   0   0]\n",
            " [  0   0   8   2]\n",
            " [  0   3   0   7]]\n",
            "For Max Depth =  17  Decision Tree ->\n",
            "Training Accuracy:  1.0\n",
            "Testing Accuracy:  0.9923076923076923\n",
            "Precision: 0.994184362934363\n",
            "Recall: 0.9705357142857143\n",
            "\n",
            "\n",
            "\n",
            "[[184   0   0   0]\n",
            " [  1  55   0   0]\n",
            " [  0   1   9   0]\n",
            " [  0   0   0  10]]\n"
          ],
          "name": "stdout"
        },
        {
          "output_type": "stream",
          "text": [
            "/usr/local/lib/python3.7/dist-packages/sklearn/metrics/_classification.py:1272: UndefinedMetricWarning: Precision is ill-defined and being set to 0.0 in labels with no predicted samples. Use `zero_division` parameter to control this behavior.\n",
            "  _warn_prf(average, modifier, msg_start, len(result))\n",
            "/usr/local/lib/python3.7/dist-packages/sklearn/metrics/_classification.py:1272: UndefinedMetricWarning: Precision is ill-defined and being set to 0.0 in labels with no predicted samples. Use `zero_division` parameter to control this behavior.\n",
            "  _warn_prf(average, modifier, msg_start, len(result))\n",
            "/usr/local/lib/python3.7/dist-packages/sklearn/metrics/_classification.py:1272: UndefinedMetricWarning: Precision is ill-defined and being set to 0.0 in labels with no predicted samples. Use `zero_division` parameter to control this behavior.\n",
            "  _warn_prf(average, modifier, msg_start, len(result))\n",
            "/usr/local/lib/python3.7/dist-packages/sklearn/metrics/_classification.py:1272: UndefinedMetricWarning: Precision is ill-defined and being set to 0.0 in labels with no predicted samples. Use `zero_division` parameter to control this behavior.\n",
            "  _warn_prf(average, modifier, msg_start, len(result))\n",
            "/usr/local/lib/python3.7/dist-packages/sklearn/metrics/_classification.py:1272: UndefinedMetricWarning: Precision is ill-defined and being set to 0.0 in labels with no predicted samples. Use `zero_division` parameter to control this behavior.\n",
            "  _warn_prf(average, modifier, msg_start, len(result))\n"
          ],
          "name": "stderr"
        },
        {
          "output_type": "stream",
          "text": [
            "For Max Depth =  18  Decision Tree ->\n",
            "Training Accuracy:  1.0\n",
            "Testing Accuracy:  0.9769230769230769\n",
            "Precision: 0.9301620586103345\n",
            "Recall: 0.8705357142857144\n",
            "\n",
            "\n",
            "\n",
            "[[184   0   0   0]\n",
            " [  1  55   0   0]\n",
            " [  0   0   8   2]\n",
            " [  0   3   0   7]]\n",
            "For Max Depth =  19  Decision Tree ->\n",
            "Training Accuracy:  1.0\n",
            "Testing Accuracy:  0.9923076923076923\n",
            "Precision: 0.994184362934363\n",
            "Recall: 0.9705357142857143\n",
            "\n",
            "\n",
            "\n",
            "[[184   0   0   0]\n",
            " [  1  55   0   0]\n",
            " [  0   1   9   0]\n",
            " [  0   0   0  10]]\n",
            "For Max Depth =  20  Decision Tree ->\n",
            "Training Accuracy:  1.0\n",
            "Testing Accuracy:  0.9769230769230769\n",
            "Precision: 0.9301620586103345\n",
            "Recall: 0.8705357142857144\n",
            "\n",
            "\n",
            "\n",
            "[[184   0   0   0]\n",
            " [  1  55   0   0]\n",
            " [  0   0   8   2]\n",
            " [  0   3   0   7]]\n",
            "For Max Depth =  21  Decision Tree ->\n",
            "Training Accuracy:  1.0\n",
            "Testing Accuracy:  0.9923076923076923\n",
            "Precision: 0.994184362934363\n",
            "Recall: 0.9705357142857143\n",
            "\n",
            "\n",
            "\n",
            "[[184   0   0   0]\n",
            " [  1  55   0   0]\n",
            " [  0   1   9   0]\n",
            " [  0   0   0  10]]\n"
          ],
          "name": "stdout"
        }
      ]
    },
    {
      "cell_type": "code",
      "metadata": {
        "colab": {
          "base_uri": "https://localhost:8080/"
        },
        "id": "0dn4rwfOOMNu",
        "outputId": "e6b8f7e3-abfc-4518-85fe-9982b4de0c3a"
      },
      "source": [
        "\n",
        "dec_tree_training_accuracies,dec_tree_testing_accuracies"
      ],
      "execution_count": 439,
      "outputs": [
        {
          "output_type": "execute_result",
          "data": {
            "text/plain": [
              "([0.6987048398091343,\n",
              "  0.7743694614860259,\n",
              "  0.7832310838445807,\n",
              "  0.8486707566462167,\n",
              "  0.8704839809134287,\n",
              "  0.934560327198364,\n",
              "  0.9372869802317655,\n",
              "  0.978186775732788,\n",
              "  0.9829584185412407,\n",
              "  0.9959100204498977,\n",
              "  0.9979550102249489,\n",
              "  1.0,\n",
              "  1.0,\n",
              "  1.0,\n",
              "  1.0,\n",
              "  1.0,\n",
              "  1.0,\n",
              "  1.0,\n",
              "  1.0,\n",
              "  1.0],\n",
              " [0.7076923076923077,\n",
              "  0.7961538461538461,\n",
              "  0.8384615384615385,\n",
              "  0.8615384615384616,\n",
              "  0.9076923076923077,\n",
              "  0.9346153846153846,\n",
              "  0.9346153846153846,\n",
              "  0.9769230769230769,\n",
              "  0.9692307692307692,\n",
              "  0.9807692307692307,\n",
              "  0.9923076923076923,\n",
              "  0.9923076923076923,\n",
              "  0.9769230769230769,\n",
              "  0.9769230769230769,\n",
              "  0.9769230769230769,\n",
              "  0.9923076923076923,\n",
              "  0.9769230769230769,\n",
              "  0.9923076923076923,\n",
              "  0.9769230769230769,\n",
              "  0.9923076923076923])"
            ]
          },
          "metadata": {
            "tags": []
          },
          "execution_count": 439
        }
      ]
    },
    {
      "cell_type": "code",
      "metadata": {
        "id": "1IBVKqVjQYP9"
      },
      "source": [
        "dec_max_value = max(dec_tree_testing_accuracies)\n",
        "dec_max_index = dec_tree_testing_accuracies.index(dec_max_value)"
      ],
      "execution_count": 440,
      "outputs": []
    },
    {
      "cell_type": "code",
      "metadata": {
        "colab": {
          "base_uri": "https://localhost:8080/"
        },
        "id": "cR76t63kQiMI",
        "outputId": "637afeae-759c-41e2-b167-d77a6dd21bc2"
      },
      "source": [
        "print(\"BEST VALUE OF MAX_DEPTH FOR DECISION MATRIX : \",max_index,\" : With an accuracy of : \",dec_max_value)"
      ],
      "execution_count": 441,
      "outputs": [
        {
          "output_type": "stream",
          "text": [
            "BEST VALUE OF MAX_DEPTH FOR DECISION MATRIX :  2  : With an accuracy of :  0.9923076923076923\n"
          ],
          "name": "stdout"
        }
      ]
    },
    {
      "cell_type": "code",
      "metadata": {
        "colab": {
          "base_uri": "https://localhost:8080/",
          "height": 485
        },
        "id": "27UxA5JlNv0n",
        "outputId": "1d68d331-25b8-43e1-b1ba-779de935ceb5"
      },
      "source": [
        "max_depth = np.array([1, 2, 3, 4, 5, 6, 7, 8, 9, 10, 11, 12, 13, 14, 15, 16, 17, 18, 19, 20])\n",
        "Training_Accuracy = np.array(dec_tree_training_accuracies)\n",
        "Testing_Accuracy = np.array(dec_tree_testing_accuracies)\n",
        "Training_Accuracy = Training_Accuracy*100\n",
        "Testing_Accuracy = Testing_Accuracy*100\n",
        "plt.rcParams['figure.figsize'] = (10, 7)\n",
        "plt.plot(max_depth, Training_Accuracy, 'y--')\n",
        "plt.plot(max_depth, Testing_Accuracy, 'g-*')\n",
        "plt.title('Performance of Decision Tree with Different Values of max_depth', fontsize = 20)\n",
        "plt.xlim([0, 21])\n",
        "plt.ylim([90, 101])\n",
        "plt.xlabel('Max Depth ', fontsize = 15)\n",
        "plt.ylabel('Accuracy', fontsize = 15)\n",
        "plt.legend()\n",
        "plt.show()"
      ],
      "execution_count": 442,
      "outputs": [
        {
          "output_type": "stream",
          "text": [
            "No handles with labels found to put in legend.\n"
          ],
          "name": "stderr"
        },
        {
          "output_type": "display_data",
          "data": {
            "image/png": "[encoded data removed]",
            "text/plain": [
              "<Figure size 720x504 with 1 Axes>"
            ]
          },
          "metadata": {
            "tags": [],
            "needs_background": "light"
          }
        }
      ]
    },
    {
      "cell_type": "code",
      "metadata": {
        "id": "C9A60TB6dM6L"
      },
      "source": [
        "#KNN\n",
        "from sklearn.neighbors import KNeighborsClassifier\n",
        "from sklearn import metrics"
      ],
      "execution_count": 443,
      "outputs": []
    },
    {
      "cell_type": "code",
      "metadata": {
        "colab": {
          "base_uri": "https://localhost:8080/"
        },
        "id": "VeO03o8Idj_-",
        "outputId": "31075d9f-742b-423a-eb09-f9254df5e484"
      },
      "source": [
        "training_accuracies = []\n",
        "testing_accuracies = []\n",
        "for i in range(1,21):\n",
        "  # creating a model\n",
        "  model = KNeighborsClassifier(n_neighbors = i)\n",
        "\n",
        "  # feeding the training data into the model\n",
        "  model.fit(x_train, y_train)\n",
        "\n",
        "  # predicting the values for x-test\n",
        "  y_pred = model.predict(x_test)\n",
        "\n",
        "  # finding the training and testing accuracy\n",
        "  print(\"For K = \",i,\" ->\")\n",
        "  print(\"Training Accuracy: \",model.score(x_train, y_train))\n",
        "  print(\"Testing Accuracy: \",model.score(x_test, y_test))\n",
        "  print(\"Precision:\",metrics.precision_score(y_test, y_pred,average='macro'))\n",
        "  print(\"Recall:\",metrics.recall_score(y_test, y_pred,average='macro'))\n",
        "  print('\\n\\n')\n",
        "  # printing the confusion Matrix\n",
        "  cm = confusion_matrix(y_test, y_pred)\n",
        "  print(cm)\n",
        "  training_accuracies.append(model.score(x_train, y_train))\n",
        "  testing_accuracies.append(model.score(x_test, y_test))"
      ],
      "execution_count": 444,
      "outputs": [
        {
          "output_type": "stream",
          "text": [
            "For K =  1  ->\n",
            "Training Accuracy:  1.0\n",
            "Testing Accuracy:  0.9615384615384616\n",
            "Precision: 0.8648119122257054\n",
            "Recall: 0.9061723602484472\n",
            "\n",
            "\n",
            "\n",
            "[[180   4   0   0]\n",
            " [  0  53   3   0]\n",
            " [  0   0   8   2]\n",
            " [  0   1   0   9]]\n",
            "For K =  2  ->\n",
            "Training Accuracy:  0.9761417859577369\n",
            "Testing Accuracy:  0.9153846153846154\n",
            "Precision: 0.9473913043478261\n",
            "Recall: 0.7785714285714287\n",
            "\n",
            "\n",
            "\n",
            "[[184   0   0   0]\n",
            " [ 16  40   0   0]\n",
            " [  0   3   7   0]\n",
            " [  0   3   0   7]]\n",
            "For K =  3  ->\n",
            "Training Accuracy:  0.9931833674164963\n",
            "Testing Accuracy:  0.9692307692307692\n",
            "Precision: 0.951096168017686\n",
            "Recall: 0.8883540372670807\n",
            "\n",
            "\n",
            "\n",
            "[[182   2   0   0]\n",
            " [  2  54   0   0]\n",
            " [  0   2   7   1]\n",
            " [  0   1   0   9]]\n",
            "For K =  4  ->\n",
            "Training Accuracy:  0.9822767552828903\n",
            "Testing Accuracy:  0.9576923076923077\n",
            "Precision: 0.925169245647969\n",
            "Recall: 0.8513198757763976\n",
            "\n",
            "\n",
            "\n",
            "[[183   1   0   0]\n",
            " [  5  51   0   0]\n",
            " [  0   1   7   2]\n",
            " [  0   2   0   8]]\n",
            "For K =  5  ->\n",
            "Training Accuracy:  0.9904567143830948\n",
            "Testing Accuracy:  0.9692307692307692\n",
            "Precision: 0.9490362096919474\n",
            "Recall: 0.8914596273291925\n",
            "\n",
            "\n",
            "\n",
            "[[181   3   0   0]\n",
            " [  1  55   0   0]\n",
            " [  0   2   7   1]\n",
            " [  0   1   0   9]]\n",
            "For K =  6  ->\n",
            "Training Accuracy:  0.9815950920245399\n",
            "Testing Accuracy:  0.9576923076923077\n",
            "Precision: 0.9297147001934236\n",
            "Recall: 0.8513198757763975\n",
            "\n",
            "\n",
            "\n",
            "[[183   1   0   0]\n",
            " [  5  51   0   0]\n",
            " [  0   2   6   2]\n",
            " [  0   1   0   9]]\n",
            "For K =  7  ->\n",
            "Training Accuracy:  0.9856850715746421\n",
            "Testing Accuracy:  0.9653846153846154\n",
            "Precision: 0.9472677595628415\n",
            "Recall: 0.8869953416149069\n",
            "\n",
            "\n",
            "\n",
            "[[181   3   0   0]\n",
            " [  2  54   0   0]\n",
            " [  0   2   7   1]\n",
            " [  0   1   0   9]]\n",
            "For K =  8  ->\n",
            "Training Accuracy:  0.9775051124744376\n",
            "Testing Accuracy:  0.9615384615384616\n",
            "Precision: 0.944944804077931\n",
            "Recall: 0.8557841614906831\n",
            "\n",
            "\n",
            "\n",
            "[[183   1   0   0]\n",
            " [  4  52   0   0]\n",
            " [  0   2   7   1]\n",
            " [  0   2   0   8]]\n",
            "For K =  9  ->\n",
            "Training Accuracy:  0.9829584185412407\n",
            "Testing Accuracy:  0.9653846153846154\n",
            "Precision: 0.9240362096919474\n",
            "Recall: 0.8664596273291925\n",
            "\n",
            "\n",
            "\n",
            "[[181   3   0   0]\n",
            " [  1  55   0   0]\n",
            " [  0   1   7   2]\n",
            " [  0   2   0   8]]\n",
            "For K =  10  ->\n",
            "Training Accuracy:  0.9788684389911384\n",
            "Testing Accuracy:  0.9576923076923077\n",
            "Precision: 0.9062341996157346\n",
            "Recall: 0.8102484472049689\n",
            "\n",
            "\n",
            "\n",
            "[[183   1   0   0]\n",
            " [  3  53   0   0]\n",
            " [  0   2   5   3]\n",
            " [  0   2   0   8]]\n",
            "For K =  11  ->\n",
            "Training Accuracy:  0.978186775732788\n",
            "Testing Accuracy:  0.9653846153846154\n",
            "Precision: 0.9240437158469945\n",
            "Recall: 0.8428183229813664\n",
            "\n",
            "\n",
            "\n",
            "[[182   2   0   0]\n",
            " [  1  55   0   0]\n",
            " [  0   2   6   2]\n",
            " [  0   2   0   8]]\n",
            "For K =  12  ->\n",
            "Training Accuracy:  0.9740967961826857\n",
            "Testing Accuracy:  0.9576923076923077\n",
            "Precision: 0.9041007905138341\n",
            "Recall: 0.8133540372670807\n",
            "\n",
            "\n",
            "\n",
            "[[182   2   0   0]\n",
            " [  2  54   0   0]\n",
            " [  0   2   5   3]\n",
            " [  0   2   0   8]]\n",
            "For K =  13  ->\n",
            "Training Accuracy:  0.9754601226993865\n",
            "Testing Accuracy:  0.9653846153846154\n",
            "Precision: 0.9285891703924491\n",
            "Recall: 0.8428183229813664\n",
            "\n",
            "\n",
            "\n",
            "[[182   2   0   0]\n",
            " [  1  55   0   0]\n",
            " [  0   3   5   2]\n",
            " [  0   1   0   9]]\n",
            "For K =  14  ->\n",
            "Training Accuracy:  0.972733469665985\n",
            "Testing Accuracy:  0.9576923076923077\n",
            "Precision: 0.9390015015015015\n",
            "Recall: 0.833889751552795\n",
            "\n",
            "\n",
            "\n",
            "[[182   2   0   0]\n",
            " [  3  53   0   0]\n",
            " [  0   3   6   1]\n",
            " [  0   2   0   8]]\n",
            "For K =  15  ->\n",
            "Training Accuracy:  0.9788684389911384\n",
            "Testing Accuracy:  0.9692307692307692\n",
            "Precision: 0.9444444444444444\n",
            "Recall: 0.8472826086956522\n",
            "\n",
            "\n",
            "\n",
            "[[182   2   0   0]\n",
            " [  0  56   0   0]\n",
            " [  0   3   6   1]\n",
            " [  0   2   0   8]]\n",
            "For K =  16  ->\n",
            "Training Accuracy:  0.9700068166325835\n",
            "Testing Accuracy:  0.9692307692307692\n",
            "Precision: 0.946273362635622\n",
            "Recall: 0.8441770186335404\n",
            "\n",
            "\n",
            "\n",
            "[[183   1   0   0]\n",
            " [  1  55   0   0]\n",
            " [  0   3   6   1]\n",
            " [  0   2   0   8]]\n",
            "For K =  17  ->\n",
            "Training Accuracy:  0.9706884798909339\n",
            "Testing Accuracy:  0.9653846153846154\n",
            "Precision: 0.9375\n",
            "Recall: 0.8222826086956521\n",
            "\n",
            "\n",
            "\n",
            "[[182   2   0   0]\n",
            " [  0  56   0   0]\n",
            " [  0   3   6   1]\n",
            " [  0   3   0   7]]\n",
            "For K =  18  ->\n",
            "Training Accuracy:  0.9638718473074301\n",
            "Testing Accuracy:  0.9653846153846154\n",
            "Precision: 0.9375\n",
            "Recall: 0.8222826086956521\n",
            "\n",
            "\n",
            "\n",
            "[[182   2   0   0]\n",
            " [  0  56   0   0]\n",
            " [  0   3   6   1]\n",
            " [  0   3   0   7]]\n",
            "For K =  19  ->\n",
            "Training Accuracy:  0.9659168370824812\n",
            "Testing Accuracy:  0.9615384615384616\n",
            "Precision: 0.9131944444444444\n",
            "Recall: 0.7972826086956522\n",
            "\n",
            "\n",
            "\n",
            "[[182   2   0   0]\n",
            " [  0  56   0   0]\n",
            " [  0   3   5   2]\n",
            " [  0   3   0   7]]\n",
            "For K =  20  ->\n",
            "Training Accuracy:  0.961826857532379\n",
            "Testing Accuracy:  0.9576923076923077\n",
            "Precision: 0.9113322924798335\n",
            "Recall: 0.7928183229813663\n",
            "\n",
            "\n",
            "\n",
            "[[182   2   0   0]\n",
            " [  1  55   0   0]\n",
            " [  0   3   5   2]\n",
            " [  0   3   0   7]]\n"
          ],
          "name": "stdout"
        }
      ]
    },
    {
      "cell_type": "code",
      "metadata": {
        "colab": {
          "base_uri": "https://localhost:8080/"
        },
        "id": "Imsm8gEneinN",
        "outputId": "18fbe575-7116-4b3e-db25-0b1247a5e399"
      },
      "source": [
        "testing_accuracies,training_accuracies"
      ],
      "execution_count": 445,
      "outputs": [
        {
          "output_type": "execute_result",
          "data": {
            "text/plain": [
              "([0.9615384615384616,\n",
              "  0.9153846153846154,\n",
              "  0.9692307692307692,\n",
              "  0.9576923076923077,\n",
              "  0.9692307692307692,\n",
              "  0.9576923076923077,\n",
              "  0.9653846153846154,\n",
              "  0.9615384615384616,\n",
              "  0.9653846153846154,\n",
              "  0.9576923076923077,\n",
              "  0.9653846153846154,\n",
              "  0.9576923076923077,\n",
              "  0.9653846153846154,\n",
              "  0.9576923076923077,\n",
              "  0.9692307692307692,\n",
              "  0.9692307692307692,\n",
              "  0.9653846153846154,\n",
              "  0.9653846153846154,\n",
              "  0.9615384615384616,\n",
              "  0.9576923076923077],\n",
              " [1.0,\n",
              "  0.9761417859577369,\n",
              "  0.9931833674164963,\n",
              "  0.9822767552828903,\n",
              "  0.9904567143830948,\n",
              "  0.9815950920245399,\n",
              "  0.9856850715746421,\n",
              "  0.9775051124744376,\n",
              "  0.9829584185412407,\n",
              "  0.9788684389911384,\n",
              "  0.978186775732788,\n",
              "  0.9740967961826857,\n",
              "  0.9754601226993865,\n",
              "  0.972733469665985,\n",
              "  0.9788684389911384,\n",
              "  0.9700068166325835,\n",
              "  0.9706884798909339,\n",
              "  0.9638718473074301,\n",
              "  0.9659168370824812,\n",
              "  0.961826857532379])"
            ]
          },
          "metadata": {
            "tags": []
          },
          "execution_count": 445
        }
      ]
    },
    {
      "cell_type": "code",
      "metadata": {
        "id": "eyDHTgmBelw7"
      },
      "source": [
        "max_value = max(testing_accuracies)\n",
        "max_index = testing_accuracies.index(max_value)"
      ],
      "execution_count": 446,
      "outputs": []
    },
    {
      "cell_type": "code",
      "metadata": {
        "colab": {
          "base_uri": "https://localhost:8080/"
        },
        "id": "0GeOqhC9fIPy",
        "outputId": "c5a5ceb1-fcbc-420b-dc37-d7efcd3bdac1"
      },
      "source": [
        "print(\"BEST VALUE OF K FOR KNN : \",max_index,\" : With an accuracy of : \",max_value)"
      ],
      "execution_count": 447,
      "outputs": [
        {
          "output_type": "stream",
          "text": [
            "BEST VALUE OF K FOR KNN :  2  : With an accuracy of :  0.9692307692307692\n"
          ],
          "name": "stdout"
        }
      ]
    },
    {
      "cell_type": "code",
      "metadata": {
        "colab": {
          "base_uri": "https://localhost:8080/",
          "height": 485
        },
        "id": "uG4lFfTpfThC",
        "outputId": "18534dd9-f557-4a50-d784-c055abebb4c1"
      },
      "source": [
        "max_depth = np.array([1, 2, 3, 4, 5, 6, 7, 8, 9, 10, 11, 12, 13, 14, 15, 16, 17, 18, 19, 20])\n",
        "Training_Accuracy = np.array(training_accuracies)\n",
        "Testing_Accuracy = np.array(testing_accuracies)\n",
        "Training_Accuracy = Training_Accuracy*100\n",
        "Testing_Accuracy = Testing_Accuracy*100\n",
        "plt.rcParams['figure.figsize'] = (10, 7)\n",
        "plt.plot(max_depth, Training_Accuracy, 'y--')\n",
        "plt.plot(max_depth, Testing_Accuracy, 'g-*')\n",
        "plt.title('Performance of KNN Classifiers with Different Values of neighbors', fontsize = 20)\n",
        "plt.xlim([0, 21])\n",
        "plt.ylim([90, 100])\n",
        "plt.xlabel('Max Depth ', fontsize = 15)\n",
        "plt.ylabel('Accuracy', fontsize = 15)\n",
        "plt.legend()\n",
        "plt.show()\n",
        "\n",
        "\n"
      ],
      "execution_count": 448,
      "outputs": [
        {
          "output_type": "stream",
          "text": [
            "No handles with labels found to put in legend.\n"
          ],
          "name": "stderr"
        },
        {
          "output_type": "display_data",
          "data": {
            "image/png": "[encoded data removed]",
            "text/plain": [
              "<Figure size 720x504 with 1 Axes>"
            ]
          },
          "metadata": {
            "tags": [],
            "needs_background": "light"
          }
        }
      ]
    },
    {
      "cell_type": "code",
      "metadata": {
        "colab": {
          "base_uri": "https://localhost:8080/",
          "height": 390
        },
        "id": "pe_3AL_SMvt5",
        "outputId": "22e42489-ce7d-4000-9537-04fb997c9d96"
      },
      "source": [
        "import matplotlib.pyplot as plt\n",
        "import seaborn as sns\n",
        "\n",
        "Acc = np.array([96.9, 99.2, 97.7])\n",
        "count = np.array([1, 2, 3])\n",
        "plt.scatter(count, Acc, color = 'red')\n",
        "plt.title('1 Represents KNN, 2 Represents Decision Tree and 3 Represents Random Forest \\\n",
        "It plots a graph to compare performance of these Classifiers', fontsize = 20)\n",
        "plt.xlabel('Classifiers', fontsize = 15)\n",
        "plt.ylabel('Accuracy', fontsize = 15)\n",
        "\n",
        "plt.show()"
      ],
      "execution_count": 449,
      "outputs": [
        {
          "output_type": "display_data",
          "data": {
            "image/png": "[encoded data removed]",
            "text/plain": [
              "<Figure size 720x504 with 1 Axes>"
            ]
          },
          "metadata": {
            "tags": [],
            "needs_background": "light"
          }
        }
      ]
    },
    {
      "cell_type": "code",
      "metadata": {
        "colab": {
          "base_uri": "https://localhost:8080/"
        },
        "id": "BBNhRfDXgCyN",
        "outputId": "2bc27647-c709-4b2f-aea2-fdac8be20f59"
      },
      "source": [
        "dataset.columns"
      ],
      "execution_count": 450,
      "outputs": [
        {
          "output_type": "execute_result",
          "data": {
            "text/plain": [
              "Index(['Price', 'Maintenance Cost', 'Number of Doors', 'Capacity',\n",
              "       'Size of Luggage Boot', 'safety', 'Decision'],\n",
              "      dtype='object')"
            ]
          },
          "metadata": {
            "tags": []
          },
          "execution_count": 450
        }
      ]
    },
    {
      "cell_type": "code",
      "metadata": {
        "id": "lNz0EN9Yr_02"
      },
      "source": [
        "import scipy.cluster.hierarchy as sch\n",
        "from sklearn.cluster import AgglomerativeClustering\n",
        "from sklearn.cluster import KMeans"
      ],
      "execution_count": 451,
      "outputs": []
    },
    {
      "cell_type": "code",
      "metadata": {
        "colab": {
          "base_uri": "https://localhost:8080/",
          "height": 431
        },
        "id": "fxpeYSQcsA6R",
        "outputId": "118ead0c-9d50-499b-a198-125df3f155cf"
      },
      "source": [
        "dendrogram = sch.dendrogram(sch.linkage(X,method='ward'))"
      ],
      "execution_count": 452,
      "outputs": [
        {
          "output_type": "display_data",
          "data": {
            "image/png": "[encoded data removed]",
            "text/plain": [
              "<Figure size 720x504 with 1 Axes>"
            ]
          },
          "metadata": {
            "tags": [],
            "needs_background": "light"
          }
        }
      ]
    },
    {
      "cell_type": "code",
      "metadata": {
        "colab": {
          "base_uri": "https://localhost:8080/"
        },
        "id": "uiJWkeulsaQ1",
        "outputId": "a7076159-8030-4348-e8e1-a0e589716bd8"
      },
      "source": [
        "hc =  AgglomerativeClustering(n_clusters=6,linkage='ward')\n",
        "y_hc = hc.fit_predict(X)\n",
        "y_hc"
      ],
      "execution_count": 453,
      "outputs": [
        {
          "output_type": "execute_result",
          "data": {
            "text/plain": [
              "array([5, 5, 5, ..., 3, 3, 3])"
            ]
          },
          "metadata": {
            "tags": []
          },
          "execution_count": 453
        }
      ]
    },
    {
      "cell_type": "code",
      "metadata": {
        "colab": {
          "base_uri": "https://localhost:8080/"
        },
        "id": "YVuU-hQGROw-",
        "outputId": "94f08e82-c9f5-4056-b298-987e2ed5be65"
      },
      "source": [
        "for i in range(len(y_hc)):\n",
        "  print(y_hc[i],\" \", end=\"\")\n",
        "  if(i%50==0):\n",
        "    print()\n",
        "  "
      ],
      "execution_count": 454,
      "outputs": [
        {
          "output_type": "stream",
          "text": [
            "5  \n",
            "5  5  5  5  5  5  5  4  4  4  4  4  4  4  4  4  4  4  4  4  4  4  4  4  4  5  5  5  5  5  5  5  5  5  4  4  4  4  4  4  4  4  4  4  4  4  4  4  4  4  \n",
            "4  4  5  5  5  5  5  5  5  5  5  2  2  2  2  2  2  2  2  2  2  2  2  2  2  2  2  2  2  5  5  5  5  5  5  5  5  5  2  2  2  2  2  2  2  2  2  2  2  2  \n",
            "2  2  2  2  2  2  5  5  5  5  5  5  5  5  5  4  4  4  4  4  4  4  4  4  4  4  4  4  4  4  4  4  4  5  5  5  5  5  5  5  5  5  4  4  4  4  4  4  4  4  \n",
            "4  4  4  4  4  4  4  4  4  4  5  5  5  5  5  5  5  5  5  2  2  2  2  2  2  2  2  2  2  2  2  2  2  2  2  2  2  5  5  5  5  5  5  5  5  5  2  2  2  2  \n",
            "2  2  2  2  2  2  2  2  2  2  2  2  2  2  5  5  5  5  5  1  5  5  1  0  0  0  0  0  0  0  0  0  0  0  0  0  0  0  0  0  0  5  5  5  1  1  1  1  1  1  \n",
            "0  0  0  0  0  0  0  0  0  0  0  0  0  0  0  0  0  0  1  1  1  1  1  1  5  5  1  3  3  3  3  3  3  3  3  3  3  3  3  3  3  3  3  3  3  1  1  1  1  1  \n",
            "1  1  1  1  3  3  3  3  3  3  3  3  3  3  3  3  3  3  3  3  3  3  1  1  1  1  1  1  1  1  1  0  0  0  0  0  0  0  0  0  0  0  0  0  0  0  0  0  0  1  \n",
            "1  1  1  1  1  1  1  1  0  0  0  0  0  0  0  0  0  0  0  0  0  0  0  0  0  0  1  1  1  1  1  1  1  1  1  3  3  3  3  3  3  3  3  3  3  3  3  3  3  3  \n",
            "3  3  3  1  1  1  1  1  1  1  1  1  3  3  3  3  3  3  3  3  3  3  3  3  3  3  3  3  3  3  5  5  5  5  5  5  5  5  5  4  4  4  4  4  4  4  4  4  4  4  \n",
            "4  4  4  4  4  4  4  5  5  5  5  5  5  5  5  5  4  4  4  4  4  4  4  4  4  4  4  4  4  4  4  4  4  4  5  5  5  5  5  5  5  5  5  2  2  2  2  2  2  2  \n",
            "2  2  2  2  2  2  2  2  2  2  2  5  5  5  5  5  5  5  5  5  2  2  2  2  2  2  2  2  2  2  2  2  2  2  2  2  2  2  5  5  5  5  5  5  5  5  5  4  4  4  \n",
            "4  4  4  4  4  4  4  4  4  4  4  4  4  4  4  5  5  5  5  5  5  5  5  5  4  4  4  4  4  4  4  4  4  4  4  4  4  4  4  4  4  4  5  5  1  5  5  5  5  5  \n",
            "5  2  2  2  2  2  2  2  2  2  2  2  2  2  2  2  2  2  2  5  5  1  5  5  5  5  5  5  2  2  2  2  2  2  2  2  2  2  2  2  2  2  2  2  2  2  1  1  1  1  \n",
            "1  1  1  1  1  0  0  0  0  0  0  0  0  0  0  0  0  0  0  0  0  0  0  1  1  5  1  1  1  5  5  1  0  0  0  0  0  0  0  0  0  0  0  0  0  0  0  0  0  0  \n",
            "1  1  1  5  5  1  5  5  1  3  3  3  3  3  3  3  3  3  3  3  3  3  3  3  3  3  3  1  1  1  1  1  1  1  1  1  3  3  3  3  3  3  3  3  3  3  3  3  3  3  \n",
            "3  3  3  3  1  1  1  1  1  1  1  1  1  0  0  0  0  0  0  0  0  0  0  0  0  0  0  0  0  0  0  1  1  1  1  1  1  1  1  1  0  0  0  0  0  0  0  0  0  0  \n",
            "0  0  0  0  0  0  0  0  1  1  1  1  1  1  1  1  1  3  3  3  3  3  3  3  3  3  3  3  3  3  3  3  3  3  3  1  1  1  1  1  1  1  1  1  3  3  3  3  3  3  \n",
            "3  3  3  3  3  3  3  3  3  3  3  3  5  5  5  5  5  5  5  5  5  4  4  4  4  4  4  4  4  4  4  4  4  4  4  4  4  4  4  5  5  5  5  5  5  5  5  5  4  4  \n",
            "4  4  4  4  4  4  4  4  4  4  4  4  4  4  4  4  5  5  5  5  5  5  5  5  5  2  2  2  2  2  2  2  2  2  2  2  2  2  2  2  2  2  2  5  5  5  5  5  5  5  \n",
            "5  5  2  2  2  2  2  2  2  2  2  2  2  2  2  2  2  2  2  2  1  1  5  1  1  5  1  1  5  4  4  4  4  4  4  4  4  4  4  4  4  4  4  4  4  4  4  1  1  5  \n",
            "1  1  5  5  5  5  4  4  4  4  4  4  4  4  4  4  4  4  4  4  4  4  4  4  5  5  5  5  5  5  5  5  5  2  2  2  2  2  2  2  2  2  2  2  2  2  2  2  2  2  \n",
            "2  5  5  5  5  5  5  5  5  1  2  2  2  2  2  2  2  2  2  2  2  2  2  2  2  2  2  2  1  1  1  1  1  1  1  1  1  0  0  0  0  0  0  0  0  0  0  0  0  0  \n",
            "0  0  0  0  0  1  1  1  1  1  1  1  1  1  0  0  0  0  0  0  0  0  0  0  0  0  0  0  0  0  0  0  1  1  1  1  1  1  1  1  1  3  3  3  3  3  3  3  3  3  \n",
            "3  3  3  3  3  3  3  3  3  1  1  1  1  1  1  1  1  1  3  3  3  3  3  3  3  3  3  3  3  3  3  3  3  3  3  3  1  1  1  1  1  1  1  1  1  0  0  0  0  0  \n",
            "0  0  0  0  0  0  0  0  0  0  0  0  0  1  1  1  1  1  1  1  1  1  0  0  0  0  0  0  0  0  0  0  0  0  0  0  0  0  0  0  1  1  1  1  1  1  1  1  1  3  \n",
            "3  3  3  3  3  3  3  3  3  3  3  3  3  3  3  3  3  1  1  1  1  1  1  1  1  1  3  3  3  3  3  3  3  3  3  3  3  3  3  3  3  3  3  3  5  5  5  5  5  5  \n",
            "5  5  5  4  4  4  4  4  4  4  4  4  4  4  4  4  4  4  4  4  4  5  5  5  5  5  5  5  5  5  4  4  4  4  4  4  4  4  4  4  4  4  4  4  4  4  4  4  5  5  \n",
            "5  5  5  5  5  5  5  2  2  2  2  2  2  2  2  2  2  2  2  2  2  2  2  2  2  5  5  5  5  5  5  5  5  5  2  2  2  2  2  2  2  2  2  2  2  2  2  2  2  2  \n",
            "2  2  1  1  5  5  5  5  5  5  5  0  0  4  0  0  4  4  4  4  0  0  4  0  0  4  4  4  4  1  1  5  5  5  5  5  5  5  0  0  4  0  0  4  4  4  4  0  0  4  \n",
            "0  0  4  4  4  4  5  5  5  5  5  5  5  5  5  2  2  2  2  2  2  2  2  2  2  2  2  2  2  2  2  2  2  5  5  5  5  5  5  5  5  5  2  2  2  2  2  2  2  2  \n",
            "2  2  2  2  2  2  2  2  2  2  1  1  1  1  1  1  1  1  1  0  0  0  0  0  0  0  0  0  0  0  0  0  0  0  0  0  0  1  1  1  1  1  1  1  1  1  0  0  0  0  \n",
            "0  0  0  0  0  0  0  0  0  0  0  0  0  0  1  1  1  1  1  1  1  1  1  3  3  2  3  3  2  3  3  3  3  3  2  3  3  2  3  3  3  1  1  1  1  1  1  1  1  1  \n",
            "3  3  2  3  3  2  3  3  3  3  3  2  3  3  2  3  3  3  1  1  1  1  1  1  1  1  1  0  0  0  0  0  0  0  0  0  0  0  0  0  0  0  0  0  0  1  1  1  1  1  \n",
            "1  1  1  1  0  0  0  0  0  0  0  0  0  0  0  0  0  0  0  0  0  0  1  1  1  1  1  1  1  1  1  3  3  3  3  3  3  3  3  3  3  3  3  3  3  3  3  3  3  1  \n",
            "1  1  1  1  1  1  1  1  3  3  3  3  3  3  3  3  3  3  3  3  3  3  3  3  3  3  "
          ],
          "name": "stdout"
        }
      ]
    },
    {
      "cell_type": "code",
      "metadata": {
        "colab": {
          "base_uri": "https://localhost:8080/",
          "height": 592
        },
        "id": "CONlXN9X-1Dc",
        "outputId": "ecff8cc7-e745-4a74-c134-d6e6269dbce1"
      },
      "source": [
        "fig = plt.figure(figsize=(10,10))\n",
        "plt.axes(projection = '3d')\n",
        "plt.scatter(X[y_hc==0,0],X[y_hc==0,1],s=50,c='violet',label='cluster1')\n",
        "plt.scatter(X[y_hc==1,0],X[y_hc==1,1],s=50,c='blue',label='cluster2')\n",
        "plt.scatter(X[y_hc==2,0],X[y_hc==2,1],s=50,c='green',label='cluster3')\n",
        "plt.scatter(X[y_hc==3,0],X[y_hc==3,1],s=50,c='yellow',label='cluster4')\n",
        "plt.scatter(X[y_hc==4,0],X[y_hc==4,1],s=50,c='orange',label='cluster5')\n",
        "plt.scatter(X[y_hc==5,0],X[y_hc==5,1],s=50,c='red',label='cluster6' )\n",
        "plt.title('Heirarchical Clustering')\n",
        "plt.xlabel('Features')\n",
        "plt.ylabel('Decision')\n",
        "plt.legend()"
      ],
      "execution_count": 455,
      "outputs": [
        {
          "output_type": "execute_result",
          "data": {
            "text/plain": [
              "<matplotlib.legend.Legend at 0x7f8dc5179cd0>"
            ]
          },
          "metadata": {
            "tags": []
          },
          "execution_count": 455
        },
        {
          "output_type": "display_data",
          "data": {
            "image/png": "[encoded data removed]",
            "text/plain": [
              "<Figure size 720x720 with 1 Axes>"
            ]
          },
          "metadata": {
            "tags": [],
            "needs_background": "light"
          }
        }
      ]
    },
    {
      "cell_type": "code",
      "metadata": {
        "colab": {
          "base_uri": "https://localhost:8080/"
        },
        "id": "1GjD-dMh03L9",
        "outputId": "f63c76c3-04ed-4278-e151-cb16544cf6ec"
      },
      "source": [
        "X.shape"
      ],
      "execution_count": 456,
      "outputs": [
        {
          "output_type": "execute_result",
          "data": {
            "text/plain": [
              "(1727, 6)"
            ]
          },
          "metadata": {
            "tags": []
          },
          "execution_count": 456
        }
      ]
    },
    {
      "cell_type": "code",
      "metadata": {
        "colab": {
          "base_uri": "https://localhost:8080/",
          "height": 458
        },
        "id": "lI87A_he1Ezq",
        "outputId": "90d33f30-002f-48fb-a76f-c67359ff149e"
      },
      "source": [
        "#K means elbow plot\n",
        "wcss=[]\n",
        "for i in range(1,10):\n",
        "    kmeans = KMeans(n_clusters=i,init='k-means++',random_state=0)\n",
        "    kmeans.fit(X)\n",
        "    wcss.append(kmeans.inertia_)#residual values \n",
        "plt.plot(range(1,10),wcss)\n",
        "plt.title('K means Elbow Graph')\n",
        "plt.xlabel('# of Cluster')\n",
        "plt.ylabel('WCSS')\n",
        "plt.show()"
      ],
      "execution_count": 457,
      "outputs": [
        {
          "output_type": "display_data",
          "data": {
            "image/png": "[encoded data removed]",
            "text/plain": [
              "<Figure size 720x504 with 1 Axes>"
            ]
          },
          "metadata": {
            "tags": [],
            "needs_background": "light"
          }
        }
      ]
    },
    {
      "cell_type": "code",
      "metadata": {
        "colab": {
          "base_uri": "https://localhost:8080/",
          "height": 411
        },
        "id": "r1JZkBqMDDbP",
        "outputId": "8228ffc5-a6f2-4c11-aa4f-55c0c0f34a01"
      },
      "source": [
        "kmeans = KMeans(n_clusters=5,init='k-means++',random_state=3)\n",
        "y_kmeans = kmeans.fit_predict(X)\n",
        "plt.axes(projection='3d')\n",
        "plt.scatter(X[y_kmeans==0,0],X[y_kmeans==0,1],s=20,c='violet',label='cluster1')\n",
        "plt.scatter(X[y_kmeans==1,0],X[y_kmeans==1,1],s=20,c='indigo',label='cluster2')\n",
        "plt.scatter(X[y_kmeans==2,0],X[y_kmeans==2,1],s=20,c='green',label='cluster3')\n",
        "plt.scatter(X[y_kmeans==3,0],X[y_kmeans==3,1],s=20,c='yellow',label='cluster4')\n",
        "plt.scatter(X[y_kmeans==4,0],X[y_kmeans==4,1],s=20,c='red',label='cluster5')\n",
        "plt.scatter(X[y_kmeans==5,0],X[y_kmeans==5,1],s=20,c='blue',label='cluster6' )\n",
        "plt.scatter(kmeans.cluster_centers_[:,0],kmeans.cluster_centers_[:,1],s=100,c='black',label='centroids')\n",
        "\n",
        "plt.title('K Means Clustering')\n",
        "\n",
        "plt.legend()  \n",
        "plt.show()"
      ],
      "execution_count": 458,
      "outputs": [
        {
          "output_type": "display_data",
          "data": {
            "image/png": "[encoded data removed]",
            "text/plain": [
              "<Figure size 720x504 with 1 Axes>"
            ]
          },
          "metadata": {
            "tags": [],
            "needs_background": "light"
          }
        }
      ]
    },
    {
      "cell_type": "code",
      "metadata": {
        "colab": {
          "base_uri": "https://localhost:8080/",
          "height": 428
        },
        "id": "WZY_jWFxEOog",
        "outputId": "78ed6875-8ab9-4f35-a964-bef254b42f0a"
      },
      "source": [
        "#DBSCAN\n",
        "from sklearn.cluster import DBSCAN\n",
        "from sklearn.preprocessing import StandardScaler\n",
        "from sklearn.neighbors import NearestNeighbors\n",
        "Y = StandardScaler().fit_transform(X)\n",
        "ns = 6\n",
        "nearestNeighbour = NearestNeighbors(ns).fit(Y)\n",
        "distances,indices = nearestNeighbour.kneighbors(Y)\n",
        "distanceDec = sorted(distances[:,5],reverse=True)\n",
        "plt.plot(indices[:,0],distanceDec)\n",
        "db = DBSCAN(eps=0.5,min_samples=5).fit(Y)\n",
        "labels = db.labels_  #-1 is noise points\n",
        "db.core_sample_indices_     #core_datapointa\n",
        "cores_samples_mask = np.zeros_like(db.labels_,dtype=bool)\n",
        "cores_samples_mask[db.core_sample_indices_]=True\n",
        "cores_samples_mask\n",
        "n_clusters = len(set(labels))-1\n",
        "unique_lables = set(labels)\n",
        "colors= [plt.cm.Spectral(i) for i in np.linspace(0,1,len(unique_lables))]"
      ],
      "execution_count": 459,
      "outputs": [
        {
          "output_type": "display_data",
          "data": {
            "image/png": "[encoded data removed]",
            "text/plain": [
              "<Figure size 720x504 with 1 Axes>"
            ]
          },
          "metadata": {
            "tags": [],
            "needs_background": "light"
          }
        }
      ]
    },
    {
      "cell_type": "markdown",
      "metadata": {
        "id": "tKvGSeADD-M2"
      },
      "source": [
        "### **Conclusion**\n",
        "As we can see, all the other algorithms performed well, but the K means and Hierarchical clustering showed unsatisfactory results, this is due to all the features being categorical.\n",
        "\n",
        "KNN and Random Forest algorithms gave good result with almost nearby values for accuracy as again, the data is categorical and has a only 2,3 or 5 unique values per feature column\n",
        "\n",
        "To make a better model, we can try using the unsupervised methods on the model before, to find the outliers, and then perform supervised learning algorithms.\n"
      ]
    }
  ]
}