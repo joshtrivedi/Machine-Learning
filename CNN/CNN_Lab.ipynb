{
  "nbformat": 4,
  "nbformat_minor": 0,
  "metadata": {
    "colab": {
      "name": "CNN-Lab.ipynb",
      "provenance": [],
      "include_colab_link": true
    },
    "kernelspec": {
      "name": "python3",
      "display_name": "Python 3"
    },
    "language_info": {
      "name": "python"
    }
  },
  "cells": [
    {
      "cell_type": "markdown",
      "metadata": {
        "id": "view-in-github",
        "colab_type": "text"
      },
      "source": [
        "<a href=\"https://colab.research.google.com/github/joshtrivedi/Machine-Learning/blob/main/CNN/CNN_Lab.ipynb\" target=\"_parent\"><img src=\"https://colab.research.google.com/assets/colab-badge.svg\" alt=\"Open In Colab\"/></a>"
      ]
    },
    {
      "cell_type": "code",
      "metadata": {
        "id": "LEe5FvAEfQpH"
      },
      "source": [
        "import numpy as np\n",
        "import numpy.random as nr\n",
        "import matplotlib.pyplot as plt\n",
        "import keras\n",
        "from keras.datasets import mnist\n",
        "import keras.utils.np_utils as ku\n",
        "import keras.models as models\n",
        "import keras.layers as layers\n",
        "from keras import regularizers\n",
        "from keras.layers import Dropout\n",
        "#from keras.optimizers import rmsprop, Adam\n",
        "from keras.utils import to_categorical"
      ],
      "execution_count": null,
      "outputs": []
    },
    {
      "cell_type": "code",
      "metadata": {
        "id": "j6CutDZAfWaD"
      },
      "source": [
        "%matplotlib inline"
      ],
      "execution_count": null,
      "outputs": []
    },
    {
      "cell_type": "code",
      "metadata": {
        "id": "GFmgAv50fa_3"
      },
      "source": [
        "import tensorflow as tf"
      ],
      "execution_count": null,
      "outputs": []
    },
    {
      "cell_type": "code",
      "metadata": {
        "id": "TMbB95P1fcsI"
      },
      "source": [
        "from tensorflow.keras.models import Sequential\n",
        "from tensorflow.keras.layers import Dense, Dropout, Activation, Flatten\n",
        "from tensorflow.keras.layers import Conv2D"
      ],
      "execution_count": null,
      "outputs": []
    },
    {
      "cell_type": "code",
      "metadata": {
        "colab": {
          "base_uri": "https://localhost:8080/"
        },
        "id": "iIFNIa8xfehW",
        "outputId": "e5e6a65a-ed35-415f-b917-90bb5dffa23a"
      },
      "source": [
        "print(keras.__version__)"
      ],
      "execution_count": null,
      "outputs": [
        {
          "output_type": "stream",
          "text": [
            "2.4.3\n"
          ],
          "name": "stdout"
        }
      ]
    },
    {
      "cell_type": "code",
      "metadata": {
        "id": "50eNTKYufhTk"
      },
      "source": [
        "from keras.datasets import fashion_mnist\n",
        "(train_X,train_Y), (test_X,test_Y) = fashion_mnist.load_data()"
      ],
      "execution_count": null,
      "outputs": []
    },
    {
      "cell_type": "code",
      "metadata": {
        "colab": {
          "base_uri": "https://localhost:8080/",
          "height": 282
        },
        "id": "5_sGp4lwfk3K",
        "outputId": "cf74d0d3-2a76-4007-f810-23727170239a"
      },
      "source": [
        "plt.imshow(train_X[0])\n",
        "print(train_Y[0])\n"
      ],
      "execution_count": null,
      "outputs": [
        {
          "output_type": "stream",
          "text": [
            "9\n"
          ],
          "name": "stdout"
        },
        {
          "output_type": "display_data",
          "data": {
            "image/png": "[encoded data removed]",
            "text/plain": [
              "<Figure size 432x288 with 1 Axes>"
            ]
          },
          "metadata": {
            "tags": [],
            "needs_background": "light"
          }
        }
      ]
    },
    {
      "cell_type": "code",
      "metadata": {
        "colab": {
          "base_uri": "https://localhost:8080/"
        },
        "id": "ddFqgiqBfond",
        "outputId": "e51bf717-81f1-4bea-8ed8-d78c2369fe5a"
      },
      "source": [
        "print('Training data shape : ', train_X.shape, train_Y.shape)\n",
        "\n",
        "print('Testing data shape : ', test_X.shape, test_Y.shape)"
      ],
      "execution_count": null,
      "outputs": [
        {
          "output_type": "stream",
          "text": [
            "Training data shape :  (60000, 28, 28) (60000,)\n",
            "Testing data shape :  (10000, 28, 28) (10000,)\n"
          ],
          "name": "stdout"
        }
      ]
    },
    {
      "cell_type": "code",
      "metadata": {
        "colab": {
          "base_uri": "https://localhost:8080/"
        },
        "id": "CBZAOqlefrgJ",
        "outputId": "77f9be61-eac9-40e2-ed90-905c74745f43"
      },
      "source": [
        "classes = np.unique(train_Y)\n",
        "nClasses = len(classes)\n",
        "print('Total number of outputs : ', nClasses)\n",
        "print('Output classes : ', classes)"
      ],
      "execution_count": null,
      "outputs": [
        {
          "output_type": "stream",
          "text": [
            "Total number of outputs :  10\n",
            "Output classes :  [0 1 2 3 4 5 6 7 8 9]\n"
          ],
          "name": "stdout"
        }
      ]
    },
    {
      "cell_type": "code",
      "metadata": {
        "colab": {
          "base_uri": "https://localhost:8080/",
          "height": 208
        },
        "id": "UlFt4E5fftu0",
        "outputId": "cedf4979-5ddf-4d6b-b756-3371c2bbaff3"
      },
      "source": [
        "plt.figure(figsize=[5,5])\n",
        "\n",
        "# Display the first image in training data\n",
        "plt.subplot(121)\n",
        "plt.imshow(train_X[0,:,:], cmap='gray')\n",
        "plt.title(\"Ground Truth : {}\".format(train_Y[0]))\n",
        "\n",
        "# Display the first image in testing data\n",
        "plt.subplot(122)\n",
        "plt.imshow(test_X[0,:,:], cmap='gray')\n",
        "plt.title(\"Ground Truth : {}\".format(test_Y[0]))"
      ],
      "execution_count": null,
      "outputs": [
        {
          "output_type": "execute_result",
          "data": {
            "text/plain": [
              "Text(0.5, 1.0, 'Ground Truth : 9')"
            ]
          },
          "metadata": {
            "tags": []
          },
          "execution_count": 10
        },
        {
          "output_type": "display_data",
          "data": {
            "image/png": "[encoded data removed]",
            "text/plain": [
              "<Figure size 360x360 with 2 Axes>"
            ]
          },
          "metadata": {
            "tags": [],
            "needs_background": "light"
          }
        }
      ]
    },
    {
      "cell_type": "code",
      "metadata": {
        "colab": {
          "base_uri": "https://localhost:8080/"
        },
        "id": "H3N_77QWfxYo",
        "outputId": "3892c384-b478-4b89-a7b4-b3871f7e9048"
      },
      "source": [
        "train_X = train_X.reshape(-1, 28,28, 1)\n",
        "test_X = test_X.reshape(-1, 28,28, 1)\n",
        "train_X.shape, test_X.shape"
      ],
      "execution_count": null,
      "outputs": [
        {
          "output_type": "execute_result",
          "data": {
            "text/plain": [
              "((60000, 28, 28, 1), (10000, 28, 28, 1))"
            ]
          },
          "metadata": {
            "tags": []
          },
          "execution_count": 11
        }
      ]
    },
    {
      "cell_type": "code",
      "metadata": {
        "id": "FP52KIBNfzVX"
      },
      "source": [
        "train_X = train_X.astype('float32')\n",
        "test_X = test_X.astype('float32')\n",
        "train_X = train_X / 255.\n",
        "test_X = test_X / 255"
      ],
      "execution_count": null,
      "outputs": []
    },
    {
      "cell_type": "code",
      "metadata": {
        "colab": {
          "base_uri": "https://localhost:8080/"
        },
        "id": "Mvy8EL8Hf1O5",
        "outputId": "59c738e3-f8d0-4587-e03c-22eea5fdc810"
      },
      "source": [
        "# Change the labels from categorical to one-hot encoding\n",
        "train_Y_one_hot = to_categorical(train_Y)\n",
        "test_Y_one_hot = to_categorical(test_Y)\n",
        "\n",
        "# Display the change for category label using one-hot encoding\n",
        "print('Original label:', train_Y[0])\n",
        "print('After conversion to one-hot:', train_Y_one_hot[0])"
      ],
      "execution_count": null,
      "outputs": [
        {
          "output_type": "stream",
          "text": [
            "Original label: 9\n",
            "After conversion to one-hot: [0. 0. 0. 0. 0. 0. 0. 0. 0. 1.]\n"
          ],
          "name": "stdout"
        }
      ]
    },
    {
      "cell_type": "code",
      "metadata": {
        "id": "xPEYqbdxf5NZ"
      },
      "source": [
        "from sklearn.model_selection import train_test_split\n",
        "train_X,valid_X,train_label,valid_label = train_test_split(train_X, train_Y_one_hot, test_size=0.2, random_state=13)"
      ],
      "execution_count": null,
      "outputs": []
    },
    {
      "cell_type": "code",
      "metadata": {
        "colab": {
          "base_uri": "https://localhost:8080/"
        },
        "id": "v_9PRxwQf7Yi",
        "outputId": "38409b65-e9a9-42e0-8ca2-fa2540e3955f"
      },
      "source": [
        "train_X.shape,valid_X.shape,train_label.shape,valid_label.shape"
      ],
      "execution_count": null,
      "outputs": [
        {
          "output_type": "execute_result",
          "data": {
            "text/plain": [
              "((48000, 28, 28, 1), (12000, 28, 28, 1), (48000, 10), (12000, 10))"
            ]
          },
          "metadata": {
            "tags": []
          },
          "execution_count": 15
        }
      ]
    },
    {
      "cell_type": "code",
      "metadata": {
        "id": "mTAlnQWBf9v3"
      },
      "source": [
        "import keras\n",
        "from keras.models import Sequential,Input,Model\n",
        "from keras.layers import Dense, Dropout, Flatten\n",
        "from keras.layers import Conv2D, MaxPooling2D\n",
        "from keras.layers.normalization import BatchNormalization\n",
        "from keras.layers.advanced_activations import LeakyReLU"
      ],
      "execution_count": null,
      "outputs": []
    },
    {
      "cell_type": "code",
      "metadata": {
        "id": "0FXoEiG9gBM_"
      },
      "source": [
        "batch_size = 64\n",
        "epochs = 20\n",
        "num_classes = 10"
      ],
      "execution_count": null,
      "outputs": []
    },
    {
      "cell_type": "code",
      "metadata": {
        "id": "NKFZmRIJgEUG"
      },
      "source": [
        "import keras\n",
        "import keras.models as models"
      ],
      "execution_count": null,
      "outputs": []
    },
    {
      "cell_type": "code",
      "metadata": {
        "colab": {
          "base_uri": "https://localhost:8080/"
        },
        "id": "OmGWu4rPgG0K",
        "outputId": "4c45abde-6a98-4f6a-8998-d04986e2d873"
      },
      "source": [
        "train_X.shape[1:]"
      ],
      "execution_count": null,
      "outputs": [
        {
          "output_type": "execute_result",
          "data": {
            "text/plain": [
              "(28, 28, 1)"
            ]
          },
          "metadata": {
            "tags": []
          },
          "execution_count": 19
        }
      ]
    },
    {
      "cell_type": "code",
      "metadata": {
        "id": "AhAXTDuEgJQn"
      },
      "source": [
        "model = tf.keras.Sequential()"
      ],
      "execution_count": null,
      "outputs": []
    },
    {
      "cell_type": "code",
      "metadata": {
        "id": "7kabz3glgOwK"
      },
      "source": [
        "model.add(tf.keras.layers.Conv2D(32,(3,3),activation='linear',input_shape=(28, 28,1),padding='same'))\n",
        "model.add(tf.keras.layers.LeakyReLU(alpha=0.1))\n",
        "model.add(tf.keras.layers.MaxPooling2D((2, 2),padding='same'))"
      ],
      "execution_count": null,
      "outputs": []
    },
    {
      "cell_type": "code",
      "metadata": {
        "id": "ITV7kgEMgUAv"
      },
      "source": [
        "model.add(tf.keras.layers.Conv2D(64, (3, 3), activation='linear',padding='same'))\n",
        "model.add(tf.keras.layers.LeakyReLU(alpha=0.1))\n",
        "model.add(tf.keras.layers.MaxPooling2D(pool_size=(2, 2),padding='same'))\n",
        "model.add(tf.keras.layers.Conv2D(128, (3, 3), activation='linear',padding='same'))\n",
        "model.add(tf.keras.layers.LeakyReLU(alpha=0.1))                  \n",
        "model.add(tf.keras.layers.MaxPooling2D(pool_size=(2, 2),padding='same'))"
      ],
      "execution_count": null,
      "outputs": []
    },
    {
      "cell_type": "code",
      "metadata": {
        "id": "ekN4lN9qgV8W"
      },
      "source": [
        "model.add(tf.keras.layers.Flatten())"
      ],
      "execution_count": null,
      "outputs": []
    },
    {
      "cell_type": "code",
      "metadata": {
        "id": "yDeEbL8_gaqo"
      },
      "source": [
        "model.add(tf.keras.layers.Dense(128, activation='linear'))\n",
        "model.add(tf.keras.layers.LeakyReLU(alpha=0.1))                  \n",
        "model.add(tf.keras.layers.Dense(num_classes, activation='softmax'))"
      ],
      "execution_count": null,
      "outputs": []
    },
    {
      "cell_type": "code",
      "metadata": {
        "id": "sGYHEnPtgc7I"
      },
      "source": [
        "model.compile(loss=tf.keras.losses.categorical_crossentropy, optimizer=tf.keras.optimizers.Adam(),metrics=['accuracy'])"
      ],
      "execution_count": null,
      "outputs": []
    },
    {
      "cell_type": "code",
      "metadata": {
        "colab": {
          "base_uri": "https://localhost:8080/"
        },
        "id": "DRWbkkp0gfgp",
        "outputId": "9a109e8b-640f-4efc-abea-2da833b97e70"
      },
      "source": [
        "model.summary()"
      ],
      "execution_count": null,
      "outputs": [
        {
          "output_type": "stream",
          "text": [
            "Model: \"sequential\"\n",
            "_________________________________________________________________\n",
            "Layer (type)                 Output Shape              Param #   \n",
            "=================================================================\n",
            "conv2d (Conv2D)              (None, 28, 28, 32)        320       \n",
            "_________________________________________________________________\n",
            "leaky_re_lu (LeakyReLU)      (None, 28, 28, 32)        0         \n",
            "_________________________________________________________________\n",
            "max_pooling2d (MaxPooling2D) (None, 14, 14, 32)        0         \n",
            "_________________________________________________________________\n",
            "conv2d_1 (Conv2D)            (None, 14, 14, 64)        18496     \n",
            "_________________________________________________________________\n",
            "leaky_re_lu_1 (LeakyReLU)    (None, 14, 14, 64)        0         \n",
            "_________________________________________________________________\n",
            "max_pooling2d_1 (MaxPooling2 (None, 7, 7, 64)          0         \n",
            "_________________________________________________________________\n",
            "conv2d_2 (Conv2D)            (None, 7, 7, 128)         73856     \n",
            "_________________________________________________________________\n",
            "leaky_re_lu_2 (LeakyReLU)    (None, 7, 7, 128)         0         \n",
            "_________________________________________________________________\n",
            "max_pooling2d_2 (MaxPooling2 (None, 4, 4, 128)         0         \n",
            "_________________________________________________________________\n",
            "flatten (Flatten)            (None, 2048)              0         \n",
            "_________________________________________________________________\n",
            "dense (Dense)                (None, 128)               262272    \n",
            "_________________________________________________________________\n",
            "leaky_re_lu_3 (LeakyReLU)    (None, 128)               0         \n",
            "_________________________________________________________________\n",
            "dense_1 (Dense)              (None, 10)                1290      \n",
            "=================================================================\n",
            "Total params: 356,234\n",
            "Trainable params: 356,234\n",
            "Non-trainable params: 0\n",
            "_________________________________________________________________\n"
          ],
          "name": "stdout"
        }
      ]
    },
    {
      "cell_type": "code",
      "metadata": {
        "colab": {
          "base_uri": "https://localhost:8080/"
        },
        "id": "cqVvqoEpglZ1",
        "outputId": "1eaca051-cdd7-4423-dd3f-693689c8961d"
      },
      "source": [
        "model_train=model.fit(train_X, train_label, batch_size=64,epochs=20,verbose=1,validation_data=(valid_X, valid_label))"
      ],
      "execution_count": null,
      "outputs": [
        {
          "output_type": "stream",
          "text": [
            "Epoch 1/20\n",
            "750/750 [==============================] - 72s 95ms/step - loss: 0.6797 - accuracy: 0.7504 - val_loss: 0.3225 - val_accuracy: 0.8827\n",
            "Epoch 2/20\n",
            "750/750 [==============================] - 71s 95ms/step - loss: 0.3016 - accuracy: 0.8902 - val_loss: 0.3039 - val_accuracy: 0.8893\n",
            "Epoch 3/20\n",
            "750/750 [==============================] - 71s 95ms/step - loss: 0.2500 - accuracy: 0.9084 - val_loss: 0.2750 - val_accuracy: 0.9010\n",
            "Epoch 4/20\n",
            "750/750 [==============================] - 71s 95ms/step - loss: 0.2135 - accuracy: 0.9202 - val_loss: 0.2362 - val_accuracy: 0.9156\n",
            "Epoch 5/20\n",
            "750/750 [==============================] - 72s 95ms/step - loss: 0.1871 - accuracy: 0.9308 - val_loss: 0.2408 - val_accuracy: 0.9139\n",
            "Epoch 6/20\n",
            "750/750 [==============================] - 72s 95ms/step - loss: 0.1634 - accuracy: 0.9395 - val_loss: 0.2491 - val_accuracy: 0.9131\n",
            "Epoch 7/20\n",
            "750/750 [==============================] - 72s 96ms/step - loss: 0.1437 - accuracy: 0.9472 - val_loss: 0.2398 - val_accuracy: 0.9161\n",
            "Epoch 8/20\n",
            "750/750 [==============================] - 72s 95ms/step - loss: 0.1193 - accuracy: 0.9563 - val_loss: 0.2455 - val_accuracy: 0.9200\n",
            "Epoch 9/20\n",
            "750/750 [==============================] - 71s 95ms/step - loss: 0.1050 - accuracy: 0.9627 - val_loss: 0.2630 - val_accuracy: 0.9184\n",
            "Epoch 10/20\n",
            "750/750 [==============================] - 72s 96ms/step - loss: 0.0822 - accuracy: 0.9697 - val_loss: 0.2710 - val_accuracy: 0.9191\n",
            "Epoch 11/20\n",
            "750/750 [==============================] - 71s 95ms/step - loss: 0.0734 - accuracy: 0.9719 - val_loss: 0.2775 - val_accuracy: 0.9213\n",
            "Epoch 12/20\n",
            "750/750 [==============================] - 71s 95ms/step - loss: 0.0638 - accuracy: 0.9756 - val_loss: 0.3254 - val_accuracy: 0.9203\n",
            "Epoch 13/20\n",
            "750/750 [==============================] - 72s 95ms/step - loss: 0.0527 - accuracy: 0.9801 - val_loss: 0.3206 - val_accuracy: 0.9206\n",
            "Epoch 14/20\n",
            "750/750 [==============================] - 71s 95ms/step - loss: 0.0458 - accuracy: 0.9824 - val_loss: 0.3275 - val_accuracy: 0.9235\n",
            "Epoch 15/20\n",
            "750/750 [==============================] - 71s 95ms/step - loss: 0.0413 - accuracy: 0.9854 - val_loss: 0.3474 - val_accuracy: 0.9207\n",
            "Epoch 16/20\n",
            "750/750 [==============================] - 71s 95ms/step - loss: 0.0342 - accuracy: 0.9866 - val_loss: 0.3619 - val_accuracy: 0.9195\n",
            "Epoch 17/20\n",
            "750/750 [==============================] - 72s 95ms/step - loss: 0.0348 - accuracy: 0.9874 - val_loss: 0.4304 - val_accuracy: 0.9122\n",
            "Epoch 18/20\n",
            "750/750 [==============================] - 71s 95ms/step - loss: 0.0303 - accuracy: 0.9888 - val_loss: 0.4119 - val_accuracy: 0.9178\n",
            "Epoch 19/20\n",
            "750/750 [==============================] - 72s 96ms/step - loss: 0.0319 - accuracy: 0.9879 - val_loss: 0.4366 - val_accuracy: 0.9187\n",
            "Epoch 20/20\n",
            "750/750 [==============================] - 72s 96ms/step - loss: 0.0251 - accuracy: 0.9913 - val_loss: 0.4343 - val_accuracy: 0.9215\n"
          ],
          "name": "stdout"
        }
      ]
    },
    {
      "cell_type": "code",
      "metadata": {
        "colab": {
          "base_uri": "https://localhost:8080/"
        },
        "id": "b_4ZgCNAgqjM",
        "outputId": "a26b32ad-9626-4e88-f2eb-523c43e652ee"
      },
      "source": [
        "\n",
        "test_eval = model.evaluate(test_X, test_Y_one_hot, verbose=0)\n",
        "print('Test loss:', test_eval[0])\n",
        "print('Test accuracy:', test_eval[1])"
      ],
      "execution_count": null,
      "outputs": [
        {
          "output_type": "stream",
          "text": [
            "Test loss: 0.4458758234977722\n",
            "Test accuracy: 0.9186000227928162\n"
          ],
          "name": "stdout"
        }
      ]
    },
    {
      "cell_type": "code",
      "metadata": {
        "colab": {
          "base_uri": "https://localhost:8080/"
        },
        "id": "yVu90TRbgvmY",
        "outputId": "2b7eafbe-3224-470e-81b6-94db9f857852"
      },
      "source": [
        "model_train.history"
      ],
      "execution_count": null,
      "outputs": [
        {
          "output_type": "execute_result",
          "data": {
            "text/plain": [
              "{'accuracy': [0.8290625214576721,\n",
              "  0.8934791684150696,\n",
              "  0.9103333353996277,\n",
              "  0.9193541407585144,\n",
              "  0.9307291507720947,\n",
              "  0.9379583597183228,\n",
              "  0.9464166760444641,\n",
              "  0.9525416493415833,\n",
              "  0.9604166746139526,\n",
              "  0.9669166803359985,\n",
              "  0.9697916507720947,\n",
              "  0.9744166731834412,\n",
              "  0.9784166812896729,\n",
              "  0.9808124899864197,\n",
              "  0.9839791655540466,\n",
              "  0.9840624928474426,\n",
              "  0.9861458539962769,\n",
              "  0.9870625138282776,\n",
              "  0.9876458048820496,\n",
              "  0.9893958568572998],\n",
              " 'loss': [0.4676697254180908,\n",
              "  0.2906569838523865,\n",
              "  0.24572882056236267,\n",
              "  0.21517132222652435,\n",
              "  0.18737618625164032,\n",
              "  0.16755452752113342,\n",
              "  0.14330735802650452,\n",
              "  0.12580175697803497,\n",
              "  0.10822444409132004,\n",
              "  0.08885373175144196,\n",
              "  0.08036624640226364,\n",
              "  0.06713905930519104,\n",
              "  0.056730642914772034,\n",
              "  0.05050775036215782,\n",
              "  0.04370836913585663,\n",
              "  0.04180465266108513,\n",
              "  0.036946915090084076,\n",
              "  0.03415842354297638,\n",
              "  0.03250590339303017,\n",
              "  0.029541201889514923],\n",
              " 'val_accuracy': [0.8827499747276306,\n",
              "  0.8893333077430725,\n",
              "  0.9010000228881836,\n",
              "  0.9155833125114441,\n",
              "  0.9139166474342346,\n",
              "  0.9130833148956299,\n",
              "  0.9160833358764648,\n",
              "  0.9200000166893005,\n",
              "  0.9184166789054871,\n",
              "  0.9190833568572998,\n",
              "  0.9213333129882812,\n",
              "  0.9203333258628845,\n",
              "  0.9205833077430725,\n",
              "  0.9235000014305115,\n",
              "  0.9206666946411133,\n",
              "  0.9194999933242798,\n",
              "  0.9121666550636292,\n",
              "  0.9177500009536743,\n",
              "  0.918749988079071,\n",
              "  0.921500027179718],\n",
              " 'val_loss': [0.32247194647789,\n",
              "  0.30387502908706665,\n",
              "  0.2750326991081238,\n",
              "  0.23623257875442505,\n",
              "  0.240849569439888,\n",
              "  0.24914677441120148,\n",
              "  0.239789679646492,\n",
              "  0.2454543262720108,\n",
              "  0.2630045711994171,\n",
              "  0.2710113823413849,\n",
              "  0.277452290058136,\n",
              "  0.3254154622554779,\n",
              "  0.3206113576889038,\n",
              "  0.32754892110824585,\n",
              "  0.3473701477050781,\n",
              "  0.361947625875473,\n",
              "  0.43043962121009827,\n",
              "  0.41189059615135193,\n",
              "  0.43657809495925903,\n",
              "  0.43433430790901184]}"
            ]
          },
          "metadata": {
            "tags": []
          },
          "execution_count": 29
        }
      ]
    },
    {
      "cell_type": "code",
      "metadata": {
        "colab": {
          "base_uri": "https://localhost:8080/",
          "height": 545
        },
        "id": "D_sJq4Gwgz90",
        "outputId": "f9920b91-8d4b-419f-ab2f-2505a6c03244"
      },
      "source": [
        "accuracy = model_train.history['accuracy']\n",
        "val_accuracy = model_train.history['val_accuracy']\n",
        "loss = model_train.history['loss']\n",
        "val_loss = model_train.history['val_loss']\n",
        "epochs = range(len(accuracy))\n",
        "plt.plot(epochs, accuracy, 'bo', label='Training accuracy')\n",
        "plt.plot(epochs, val_accuracy, 'b', label='Validation accuracy')\n",
        "plt.title('Training and validation accuracy')\n",
        "plt.legend()\n",
        "plt.figure()\n",
        "plt.plot(epochs, loss, 'bo', label='Training loss')\n",
        "plt.plot(epochs, val_loss, 'b', label='Validation loss')\n",
        "plt.title('Training and validation loss')\n",
        "plt.legend()\n",
        "plt.show()"
      ],
      "execution_count": null,
      "outputs": [
        {
          "output_type": "display_data",
          "data": {
            "image/png": "[encoded data removed]",
            "text/plain": [
              "<Figure size 432x288 with 1 Axes>"
            ]
          },
          "metadata": {
            "tags": [],
            "needs_background": "light"
          }
        },
        {
          "output_type": "display_data",
          "data": {
            "image/png": "[encoded data removed]",
            "text/plain": [
              "<Figure size 432x288 with 1 Axes>"
            ]
          },
          "metadata": {
            "tags": [],
            "needs_background": "light"
          }
        }
      ]
    },
    {
      "cell_type": "code",
      "metadata": {
        "id": "-hXkarm0hFCd"
      },
      "source": [
        "fashion_model = tf.keras.Sequential()\n",
        "fashion_model.add(tf.keras.layers.Conv2D(32, kernel_size=(3, 3),activation='linear',padding='same',input_shape=(28,28,1)))\n",
        "fashion_model.add(tf.keras.layers.LeakyReLU(alpha=0.1))\n",
        "fashion_model.add(tf.keras.layers.MaxPooling2D((2, 2),padding='same'))\n",
        "fashion_model.add(tf.keras.layers.Dropout(0.25))\n",
        "fashion_model.add(tf.keras.layers.Conv2D(64, (3, 3), activation='linear',padding='same'))\n",
        "fashion_model.add(tf.keras.layers.LeakyReLU(alpha=0.1))\n",
        "fashion_model.add(tf.keras.layers.MaxPooling2D(pool_size=(2, 2),padding='same'))\n",
        "fashion_model.add(tf.keras.layers.Dropout(0.25))\n",
        "fashion_model.add(tf.keras.layers.Conv2D(128, (3, 3), activation='linear',padding='same'))\n",
        "fashion_model.add(tf.keras.layers.LeakyReLU(alpha=0.1))                  \n",
        "fashion_model.add(tf.keras.layers.MaxPooling2D(pool_size=(2, 2),padding='same'))\n",
        "fashion_model.add(tf.keras.layers.Dropout(0.4))\n",
        "fashion_model.add(tf.keras.layers.Flatten())\n",
        "fashion_model.add(tf.keras.layers.Dense(128, activation='linear'))\n",
        "fashion_model.add(tf.keras.layers.LeakyReLU(alpha=0.1))           \n",
        "fashion_model.add(tf.keras.layers.Dropout(0.3))\n",
        "fashion_model.add(tf.keras.layers.Dense(num_classes, activation='softmax'))"
      ],
      "execution_count": null,
      "outputs": []
    },
    {
      "cell_type": "code",
      "metadata": {
        "colab": {
          "base_uri": "https://localhost:8080/"
        },
        "id": "H9EtJneehHfn",
        "outputId": "92c1c5a7-cc3d-4090-f13b-e92f95b13d8e"
      },
      "source": [
        "fashion_model.summary()"
      ],
      "execution_count": null,
      "outputs": [
        {
          "output_type": "stream",
          "text": [
            "Model: \"sequential_1\"\n",
            "_________________________________________________________________\n",
            "Layer (type)                 Output Shape              Param #   \n",
            "=================================================================\n",
            "conv2d_3 (Conv2D)            (None, 28, 28, 32)        320       \n",
            "_________________________________________________________________\n",
            "leaky_re_lu_4 (LeakyReLU)    (None, 28, 28, 32)        0         \n",
            "_________________________________________________________________\n",
            "max_pooling2d_3 (MaxPooling2 (None, 14, 14, 32)        0         \n",
            "_________________________________________________________________\n",
            "dropout (Dropout)            (None, 14, 14, 32)        0         \n",
            "_________________________________________________________________\n",
            "conv2d_4 (Conv2D)            (None, 14, 14, 64)        18496     \n",
            "_________________________________________________________________\n",
            "leaky_re_lu_5 (LeakyReLU)    (None, 14, 14, 64)        0         \n",
            "_________________________________________________________________\n",
            "max_pooling2d_4 (MaxPooling2 (None, 7, 7, 64)          0         \n",
            "_________________________________________________________________\n",
            "dropout_1 (Dropout)          (None, 7, 7, 64)          0         \n",
            "_________________________________________________________________\n",
            "conv2d_5 (Conv2D)            (None, 7, 7, 128)         73856     \n",
            "_________________________________________________________________\n",
            "leaky_re_lu_6 (LeakyReLU)    (None, 7, 7, 128)         0         \n",
            "_________________________________________________________________\n",
            "max_pooling2d_5 (MaxPooling2 (None, 4, 4, 128)         0         \n",
            "_________________________________________________________________\n",
            "dropout_2 (Dropout)          (None, 4, 4, 128)         0         \n",
            "_________________________________________________________________\n",
            "flatten_1 (Flatten)          (None, 2048)              0         \n",
            "_________________________________________________________________\n",
            "dense_2 (Dense)              (None, 128)               262272    \n",
            "_________________________________________________________________\n",
            "leaky_re_lu_7 (LeakyReLU)    (None, 128)               0         \n",
            "_________________________________________________________________\n",
            "dropout_3 (Dropout)          (None, 128)               0         \n",
            "_________________________________________________________________\n",
            "dense_3 (Dense)              (None, 10)                1290      \n",
            "=================================================================\n",
            "Total params: 356,234\n",
            "Trainable params: 356,234\n",
            "Non-trainable params: 0\n",
            "_________________________________________________________________\n"
          ],
          "name": "stdout"
        }
      ]
    },
    {
      "cell_type": "code",
      "metadata": {
        "id": "4kIKV-zQhLOF"
      },
      "source": [
        "fashion_model.compile(loss=tf.keras.losses.categorical_crossentropy, optimizer=tf.keras.optimizers.Adam(),metrics=['accuracy'])"
      ],
      "execution_count": null,
      "outputs": []
    },
    {
      "cell_type": "code",
      "metadata": {
        "colab": {
          "base_uri": "https://localhost:8080/"
        },
        "id": "DJwUTRqphNpW",
        "outputId": "64270d03-fc4e-4e4d-8a9b-94eb2cb77198"
      },
      "source": [
        "fashion_train_dropout = fashion_model.fit(train_X, train_label, batch_size=64,epochs=20,verbose=1,validation_data=(valid_X, valid_label))"
      ],
      "execution_count": null,
      "outputs": [
        {
          "output_type": "stream",
          "text": [
            "Epoch 1/20\n",
            "750/750 [==============================] - 77s 102ms/step - loss: 0.8754 - accuracy: 0.6730 - val_loss: 0.3939 - val_accuracy: 0.8496\n",
            "Epoch 2/20\n",
            "750/750 [==============================] - 77s 102ms/step - loss: 0.3995 - accuracy: 0.8527 - val_loss: 0.3061 - val_accuracy: 0.8867\n",
            "Epoch 3/20\n",
            "750/750 [==============================] - 76s 102ms/step - loss: 0.3448 - accuracy: 0.8720 - val_loss: 0.2838 - val_accuracy: 0.8954\n",
            "Epoch 4/20\n",
            "750/750 [==============================] - 76s 102ms/step - loss: 0.3071 - accuracy: 0.8853 - val_loss: 0.2643 - val_accuracy: 0.9013\n",
            "Epoch 5/20\n",
            "750/750 [==============================] - 76s 101ms/step - loss: 0.2806 - accuracy: 0.8944 - val_loss: 0.2454 - val_accuracy: 0.9095\n",
            "Epoch 6/20\n",
            "750/750 [==============================] - 75s 101ms/step - loss: 0.2628 - accuracy: 0.9025 - val_loss: 0.2362 - val_accuracy: 0.9142\n",
            "Epoch 7/20\n",
            "750/750 [==============================] - 76s 101ms/step - loss: 0.2523 - accuracy: 0.9082 - val_loss: 0.2330 - val_accuracy: 0.9147\n",
            "Epoch 8/20\n",
            "750/750 [==============================] - 77s 103ms/step - loss: 0.2444 - accuracy: 0.9077 - val_loss: 0.2384 - val_accuracy: 0.9103\n",
            "Epoch 9/20\n",
            "750/750 [==============================] - 77s 103ms/step - loss: 0.2374 - accuracy: 0.9102 - val_loss: 0.2311 - val_accuracy: 0.9175\n",
            "Epoch 10/20\n",
            "750/750 [==============================] - 77s 103ms/step - loss: 0.2355 - accuracy: 0.9115 - val_loss: 0.2169 - val_accuracy: 0.9210\n",
            "Epoch 11/20\n",
            "750/750 [==============================] - 77s 102ms/step - loss: 0.2275 - accuracy: 0.9168 - val_loss: 0.2281 - val_accuracy: 0.9172\n",
            "Epoch 12/20\n",
            "750/750 [==============================] - 77s 102ms/step - loss: 0.2257 - accuracy: 0.9155 - val_loss: 0.2240 - val_accuracy: 0.9207\n",
            "Epoch 13/20\n",
            "750/750 [==============================] - 76s 102ms/step - loss: 0.2240 - accuracy: 0.9168 - val_loss: 0.2297 - val_accuracy: 0.9186\n",
            "Epoch 14/20\n",
            "750/750 [==============================] - 77s 102ms/step - loss: 0.2105 - accuracy: 0.9201 - val_loss: 0.2216 - val_accuracy: 0.9222\n",
            "Epoch 15/20\n",
            "750/750 [==============================] - 77s 102ms/step - loss: 0.2096 - accuracy: 0.9194 - val_loss: 0.2076 - val_accuracy: 0.9257\n",
            "Epoch 16/20\n",
            "750/750 [==============================] - 76s 102ms/step - loss: 0.2083 - accuracy: 0.9218 - val_loss: 0.2131 - val_accuracy: 0.9222\n",
            "Epoch 17/20\n",
            "750/750 [==============================] - 77s 102ms/step - loss: 0.1983 - accuracy: 0.9263 - val_loss: 0.2060 - val_accuracy: 0.9270\n",
            "Epoch 18/20\n",
            "750/750 [==============================] - 77s 102ms/step - loss: 0.1984 - accuracy: 0.9248 - val_loss: 0.2125 - val_accuracy: 0.9239\n",
            "Epoch 19/20\n",
            "750/750 [==============================] - 76s 101ms/step - loss: 0.1932 - accuracy: 0.9264 - val_loss: 0.2292 - val_accuracy: 0.9180\n",
            "Epoch 20/20\n",
            "750/750 [==============================] - 76s 101ms/step - loss: 0.1900 - accuracy: 0.9292 - val_loss: 0.2193 - val_accuracy: 0.9266\n"
          ],
          "name": "stdout"
        }
      ]
    },
    {
      "cell_type": "code",
      "metadata": {
        "colab": {
          "base_uri": "https://localhost:8080/"
        },
        "id": "5DRhRosqhR1w",
        "outputId": "6e38aa76-c2dd-48d1-c5a8-85d0e3f3358d"
      },
      "source": [
        "fashion_model.save(\"fashion_model_dropout.h5py\")"
      ],
      "execution_count": null,
      "outputs": [
        {
          "output_type": "stream",
          "text": [
            "INFO:tensorflow:Assets written to: fashion_model_dropout.h5py/assets\n"
          ],
          "name": "stdout"
        }
      ]
    },
    {
      "cell_type": "code",
      "metadata": {
        "colab": {
          "base_uri": "https://localhost:8080/"
        },
        "id": "n5zwgQPKhUC8",
        "outputId": "606d66ef-e8d3-4c58-bdd5-4f87bbf75e98"
      },
      "source": [
        "test_eval = fashion_model.evaluate(test_X, test_Y_one_hot, verbose=1)"
      ],
      "execution_count": null,
      "outputs": [
        {
          "output_type": "stream",
          "text": [
            "313/313 [==============================] - 5s 15ms/step - loss: 0.2314 - accuracy: 0.9213\n"
          ],
          "name": "stdout"
        }
      ]
    },
    {
      "cell_type": "code",
      "metadata": {
        "colab": {
          "base_uri": "https://localhost:8080/"
        },
        "id": "uN4ppon7hWdc",
        "outputId": "1e75c9c9-064e-4b90-dc14-b12d0bc462fc"
      },
      "source": [
        "print('Test loss:', test_eval[0])\n",
        "print('Test accuracy:', test_eval[1])"
      ],
      "execution_count": null,
      "outputs": [
        {
          "output_type": "stream",
          "text": [
            "Test loss: 0.23138335347175598\n",
            "Test accuracy: 0.9212999939918518\n"
          ],
          "name": "stdout"
        }
      ]
    },
    {
      "cell_type": "code",
      "metadata": {
        "colab": {
          "base_uri": "https://localhost:8080/",
          "height": 545
        },
        "id": "k-WphD1Thbun",
        "outputId": "d1ed3a92-466f-4963-d8ec-6d6be3a0eb75"
      },
      "source": [
        "accuracy = fashion_train_dropout.history['accuracy']\n",
        "val_accuracy = fashion_train_dropout.history['val_accuracy']\n",
        "loss = fashion_train_dropout.history['loss']\n",
        "val_loss = fashion_train_dropout.history['val_loss']\n",
        "epochs = range(len(accuracy))\n",
        "plt.plot(epochs, accuracy, 'bo', label='Training accuracy')\n",
        "plt.plot(epochs, val_accuracy, 'b', label='Validation accuracy')\n",
        "plt.title('Training and validation accuracy')\n",
        "plt.legend()\n",
        "plt.figure()\n",
        "plt.plot(epochs, loss, 'bo', label='Training loss')\n",
        "plt.plot(epochs, val_loss, 'b', label='Validation loss')\n",
        "plt.title('Training and validation loss')\n",
        "plt.legend()\n",
        "plt.show()"
      ],
      "execution_count": null,
      "outputs": [
        {
          "output_type": "display_data",
          "data": {
            "image/png": "[encoded data removed]",
            "text/plain": [
              "<Figure size 432x288 with 1 Axes>"
            ]
          },
          "metadata": {
            "tags": [],
            "needs_background": "light"
          }
        },
        {
          "output_type": "display_data",
          "data": {
            "image/png": "[encoded data removed]",
            "text/plain": [
              "<Figure size 432x288 with 1 Axes>"
            ]
          },
          "metadata": {
            "tags": [],
            "needs_background": "light"
          }
        }
      ]
    },
    {
      "cell_type": "code",
      "metadata": {
        "id": "ifUZwxYXhevJ"
      },
      "source": [
        "predicted_classes = fashion_model.predict(test_X)"
      ],
      "execution_count": null,
      "outputs": []
    },
    {
      "cell_type": "code",
      "metadata": {
        "id": "W17fIlnnhgXR"
      },
      "source": [
        "predicted_classes = np.argmax(np.round(predicted_classes),axis=1)"
      ],
      "execution_count": null,
      "outputs": []
    },
    {
      "cell_type": "code",
      "metadata": {
        "colab": {
          "base_uri": "https://localhost:8080/",
          "height": 314
        },
        "id": "-cioTnz0hibj",
        "outputId": "bb0d9e3f-1fd7-420a-e6d9-82da536ffb52"
      },
      "source": [
        "correct = np.where(predicted_classes==test_Y)[0]\n",
        "print (\"Found %d correct labels\" % len(correct))\n",
        "for i, correct in enumerate(correct[:9]):\n",
        "    plt.subplot(3,3,i+1)\n",
        "    plt.imshow(test_X[correct].reshape(28,28), cmap='gray', interpolation='none')\n",
        "    plt.title(\"Predicted {}, Class {}\".format(predicted_classes[correct], test_Y[correct]))\n",
        "    plt.tight_layout()"
      ],
      "execution_count": null,
      "outputs": [
        {
          "output_type": "stream",
          "text": [
            "Found 9165 correct labels\n"
          ],
          "name": "stdout"
        },
        {
          "output_type": "display_data",
          "data": {
            "image/png": "[encoded data removed]",
            "text/plain": [
              "<Figure size 432x288 with 9 Axes>"
            ]
          },
          "metadata": {
            "tags": [],
            "needs_background": "light"
          }
        }
      ]
    },
    {
      "cell_type": "code",
      "metadata": {
        "colab": {
          "base_uri": "https://localhost:8080/",
          "height": 314
        },
        "id": "2OaIMGm_hnO-",
        "outputId": "6dc41b88-73d2-4a93-df2d-3a5e19ba4702"
      },
      "source": [
        "incorrect = np.where(predicted_classes!=test_Y)[0]\n",
        "print (\"Found %d incorrect labels\" % len(incorrect))\n",
        "for i, incorrect in enumerate(incorrect[:9]):\n",
        "    plt.subplot(3,3,i+1)\n",
        "    plt.imshow(test_X[incorrect].reshape(28,28), cmap='gray', interpolation='none')\n",
        "    plt.title(\"Predicted {}, Class {}\".format(predicted_classes[incorrect], test_Y[incorrect]))\n",
        "    plt.tight_layout()"
      ],
      "execution_count": null,
      "outputs": [
        {
          "output_type": "stream",
          "text": [
            "Found 835 incorrect labels\n"
          ],
          "name": "stdout"
        },
        {
          "output_type": "display_data",
          "data": {
            "image/png": "[encoded data removed]",
            "text/plain": [
              "<Figure size 432x288 with 9 Axes>"
            ]
          },
          "metadata": {
            "tags": [],
            "needs_background": "light"
          }
        }
      ]
    },
    {
      "cell_type": "code",
      "metadata": {
        "colab": {
          "base_uri": "https://localhost:8080/"
        },
        "id": "5gcPbcYshrjA",
        "outputId": "0fc655ef-972d-445c-bc87-cf8f28a027cf"
      },
      "source": [
        "from sklearn.metrics import classification_report\n",
        "target_names = [\"Class {}\".format(i) for i in range(num_classes)]\n",
        "print(classification_report(test_Y, predicted_classes, target_names=target_names))"
      ],
      "execution_count": null,
      "outputs": [
        {
          "output_type": "stream",
          "text": [
            "              precision    recall  f1-score   support\n",
            "\n",
            "     Class 0       0.76      0.93      0.83      1000\n",
            "     Class 1       0.99      0.99      0.99      1000\n",
            "     Class 2       0.86      0.89      0.88      1000\n",
            "     Class 3       0.93      0.90      0.92      1000\n",
            "     Class 4       0.90      0.86      0.88      1000\n",
            "     Class 5       0.99      0.97      0.98      1000\n",
            "     Class 6       0.84      0.68      0.75      1000\n",
            "     Class 7       0.96      0.98      0.97      1000\n",
            "     Class 8       0.99      0.99      0.99      1000\n",
            "     Class 9       0.97      0.97      0.97      1000\n",
            "\n",
            "    accuracy                           0.92     10000\n",
            "   macro avg       0.92      0.92      0.92     10000\n",
            "weighted avg       0.92      0.92      0.92     10000\n",
            "\n"
          ],
          "name": "stdout"
        }
      ]
    }
  ]
}