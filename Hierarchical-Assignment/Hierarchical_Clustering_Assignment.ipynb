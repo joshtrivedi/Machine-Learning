{
  "nbformat": 4,
  "nbformat_minor": 0,
  "metadata": {
    "colab": {
      "name": "Hierarchical_Clustering_Assignment.ipynb",
      "provenance": [],
      "collapsed_sections": [],
      "authorship_tag": "ABX9TyPAoPcvzRvzyxH2VBGjA0kz",
      "include_colab_link": true
    },
    "kernelspec": {
      "name": "python3",
      "display_name": "Python 3"
    },
    "language_info": {
      "name": "python"
    }
  },
  "cells": [
    {
      "cell_type": "markdown",
      "metadata": {
        "id": "view-in-github",
        "colab_type": "text"
      },
      "source": [
        "<a href=\"https://colab.research.google.com/github/joshtrivedi/Machine-Learning/blob/main/Hierarchical-Assignment/Hierarchical_Clustering_Assignment.ipynb\" target=\"_parent\"><img src=\"https://colab.research.google.com/assets/colab-badge.svg\" alt=\"Open In Colab\"/></a>"
      ]
    },
    {
      "cell_type": "code",
      "metadata": {
        "id": "yXLMwGU3v_Y2"
      },
      "source": [
        "import numpy as np\n",
        "import pandas as pd\n",
        "import matplotlib.pyplot as plt"
      ],
      "execution_count": 1,
      "outputs": []
    },
    {
      "cell_type": "code",
      "metadata": {
        "id": "YFq7ibUTwXwR"
      },
      "source": [
        "dataset = pd.read_csv('beer_data.csv', decimal=',')\n",
        "dataset.columns = ['date', 'med_temp', 'min_temp','max_temp', 'precipitation','isWeekend','consumption']"
      ],
      "execution_count": 32,
      "outputs": []
    },
    {
      "cell_type": "code",
      "metadata": {
        "colab": {
          "base_uri": "https://localhost:8080/",
          "height": 419
        },
        "id": "dGrLZZSww_XA",
        "outputId": "61091d71-923a-480f-d3f1-3da0cf65ca23"
      },
      "source": [
        "dataset"
      ],
      "execution_count": 33,
      "outputs": [
        {
          "output_type": "execute_result",
          "data": {
            "text/html": [
              "<div>\n",
              "<style scoped>\n",
              "    .dataframe tbody tr th:only-of-type {\n",
              "        vertical-align: middle;\n",
              "    }\n",
              "\n",
              "    .dataframe tbody tr th {\n",
              "        vertical-align: top;\n",
              "    }\n",
              "\n",
              "    .dataframe thead th {\n",
              "        text-align: right;\n",
              "    }\n",
              "</style>\n",
              "<table border=\"1\" class=\"dataframe\">\n",
              "  <thead>\n",
              "    <tr style=\"text-align: right;\">\n",
              "      <th></th>\n",
              "      <th>date</th>\n",
              "      <th>med_temp</th>\n",
              "      <th>min_temp</th>\n",
              "      <th>max_temp</th>\n",
              "      <th>precipitation</th>\n",
              "      <th>isWeekend</th>\n",
              "      <th>consumption</th>\n",
              "    </tr>\n",
              "  </thead>\n",
              "  <tbody>\n",
              "    <tr>\n",
              "      <th>0</th>\n",
              "      <td>2015-01-01</td>\n",
              "      <td>27.30</td>\n",
              "      <td>23.9</td>\n",
              "      <td>32.5</td>\n",
              "      <td>0.0</td>\n",
              "      <td>0.0</td>\n",
              "      <td>25.461</td>\n",
              "    </tr>\n",
              "    <tr>\n",
              "      <th>1</th>\n",
              "      <td>2015-01-02</td>\n",
              "      <td>27.02</td>\n",
              "      <td>24.5</td>\n",
              "      <td>33.5</td>\n",
              "      <td>0.0</td>\n",
              "      <td>0.0</td>\n",
              "      <td>28.972</td>\n",
              "    </tr>\n",
              "    <tr>\n",
              "      <th>2</th>\n",
              "      <td>2015-01-03</td>\n",
              "      <td>24.82</td>\n",
              "      <td>22.4</td>\n",
              "      <td>29.9</td>\n",
              "      <td>0.0</td>\n",
              "      <td>1.0</td>\n",
              "      <td>30.814</td>\n",
              "    </tr>\n",
              "    <tr>\n",
              "      <th>3</th>\n",
              "      <td>2015-01-04</td>\n",
              "      <td>23.98</td>\n",
              "      <td>21.5</td>\n",
              "      <td>28.6</td>\n",
              "      <td>1.2</td>\n",
              "      <td>1.0</td>\n",
              "      <td>29.799</td>\n",
              "    </tr>\n",
              "    <tr>\n",
              "      <th>4</th>\n",
              "      <td>2015-01-05</td>\n",
              "      <td>23.82</td>\n",
              "      <td>21.0</td>\n",
              "      <td>28.3</td>\n",
              "      <td>0.0</td>\n",
              "      <td>0.0</td>\n",
              "      <td>28.900</td>\n",
              "    </tr>\n",
              "    <tr>\n",
              "      <th>...</th>\n",
              "      <td>...</td>\n",
              "      <td>...</td>\n",
              "      <td>...</td>\n",
              "      <td>...</td>\n",
              "      <td>...</td>\n",
              "      <td>...</td>\n",
              "      <td>...</td>\n",
              "    </tr>\n",
              "    <tr>\n",
              "      <th>936</th>\n",
              "      <td>NaN</td>\n",
              "      <td>NaN</td>\n",
              "      <td>NaN</td>\n",
              "      <td>NaN</td>\n",
              "      <td>NaN</td>\n",
              "      <td>NaN</td>\n",
              "      <td>NaN</td>\n",
              "    </tr>\n",
              "    <tr>\n",
              "      <th>937</th>\n",
              "      <td>NaN</td>\n",
              "      <td>NaN</td>\n",
              "      <td>NaN</td>\n",
              "      <td>NaN</td>\n",
              "      <td>NaN</td>\n",
              "      <td>NaN</td>\n",
              "      <td>NaN</td>\n",
              "    </tr>\n",
              "    <tr>\n",
              "      <th>938</th>\n",
              "      <td>NaN</td>\n",
              "      <td>NaN</td>\n",
              "      <td>NaN</td>\n",
              "      <td>NaN</td>\n",
              "      <td>NaN</td>\n",
              "      <td>NaN</td>\n",
              "      <td>NaN</td>\n",
              "    </tr>\n",
              "    <tr>\n",
              "      <th>939</th>\n",
              "      <td>NaN</td>\n",
              "      <td>NaN</td>\n",
              "      <td>NaN</td>\n",
              "      <td>NaN</td>\n",
              "      <td>NaN</td>\n",
              "      <td>NaN</td>\n",
              "      <td>NaN</td>\n",
              "    </tr>\n",
              "    <tr>\n",
              "      <th>940</th>\n",
              "      <td>NaN</td>\n",
              "      <td>NaN</td>\n",
              "      <td>NaN</td>\n",
              "      <td>NaN</td>\n",
              "      <td>NaN</td>\n",
              "      <td>NaN</td>\n",
              "      <td>NaN</td>\n",
              "    </tr>\n",
              "  </tbody>\n",
              "</table>\n",
              "<p>941 rows × 7 columns</p>\n",
              "</div>"
            ],
            "text/plain": [
              "           date  med_temp  min_temp  ...  precipitation  isWeekend  consumption\n",
              "0    2015-01-01     27.30      23.9  ...            0.0        0.0       25.461\n",
              "1    2015-01-02     27.02      24.5  ...            0.0        0.0       28.972\n",
              "2    2015-01-03     24.82      22.4  ...            0.0        1.0       30.814\n",
              "3    2015-01-04     23.98      21.5  ...            1.2        1.0       29.799\n",
              "4    2015-01-05     23.82      21.0  ...            0.0        0.0       28.900\n",
              "..          ...       ...       ...  ...            ...        ...          ...\n",
              "936         NaN       NaN       NaN  ...            NaN        NaN          NaN\n",
              "937         NaN       NaN       NaN  ...            NaN        NaN          NaN\n",
              "938         NaN       NaN       NaN  ...            NaN        NaN          NaN\n",
              "939         NaN       NaN       NaN  ...            NaN        NaN          NaN\n",
              "940         NaN       NaN       NaN  ...            NaN        NaN          NaN\n",
              "\n",
              "[941 rows x 7 columns]"
            ]
          },
          "metadata": {
            "tags": []
          },
          "execution_count": 33
        }
      ]
    },
    {
      "cell_type": "code",
      "metadata": {
        "id": "iGSlXh2UwmCH"
      },
      "source": [
        "dataset = dataset.dropna()"
      ],
      "execution_count": 34,
      "outputs": []
    },
    {
      "cell_type": "code",
      "metadata": {
        "colab": {
          "base_uri": "https://localhost:8080/",
          "height": 419
        },
        "id": "WaYRBhkrxNkn",
        "outputId": "1c612446-7e59-4d2e-af93-c997d33bc396"
      },
      "source": [
        "dataset"
      ],
      "execution_count": 35,
      "outputs": [
        {
          "output_type": "execute_result",
          "data": {
            "text/html": [
              "<div>\n",
              "<style scoped>\n",
              "    .dataframe tbody tr th:only-of-type {\n",
              "        vertical-align: middle;\n",
              "    }\n",
              "\n",
              "    .dataframe tbody tr th {\n",
              "        vertical-align: top;\n",
              "    }\n",
              "\n",
              "    .dataframe thead th {\n",
              "        text-align: right;\n",
              "    }\n",
              "</style>\n",
              "<table border=\"1\" class=\"dataframe\">\n",
              "  <thead>\n",
              "    <tr style=\"text-align: right;\">\n",
              "      <th></th>\n",
              "      <th>date</th>\n",
              "      <th>med_temp</th>\n",
              "      <th>min_temp</th>\n",
              "      <th>max_temp</th>\n",
              "      <th>precipitation</th>\n",
              "      <th>isWeekend</th>\n",
              "      <th>consumption</th>\n",
              "    </tr>\n",
              "  </thead>\n",
              "  <tbody>\n",
              "    <tr>\n",
              "      <th>0</th>\n",
              "      <td>2015-01-01</td>\n",
              "      <td>27.30</td>\n",
              "      <td>23.9</td>\n",
              "      <td>32.5</td>\n",
              "      <td>0.0</td>\n",
              "      <td>0.0</td>\n",
              "      <td>25.461</td>\n",
              "    </tr>\n",
              "    <tr>\n",
              "      <th>1</th>\n",
              "      <td>2015-01-02</td>\n",
              "      <td>27.02</td>\n",
              "      <td>24.5</td>\n",
              "      <td>33.5</td>\n",
              "      <td>0.0</td>\n",
              "      <td>0.0</td>\n",
              "      <td>28.972</td>\n",
              "    </tr>\n",
              "    <tr>\n",
              "      <th>2</th>\n",
              "      <td>2015-01-03</td>\n",
              "      <td>24.82</td>\n",
              "      <td>22.4</td>\n",
              "      <td>29.9</td>\n",
              "      <td>0.0</td>\n",
              "      <td>1.0</td>\n",
              "      <td>30.814</td>\n",
              "    </tr>\n",
              "    <tr>\n",
              "      <th>3</th>\n",
              "      <td>2015-01-04</td>\n",
              "      <td>23.98</td>\n",
              "      <td>21.5</td>\n",
              "      <td>28.6</td>\n",
              "      <td>1.2</td>\n",
              "      <td>1.0</td>\n",
              "      <td>29.799</td>\n",
              "    </tr>\n",
              "    <tr>\n",
              "      <th>4</th>\n",
              "      <td>2015-01-05</td>\n",
              "      <td>23.82</td>\n",
              "      <td>21.0</td>\n",
              "      <td>28.3</td>\n",
              "      <td>0.0</td>\n",
              "      <td>0.0</td>\n",
              "      <td>28.900</td>\n",
              "    </tr>\n",
              "    <tr>\n",
              "      <th>...</th>\n",
              "      <td>...</td>\n",
              "      <td>...</td>\n",
              "      <td>...</td>\n",
              "      <td>...</td>\n",
              "      <td>...</td>\n",
              "      <td>...</td>\n",
              "      <td>...</td>\n",
              "    </tr>\n",
              "    <tr>\n",
              "      <th>360</th>\n",
              "      <td>2015-12-27</td>\n",
              "      <td>24.00</td>\n",
              "      <td>21.1</td>\n",
              "      <td>28.2</td>\n",
              "      <td>13.6</td>\n",
              "      <td>1.0</td>\n",
              "      <td>32.307</td>\n",
              "    </tr>\n",
              "    <tr>\n",
              "      <th>361</th>\n",
              "      <td>2015-12-28</td>\n",
              "      <td>22.64</td>\n",
              "      <td>21.1</td>\n",
              "      <td>26.7</td>\n",
              "      <td>0.0</td>\n",
              "      <td>0.0</td>\n",
              "      <td>26.095</td>\n",
              "    </tr>\n",
              "    <tr>\n",
              "      <th>362</th>\n",
              "      <td>2015-12-29</td>\n",
              "      <td>21.68</td>\n",
              "      <td>20.3</td>\n",
              "      <td>24.1</td>\n",
              "      <td>10.3</td>\n",
              "      <td>0.0</td>\n",
              "      <td>22.309</td>\n",
              "    </tr>\n",
              "    <tr>\n",
              "      <th>363</th>\n",
              "      <td>2015-12-30</td>\n",
              "      <td>21.38</td>\n",
              "      <td>19.3</td>\n",
              "      <td>22.4</td>\n",
              "      <td>6.3</td>\n",
              "      <td>0.0</td>\n",
              "      <td>20.467</td>\n",
              "    </tr>\n",
              "    <tr>\n",
              "      <th>364</th>\n",
              "      <td>2015-12-31</td>\n",
              "      <td>24.76</td>\n",
              "      <td>20.2</td>\n",
              "      <td>29.0</td>\n",
              "      <td>0.0</td>\n",
              "      <td>0.0</td>\n",
              "      <td>22.446</td>\n",
              "    </tr>\n",
              "  </tbody>\n",
              "</table>\n",
              "<p>365 rows × 7 columns</p>\n",
              "</div>"
            ],
            "text/plain": [
              "           date  med_temp  min_temp  ...  precipitation  isWeekend  consumption\n",
              "0    2015-01-01     27.30      23.9  ...            0.0        0.0       25.461\n",
              "1    2015-01-02     27.02      24.5  ...            0.0        0.0       28.972\n",
              "2    2015-01-03     24.82      22.4  ...            0.0        1.0       30.814\n",
              "3    2015-01-04     23.98      21.5  ...            1.2        1.0       29.799\n",
              "4    2015-01-05     23.82      21.0  ...            0.0        0.0       28.900\n",
              "..          ...       ...       ...  ...            ...        ...          ...\n",
              "360  2015-12-27     24.00      21.1  ...           13.6        1.0       32.307\n",
              "361  2015-12-28     22.64      21.1  ...            0.0        0.0       26.095\n",
              "362  2015-12-29     21.68      20.3  ...           10.3        0.0       22.309\n",
              "363  2015-12-30     21.38      19.3  ...            6.3        0.0       20.467\n",
              "364  2015-12-31     24.76      20.2  ...            0.0        0.0       22.446\n",
              "\n",
              "[365 rows x 7 columns]"
            ]
          },
          "metadata": {
            "tags": []
          },
          "execution_count": 35
        }
      ]
    },
    {
      "cell_type": "code",
      "metadata": {
        "colab": {
          "base_uri": "https://localhost:8080/"
        },
        "id": "Q_7CrCFwycE3",
        "outputId": "080446e8-1aea-402e-ccf3-fc6ad1217606"
      },
      "source": [
        "dataset['consumption'] = dataset['consumption'].astype(float) "
      ],
      "execution_count": 36,
      "outputs": [
        {
          "output_type": "stream",
          "text": [
            "/usr/local/lib/python3.7/dist-packages/ipykernel_launcher.py:1: SettingWithCopyWarning: \n",
            "A value is trying to be set on a copy of a slice from a DataFrame.\n",
            "Try using .loc[row_indexer,col_indexer] = value instead\n",
            "\n",
            "See the caveats in the documentation: https://pandas.pydata.org/pandas-docs/stable/user_guide/indexing.html#returning-a-view-versus-a-copy\n",
            "  \"\"\"Entry point for launching an IPython kernel.\n"
          ],
          "name": "stderr"
        }
      ]
    },
    {
      "cell_type": "code",
      "metadata": {
        "colab": {
          "base_uri": "https://localhost:8080/"
        },
        "id": "oVzG90b15E6C",
        "outputId": "7e4757a2-f725-4ce6-92bd-b976c8417d33"
      },
      "source": [
        "dataset.info()"
      ],
      "execution_count": 39,
      "outputs": [
        {
          "output_type": "stream",
          "text": [
            "<class 'pandas.core.frame.DataFrame'>\n",
            "Int64Index: 365 entries, 0 to 364\n",
            "Data columns (total 7 columns):\n",
            " #   Column         Non-Null Count  Dtype  \n",
            "---  ------         --------------  -----  \n",
            " 0   date           365 non-null    object \n",
            " 1   med_temp       365 non-null    float64\n",
            " 2   min_temp       365 non-null    float64\n",
            " 3   max_temp       365 non-null    float64\n",
            " 4   precipitation  365 non-null    float64\n",
            " 5   isWeekend      365 non-null    float64\n",
            " 6   consumption    365 non-null    float64\n",
            "dtypes: float64(6), object(1)\n",
            "memory usage: 22.8+ KB\n"
          ],
          "name": "stdout"
        }
      ]
    },
    {
      "cell_type": "code",
      "metadata": {
        "id": "FMnM7gP7wteX"
      },
      "source": [
        "X = dataset.iloc[:,[1,-1]].values"
      ],
      "execution_count": 40,
      "outputs": []
    },
    {
      "cell_type": "code",
      "metadata": {
        "colab": {
          "base_uri": "https://localhost:8080/"
        },
        "id": "-gyk48kOw0Ew",
        "outputId": "6e7b443d-d105-4356-a7cf-8bacc6dbfe62"
      },
      "source": [
        "X"
      ],
      "execution_count": 41,
      "outputs": [
        {
          "output_type": "execute_result",
          "data": {
            "text/plain": [
              "array([[27.3  , 25.461],\n",
              "       [27.02 , 28.972],\n",
              "       [24.82 , 30.814],\n",
              "       [23.98 , 29.799],\n",
              "       [23.82 , 28.9  ],\n",
              "       [23.78 , 28.218],\n",
              "       [24.   , 29.732],\n",
              "       [24.9  , 28.397],\n",
              "       [28.2  , 24.886],\n",
              "       [26.76 , 37.937],\n",
              "       [27.62 , 36.254],\n",
              "       [25.96 , 25.743],\n",
              "       [25.52 , 26.99 ],\n",
              "       [25.96 , 31.825],\n",
              "       [25.86 , 25.724],\n",
              "       [26.5  , 29.938],\n",
              "       [28.86 , 37.69 ],\n",
              "       [28.26 , 30.524],\n",
              "       [28.22 , 29.265],\n",
              "       [27.68 , 35.127],\n",
              "       [25.32 , 29.13 ],\n",
              "       [21.74 , 25.795],\n",
              "       [21.04 , 21.784],\n",
              "       [23.12 , 28.348],\n",
              "       [24.4  , 31.088],\n",
              "       [22.4  , 21.52 ],\n",
              "       [23.6  , 29.972],\n",
              "       [25.68 , 22.603],\n",
              "       [25.   , 22.696],\n",
              "       [22.8  , 26.845],\n",
              "       [21.64 , 27.03 ],\n",
              "       [24.16 , 32.057],\n",
              "       [22.48 , 24.097],\n",
              "       [23.16 , 31.655],\n",
              "       [22.12 , 24.738],\n",
              "       [20.28 , 19.95 ],\n",
              "       [21.06 , 22.821],\n",
              "       [21.86 , 28.893],\n",
              "       [22.76 , 29.926],\n",
              "       [24.   , 24.062],\n",
              "       [23.92 , 21.137],\n",
              "       [25.38 , 26.805],\n",
              "       [27.66 , 26.389],\n",
              "       [25.54 , 24.219],\n",
              "       [24.32 , 30.231],\n",
              "       [22.9  , 24.968],\n",
              "       [21.6  , 25.343],\n",
              "       [22.76 , 17.399],\n",
              "       [22.22 , 21.392],\n",
              "       [23.92 , 22.922],\n",
              "       [24.72 , 24.567],\n",
              "       [25.2  , 30.943],\n",
              "       [24.44 , 30.825],\n",
              "       [25.4  , 25.692],\n",
              "       [24.3  , 26.959],\n",
              "       [22.24 , 25.366],\n",
              "       [24.1  , 22.784],\n",
              "       [24.64 , 26.241],\n",
              "       [22.4  , 26.467],\n",
              "       [21.26 , 27.475],\n",
              "       [22.16 , 28.749],\n",
              "       [23.16 , 24.146],\n",
              "       [23.68 , 22.988],\n",
              "       [24.42 , 30.3  ],\n",
              "       [22.6  , 22.654],\n",
              "       [21.92 , 29.09 ],\n",
              "       [22.2  , 24.619],\n",
              "       [21.36 , 20.016],\n",
              "       [23.12 , 23.042],\n",
              "       [22.88 , 22.933],\n",
              "       [22.26 , 22.409],\n",
              "       [22.34 , 21.281],\n",
              "       [22.88 , 28.844],\n",
              "       [22.08 , 32.872],\n",
              "       [21.92 , 20.903],\n",
              "       [21.92 , 26.275],\n",
              "       [21.24 , 20.167],\n",
              "       [21.78 , 23.628],\n",
              "       [21.64 , 24.213],\n",
              "       [20.88 , 28.631],\n",
              "       [19.7  , 25.855],\n",
              "       [19.88 , 21.406],\n",
              "       [20.98 , 21.617],\n",
              "       [21.56 , 22.401],\n",
              "       [22.98 , 27.989],\n",
              "       [23.32 , 24.974],\n",
              "       [23.28 , 29.76 ],\n",
              "       [22.14 , 26.116],\n",
              "       [22.5  , 25.85 ],\n",
              "       [23.14 , 24.925],\n",
              "       [22.52 , 21.979],\n",
              "       [20.92 , 22.116],\n",
              "       [21.02 , 24.867],\n",
              "       [22.36 , 33.45 ],\n",
              "       [22.82 , 32.713],\n",
              "       [21.36 , 22.356],\n",
              "       [17.38 , 21.004],\n",
              "       [18.68 , 23.362],\n",
              "       [19.4  , 20.298],\n",
              "       [20.46 , 24.862],\n",
              "       [21.74 , 30.505],\n",
              "       [19.92 , 25.07 ],\n",
              "       [20.88 , 22.62 ],\n",
              "       [21.7  , 22.001],\n",
              "       [21.94 , 23.469],\n",
              "       [21.26 , 21.735],\n",
              "       [21.42 , 21.593],\n",
              "       [23.36 , 33.822],\n",
              "       [22.5  , 28.028],\n",
              "       [24.   , 24.304],\n",
              "       [22.52 , 31.108],\n",
              "       [20.06 , 19.113],\n",
              "       [21.2  , 23.198],\n",
              "       [22.52 , 24.388],\n",
              "       [19.18 , 27.42 ],\n",
              "       [19.04 , 30.479],\n",
              "       [19.82 , 21.838],\n",
              "       [20.26 , 20.812],\n",
              "       [18.66 , 19.761],\n",
              "       [16.22 , 20.452],\n",
              "       [17.34 , 17.939],\n",
              "       [19.26 , 25.272],\n",
              "       [21.04 , 28.049],\n",
              "       [19.96 , 25.317],\n",
              "       [18.14 , 21.826],\n",
              "       [17.76 , 20.68 ],\n",
              "       [17.8  , 19.143],\n",
              "       [16.14 , 18.146],\n",
              "       [18.04 , 25.489],\n",
              "       [16.94 , 23.537],\n",
              "       [17.86 , 16.956],\n",
              "       [17.12 , 19.052],\n",
              "       [16.34 , 17.287],\n",
              "       [16.72 , 20.3  ],\n",
              "       [16.84 , 20.538],\n",
              "       [17.18 , 23.702],\n",
              "       [18.26 , 28.411],\n",
              "       [18.6  , 21.073],\n",
              "       [18.64 , 24.215],\n",
              "       [18.74 , 19.525],\n",
              "       [19.46 , 20.786],\n",
              "       [20.26 , 20.429],\n",
              "       [19.94 , 27.25 ],\n",
              "       [21.8  , 31.387],\n",
              "       [22.06 , 26.075],\n",
              "       [21.28 , 22.162],\n",
              "       [22.94 , 24.258],\n",
              "       [18.56 , 24.683],\n",
              "       [17.68 , 21.245],\n",
              "       [17.52 , 25.937],\n",
              "       [16.28 , 26.081],\n",
              "       [16.28 , 16.228],\n",
              "       [16.04 , 20.106],\n",
              "       [17.94 , 21.055],\n",
              "       [18.36 , 22.772],\n",
              "       [18.32 , 25.142],\n",
              "       [19.66 , 31.129],\n",
              "       [20.62 , 30.498],\n",
              "       [20.86 , 26.15 ],\n",
              "       [20.32 , 21.327],\n",
              "       [20.54 , 22.008],\n",
              "       [22.72 , 24.615],\n",
              "       [18.8  , 22.375],\n",
              "       [21.1  , 29.607],\n",
              "       [22.76 , 32.983],\n",
              "       [16.02 , 19.119],\n",
              "       [14.82 , 21.029],\n",
              "       [19.8  , 23.898],\n",
              "       [19.88 , 24.534],\n",
              "       [14.66 , 16.748],\n",
              "       [15.82 , 23.055],\n",
              "       [17.32 , 28.857],\n",
              "       [18.54 , 23.022],\n",
              "       [19.02 , 27.146],\n",
              "       [14.54 , 17.241],\n",
              "       [14.72 , 19.463],\n",
              "       [15.26 , 21.86 ],\n",
              "       [15.34 , 24.227],\n",
              "       [15.48 , 27.594],\n",
              "       [17.2  , 24.863],\n",
              "       [19.36 , 20.161],\n",
              "       [17.78 , 20.824],\n",
              "       [17.2  , 19.727],\n",
              "       [17.52 , 14.94 ],\n",
              "       [14.94 , 24.632],\n",
              "       [12.9  , 21.294],\n",
              "       [15.78 , 18.448],\n",
              "       [16.8  , 21.237],\n",
              "       [17.02 , 19.849],\n",
              "       [17.54 , 20.74 ],\n",
              "       [19.24 , 25.698],\n",
              "       [17.46 , 26.691],\n",
              "       [20.32 , 33.298],\n",
              "       [22.06 , 25.64 ],\n",
              "       [23.3  , 23.937],\n",
              "       [20.18 , 28.742],\n",
              "       [19.88 , 21.748],\n",
              "       [19.14 , 22.032],\n",
              "       [20.2  , 24.827],\n",
              "       [19.98 , 32.473],\n",
              "       [20.56 , 20.62 ],\n",
              "       [16.72 , 21.825],\n",
              "       [14.52 , 14.343],\n",
              "       [17.02 , 19.029],\n",
              "       [18.46 , 21.104],\n",
              "       [15.9  , 20.738],\n",
              "       [16.82 , 25.233],\n",
              "       [16.6  , 18.975],\n",
              "       [16.46 , 19.64 ],\n",
              "       [16.2  , 22.522],\n",
              "       [16.76 , 24.227],\n",
              "       [19.24 , 24.726],\n",
              "       [19.78 , 32.467],\n",
              "       [20.1  , 31.663],\n",
              "       [21.16 , 25.867],\n",
              "       [21.04 , 27.724],\n",
              "       [20.96 , 22.039],\n",
              "       [21.06 , 26.127],\n",
              "       [22.08 , 26.58 ],\n",
              "       [21.16 , 31.31 ],\n",
              "       [19.62 , 33.517],\n",
              "       [21.2  , 23.181],\n",
              "       [19.6  , 24.183],\n",
              "       [20.12 , 24.594],\n",
              "       [20.42 , 22.61 ],\n",
              "       [20.86 , 25.479],\n",
              "       [21.44 , 29.621],\n",
              "       [20.56 , 26.272],\n",
              "       [21.58 , 22.541],\n",
              "       [21.3  , 23.07 ],\n",
              "       [20.74 , 26.021],\n",
              "       [16.2  , 17.655],\n",
              "       [16.84 , 23.243],\n",
              "       [18.08 , 30.177],\n",
              "       [20.22 , 27.518],\n",
              "       [16.98 , 23.21 ],\n",
              "       [16.98 , 21.092],\n",
              "       [18.92 , 23.357],\n",
              "       [16.1  , 17.888],\n",
              "       [16.28 , 22.217],\n",
              "       [18.46 , 31.681],\n",
              "       [22.52 , 31.833],\n",
              "       [24.54 , 28.441],\n",
              "       [21.44 , 22.389],\n",
              "       [16.1  , 20.681],\n",
              "       [19.3  , 24.222],\n",
              "       [16.66 , 19.345],\n",
              "       [16.12 , 21.827],\n",
              "       [16.48 , 23.566],\n",
              "       [18.72 , 20.227],\n",
              "       [17.08 , 17.075],\n",
              "       [18.82 , 16.977],\n",
              "       [18.92 , 21.525],\n",
              "       [16.88 , 21.454],\n",
              "       [14.   , 21.814],\n",
              "       [14.18 , 21.252],\n",
              "       [16.46 , 20.464],\n",
              "       [21.18 , 30.775],\n",
              "       [25.24 , 25.343],\n",
              "       [27.26 , 33.93 ],\n",
              "       [28.06 , 26.311],\n",
              "       [28.   , 31.836],\n",
              "       [23.6  , 34.695],\n",
              "       [24.72 , 29.829],\n",
              "       [25.7  , 26.362],\n",
              "       [26.14 , 32.589],\n",
              "       [28.3  , 30.345],\n",
              "       [23.24 , 29.411],\n",
              "       [20.58 , 29.637],\n",
              "       [22.3  , 32.184],\n",
              "       [21.22 , 17.731],\n",
              "       [21.8  , 24.114],\n",
              "       [21.52 , 28.034],\n",
              "       [20.96 , 22.664],\n",
              "       [24.74 , 27.488],\n",
              "       [20.28 , 24.876],\n",
              "       [18.6  , 24.862],\n",
              "       [17.36 , 24.679],\n",
              "       [18.26 , 22.304],\n",
              "       [24.5  , 30.329],\n",
              "       [26.56 , 33.182],\n",
              "       [24.52 , 23.849],\n",
              "       [23.06 , 33.33 ],\n",
              "       [22.48 , 34.496],\n",
              "       [22.76 , 26.249],\n",
              "       [21.4  , 26.523],\n",
              "       [23.62 , 26.793],\n",
              "       [28.12 , 35.861],\n",
              "       [26.24 , 27.387],\n",
              "       [21.22 , 32.666],\n",
              "       [16.76 , 22.199],\n",
              "       [19.86 , 24.   ],\n",
              "       [26.3  , 27.871],\n",
              "       [24.62 , 31.139],\n",
              "       [19.9  , 23.065],\n",
              "       [20.5  , 26.594],\n",
              "       [17.94 , 27.657],\n",
              "       [17.64 , 26.594],\n",
              "       [20.86 , 28.084],\n",
              "       [22.   , 27.582],\n",
              "       [20.42 , 24.862],\n",
              "       [20.56 , 22.634],\n",
              "       [23.86 , 31.649],\n",
              "       [23.18 , 35.781],\n",
              "       [20.22 , 24.429],\n",
              "       [21.82 , 20.648],\n",
              "       [21.86 , 22.741],\n",
              "       [21.52 , 21.479],\n",
              "       [21.8  , 23.134],\n",
              "       [19.76 , 20.575],\n",
              "       [18.3  , 24.33 ],\n",
              "       [20.24 , 28.61 ],\n",
              "       [22.98 , 28.456],\n",
              "       [23.72 , 27.964],\n",
              "       [26.2  , 29.569],\n",
              "       [23.78 , 29.267],\n",
              "       [22.78 , 28.647],\n",
              "       [25.06 , 26.836],\n",
              "       [23.06 , 29.386],\n",
              "       [21.16 , 24.609],\n",
              "       [21.76 , 26.964],\n",
              "       [25.5  , 23.614],\n",
              "       [26.16 , 22.96 ],\n",
              "       [23.28 , 20.332],\n",
              "       [19.44 , 30.392],\n",
              "       [22.26 , 31.933],\n",
              "       [20.8  , 21.662],\n",
              "       [21.36 , 21.689],\n",
              "       [21.26 , 25.119],\n",
              "       [22.28 , 25.285],\n",
              "       [22.28 , 28.979],\n",
              "       [23.7  , 34.382],\n",
              "       [22.38 , 30.617],\n",
              "       [19.1  , 20.238],\n",
              "       [20.1  , 24.529],\n",
              "       [22.1  , 30.471],\n",
              "       [22.44 , 28.405],\n",
              "       [22.76 , 29.513],\n",
              "       [24.8  , 32.451],\n",
              "       [23.12 , 32.78 ],\n",
              "       [20.04 , 23.375],\n",
              "       [21.7  , 27.713],\n",
              "       [23.96 , 27.137],\n",
              "       [24.   , 22.933],\n",
              "       [24.04 , 30.74 ],\n",
              "       [23.92 , 29.579],\n",
              "       [24.54 , 29.188],\n",
              "       [26.28 , 28.131],\n",
              "       [25.66 , 28.617],\n",
              "       [22.04 , 21.062],\n",
              "       [23.32 , 24.337],\n",
              "       [26.42 , 27.042],\n",
              "       [23.74 , 32.536],\n",
              "       [22.84 , 30.127],\n",
              "       [23.12 , 24.834],\n",
              "       [24.6  , 26.828],\n",
              "       [27.46 , 26.468],\n",
              "       [24.72 , 31.572],\n",
              "       [23.58 , 26.308],\n",
              "       [23.34 , 21.955],\n",
              "       [24.   , 32.307],\n",
              "       [22.64 , 26.095],\n",
              "       [21.68 , 22.309],\n",
              "       [21.38 , 20.467],\n",
              "       [24.76 , 22.446]])"
            ]
          },
          "metadata": {
            "tags": []
          },
          "execution_count": 41
        }
      ]
    },
    {
      "cell_type": "code",
      "metadata": {
        "colab": {
          "base_uri": "https://localhost:8080/"
        },
        "id": "A0qI9YSww4iA",
        "outputId": "44fe1d16-f86d-4fef-ee3c-8375e1a84650"
      },
      "source": [
        "X.shape"
      ],
      "execution_count": 42,
      "outputs": [
        {
          "output_type": "execute_result",
          "data": {
            "text/plain": [
              "(365, 2)"
            ]
          },
          "metadata": {
            "tags": []
          },
          "execution_count": 42
        }
      ]
    },
    {
      "cell_type": "code",
      "metadata": {
        "id": "ssnNjVphxtAX"
      },
      "source": [
        "import scipy.cluster.hierarchy as sch\n",
        "from sklearn.cluster import AgglomerativeClustering\n",
        "from sklearn.cluster import KMeans"
      ],
      "execution_count": 43,
      "outputs": []
    },
    {
      "cell_type": "code",
      "metadata": {
        "colab": {
          "base_uri": "https://localhost:8080/",
          "height": 265
        },
        "id": "BwxIg-XXyL1_",
        "outputId": "4af4942b-755c-4ee8-95ff-4054a30c493d"
      },
      "source": [
        "dendrogram = sch.dendrogram(sch.linkage(X,method='ward'))"
      ],
      "execution_count": 44,
      "outputs": [
        {
          "output_type": "display_data",
          "data": {
            "image/png": "[encoded data removed]",
            "text/plain": [
              "<Figure size 432x288 with 1 Axes>"
            ]
          },
          "metadata": {
            "tags": [],
            "needs_background": "light"
          }
        }
      ]
    },
    {
      "cell_type": "code",
      "metadata": {
        "colab": {
          "base_uri": "https://localhost:8080/"
        },
        "id": "sGPc3PCF7wUq",
        "outputId": "f4f50265-17bc-406b-c5cc-3ffb0ad5f400"
      },
      "source": [
        "hc =  AgglomerativeClustering(n_clusters=5,linkage='ward')\n",
        "y_hc = hc.fit_predict(X)\n",
        "y_hc"
      ],
      "execution_count": 45,
      "outputs": [
        {
          "output_type": "execute_result",
          "data": {
            "text/plain": [
              "array([2, 2, 0, 0, 0, 0, 0, 2, 2, 0, 0, 2, 2, 0, 2, 2, 0, 0, 0, 0, 2, 2,\n",
              "       3, 0, 0, 3, 0, 2, 2, 2, 0, 0, 2, 0, 2, 3, 3, 0, 0, 2, 3, 2, 2, 2,\n",
              "       0, 2, 4, 3, 3, 3, 2, 0, 0, 2, 2, 2, 3, 2, 2, 0, 0, 2, 3, 0, 3, 0,\n",
              "       2, 3, 3, 3, 3, 3, 0, 0, 3, 2, 3, 3, 2, 0, 4, 3, 3, 3, 0, 2, 0, 2,\n",
              "       2, 2, 3, 3, 4, 0, 0, 3, 1, 4, 3, 4, 0, 4, 3, 3, 3, 3, 3, 0, 0, 2,\n",
              "       0, 3, 3, 2, 0, 0, 3, 3, 3, 1, 1, 4, 0, 4, 3, 1, 1, 1, 4, 4, 1, 1,\n",
              "       1, 1, 1, 4, 4, 3, 4, 3, 3, 3, 0, 0, 2, 3, 2, 4, 1, 4, 4, 1, 1, 1,\n",
              "       4, 4, 0, 0, 4, 3, 3, 2, 3, 0, 0, 1, 1, 4, 4, 1, 1, 4, 4, 0, 1, 1,\n",
              "       1, 4, 4, 4, 3, 1, 1, 1, 4, 1, 1, 1, 1, 1, 4, 4, 0, 2, 2, 0, 3, 3,\n",
              "       4, 0, 3, 1, 1, 1, 3, 1, 4, 1, 1, 1, 4, 4, 0, 0, 4, 0, 3, 4, 2, 0,\n",
              "       0, 3, 4, 4, 3, 4, 0, 4, 3, 3, 4, 1, 4, 0, 0, 4, 1, 4, 1, 1, 0, 0,\n",
              "       2, 3, 1, 4, 1, 1, 4, 3, 1, 1, 3, 1, 1, 1, 1, 0, 2, 0, 2, 0, 0, 0,\n",
              "       2, 0, 0, 0, 0, 0, 3, 2, 0, 3, 2, 4, 4, 4, 3, 0, 0, 2, 0, 0, 2, 0,\n",
              "       2, 0, 2, 0, 1, 4, 2, 0, 4, 4, 4, 4, 0, 0, 4, 3, 0, 0, 4, 3, 3, 3,\n",
              "       3, 3, 4, 0, 0, 0, 2, 0, 0, 2, 0, 4, 0, 2, 2, 3, 0, 0, 3, 3, 4, 2,\n",
              "       0, 0, 0, 3, 4, 0, 0, 0, 0, 0, 4, 0, 2, 3, 0, 0, 0, 2, 2, 3, 2, 2,\n",
              "       0, 0, 2, 2, 2, 0, 2, 3, 0, 2, 3, 3, 2])"
            ]
          },
          "metadata": {
            "tags": []
          },
          "execution_count": 45
        }
      ]
    },
    {
      "cell_type": "code",
      "metadata": {
        "colab": {
          "base_uri": "https://localhost:8080/",
          "height": 312
        },
        "id": "9INdTNWy7-MQ",
        "outputId": "36c75cf2-1b6b-43dc-dd00-afa4f7cd1c2e"
      },
      "source": [
        "#Agglomerative plot\n",
        "plt.scatter(X[y_hc==0,0],X[y_hc==0,1],s=50,c='violet',label='cluster1')\n",
        "plt.scatter(X[y_hc==1,0],X[y_hc==1,1],s=50,c='blue',label='cluster2')\n",
        "plt.scatter(X[y_hc==2,0],X[y_hc==2,1],s=50,c='green',label='cluster3')\n",
        "plt.scatter(X[y_hc==3,0],X[y_hc==3,1],s=50,c='yellow',label='cluster4')\n",
        "plt.scatter(X[y_hc==4,0],X[y_hc==4,1],s=50,c='orange',label='cluster5')\n",
        "plt.title('Heirarchical Clustering')\n",
        "plt.xlabel('Mean Temparature')\n",
        "plt.ylabel('Beer consumption')\n",
        "plt.legend()"
      ],
      "execution_count": 46,
      "outputs": [
        {
          "output_type": "execute_result",
          "data": {
            "text/plain": [
              "<matplotlib.legend.Legend at 0x7fa7b4f37d90>"
            ]
          },
          "metadata": {
            "tags": []
          },
          "execution_count": 46
        },
        {
          "output_type": "display_data",
          "data": {
            "image/png": "[encoded data removed]",
            "text/plain": [
              "<Figure size 432x288 with 1 Axes>"
            ]
          },
          "metadata": {
            "tags": [],
            "needs_background": "light"
          }
        }
      ]
    },
    {
      "cell_type": "code",
      "metadata": {
        "colab": {
          "base_uri": "https://localhost:8080/",
          "height": 295
        },
        "id": "85uQvC1R8WT5",
        "outputId": "0205703d-56f3-4116-a415-e19e40cd124b"
      },
      "source": [
        "#K means elbow plot\n",
        "wcss=[]\n",
        "for i in range(1,10):\n",
        "    kmeans = KMeans(n_clusters=i,init='k-means++',random_state=0)\n",
        "    kmeans.fit(X)\n",
        "    wcss.append(kmeans.inertia_)#residual values \n",
        "plt.plot(range(1,10),wcss)\n",
        "plt.title('K means Elbow Graph')\n",
        "plt.xlabel('# of Cluster')\n",
        "plt.ylabel('WCSS')\n",
        "plt.show()"
      ],
      "execution_count": 48,
      "outputs": [
        {
          "output_type": "display_data",
          "data": {
            "image/png": "[encoded data removed]",
            "text/plain": [
              "<Figure size 432x288 with 1 Axes>"
            ]
          },
          "metadata": {
            "tags": [],
            "needs_background": "light"
          }
        }
      ]
    },
    {
      "cell_type": "code",
      "metadata": {
        "colab": {
          "base_uri": "https://localhost:8080/",
          "height": 295
        },
        "id": "UR2SeGrn8qUJ",
        "outputId": "c21cf033-b663-454d-ca59-d7a8b3e8da82"
      },
      "source": [
        "kmeans = KMeans(n_clusters=5,init='k-means++',random_state=0)\n",
        "y_kmeans = kmeans.fit_predict(X)\n",
        "plt.scatter(X[y_kmeans==0,0],X[y_kmeans==0,1],s=20,c='violet',label='cluster1')\n",
        "plt.scatter(X[y_kmeans==1,0],X[y_kmeans==1,1],s=20,c='indigo',label='cluster2')\n",
        "plt.scatter(X[y_kmeans==2,0],X[y_kmeans==2,1],s=20,c='green',label='cluster3')\n",
        "plt.scatter(X[y_kmeans==3,0],X[y_kmeans==3,1],s=20,c='yellow',label='cluster4')\n",
        "plt.scatter(X[y_kmeans==4,0],X[y_kmeans==4,1],s=20,c='red',label='cluster5')\n",
        "\n",
        "plt.scatter(kmeans.cluster_centers_[:,0],kmeans.cluster_centers_[:,1],s=100,c='black',label='centroids')\n",
        "\n",
        "plt.title('Heirarchical Clustering')\n",
        "plt.xlabel('Mean Temp')\n",
        "plt.ylabel('Beer Consumption')\n",
        "plt.legend()  \n",
        "plt.show()"
      ],
      "execution_count": 52,
      "outputs": [
        {
          "output_type": "display_data",
          "data": {
            "image/png": "[encoded data removed]",
            "text/plain": [
              "<Figure size 432x288 with 1 Axes>"
            ]
          },
          "metadata": {
            "tags": [],
            "needs_background": "light"
          }
        }
      ]
    }
  ]
}