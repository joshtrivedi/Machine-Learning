{
  "nbformat": 4,
  "nbformat_minor": 0,
  "metadata": {
    "colab": {
      "name": "K-Means-Assignment.ipynb",
      "provenance": [],
      "collapsed_sections": [],
      "authorship_tag": "ABX9TyM/VxgPXWf2muzXL2BZ+3Qy",
      "include_colab_link": true
    },
    "kernelspec": {
      "name": "python3",
      "display_name": "Python 3"
    },
    "language_info": {
      "name": "python"
    }
  },
  "cells": [
    {
      "cell_type": "markdown",
      "metadata": {
        "id": "view-in-github",
        "colab_type": "text"
      },
      "source": [
        "<a href=\"https://colab.research.google.com/github/joshtrivedi/Machine-Learning/blob/master/K-Means-Assignment/K_Means_Assignment.ipynb\" target=\"_parent\"><img src=\"https://colab.research.google.com/assets/colab-badge.svg\" alt=\"Open In Colab\"/></a>"
      ]
    },
    {
      "cell_type": "code",
      "metadata": {
        "id": "dbaiYhkgvbUX"
      },
      "source": [
        "import numpy as np\n",
        "import matplotlib.pyplot as plt\n",
        "import pandas as pd\n",
        "import cv2\n",
        "import matplotlib.image as mpimg\n",
        "import random"
      ],
      "execution_count": 10,
      "outputs": []
    },
    {
      "cell_type": "code",
      "metadata": {
        "id": "qyKWCKZlv8ob"
      },
      "source": [
        "my_image = cv2.imread('josh.jpg')"
      ],
      "execution_count": 23,
      "outputs": []
    },
    {
      "cell_type": "code",
      "metadata": {
        "colab": {
          "base_uri": "https://localhost:8080/"
        },
        "id": "MjqbMD6Q3hQN",
        "outputId": "196d91ff-eef0-4c74-bf27-7ad8a7cca937"
      },
      "source": [
        "my_image"
      ],
      "execution_count": 24,
      "outputs": [
        {
          "output_type": "execute_result",
          "data": {
            "text/plain": [
              "array([[[234, 210, 188],\n",
              "        [235, 211, 189],\n",
              "        [236, 212, 190],\n",
              "        ...,\n",
              "        [ 55,  48,  51],\n",
              "        [ 55,  46,  49],\n",
              "        [ 59,  45,  49]],\n",
              "\n",
              "       [[234, 209, 189],\n",
              "        [235, 211, 189],\n",
              "        [236, 211, 191],\n",
              "        ...,\n",
              "        [ 57,  51,  52],\n",
              "        [ 58,  47,  49],\n",
              "        [ 59,  45,  49]],\n",
              "\n",
              "       [[234, 208, 191],\n",
              "        [235, 210, 190],\n",
              "        [236, 210, 193],\n",
              "        ...,\n",
              "        [ 57,  49,  49],\n",
              "        [ 58,  48,  48],\n",
              "        [ 59,  46,  48]],\n",
              "\n",
              "       ...,\n",
              "\n",
              "       [[190, 225, 238],\n",
              "        [182, 217, 230],\n",
              "        [194, 229, 242],\n",
              "        ...,\n",
              "        [181, 197, 179],\n",
              "        [201, 217, 199],\n",
              "        [219, 234, 213]],\n",
              "\n",
              "       [[201, 236, 249],\n",
              "        [196, 231, 244],\n",
              "        [195, 230, 243],\n",
              "        ...,\n",
              "        [191, 207, 189],\n",
              "        [174, 190, 172],\n",
              "        [181, 195, 177]],\n",
              "\n",
              "       [[200, 235, 248],\n",
              "        [165, 200, 213],\n",
              "        [165, 200, 213],\n",
              "        ...,\n",
              "        [187, 203, 185],\n",
              "        [189, 205, 187],\n",
              "        [185, 199, 181]]], dtype=uint8)"
            ]
          },
          "metadata": {
            "tags": []
          },
          "execution_count": 24
        }
      ]
    },
    {
      "cell_type": "code",
      "metadata": {
        "colab": {
          "base_uri": "https://localhost:8080/"
        },
        "id": "D2XGFKTU3jum",
        "outputId": "d928fd05-3805-40d3-96d5-639a8e90b4be"
      },
      "source": [
        "my_image.shape"
      ],
      "execution_count": 25,
      "outputs": [
        {
          "output_type": "execute_result",
          "data": {
            "text/plain": [
              "(384, 299, 3)"
            ]
          },
          "metadata": {
            "tags": []
          },
          "execution_count": 25
        }
      ]
    },
    {
      "cell_type": "code",
      "metadata": {
        "id": "pOdbQJvC3nEy"
      },
      "source": [
        "my_image = (my_image/255).reshape(384*299,3)"
      ],
      "execution_count": 26,
      "outputs": []
    },
    {
      "cell_type": "code",
      "metadata": {
        "colab": {
          "base_uri": "https://localhost:8080/"
        },
        "id": "COdS6wuJ3y1b",
        "outputId": "14de2f70-e243-4420-81d7-4820489a66cd"
      },
      "source": [
        "my_image"
      ],
      "execution_count": 21,
      "outputs": [
        {
          "output_type": "execute_result",
          "data": {
            "text/plain": [
              "array([[0.00359862, 0.00322953, 0.0028912 ],\n",
              "       [0.00361399, 0.00324491, 0.00290657],\n",
              "       [0.00362937, 0.00326028, 0.00292195],\n",
              "       ...,\n",
              "       [0.00287582, 0.00312188, 0.00284506],\n",
              "       [0.00290657, 0.00315263, 0.00287582],\n",
              "       [0.00284506, 0.00306036, 0.00278354]])"
            ]
          },
          "metadata": {
            "tags": []
          },
          "execution_count": 21
        }
      ]
    },
    {
      "cell_type": "code",
      "metadata": {
        "id": "3lDEKQFD31oD"
      },
      "source": [
        "def calc_distance(X1,X2):\n",
        "    return ((sum(X1-X2)**2)**0.5)\n",
        "\n",
        "def findclosestcentroid(c,X):\n",
        "    assign_centroids=[]\n",
        "    for i in X:\n",
        "        distance_list=[]\n",
        "        for j in c:\n",
        "            distance_list.append(calc_distance(i,j))\n",
        "        assign_centroids.append(np.argmin(distance_list))\n",
        "    return assign_centroids\n",
        "\n",
        "def calc_centroids(cluster,X):\n",
        "    new_centroid = []\n",
        "    new_df1 = pd.concat([pd.DataFrame(X),pd.DataFrame(cluster,columns=['clusters'])],axis=1)\n",
        "    for c in set(new_df1['clusters']):\n",
        "        current_cluster = new_df1[new_df1['clusters']==c][new_df1.columns[:-1]]        #Consodering all the X and Y values for particular cluster C\n",
        "        current_mean = current_cluster.mean(axis=0)\n",
        "        new_centroid.append(current_mean)\n",
        "    return new_centroid"
      ],
      "execution_count": 27,
      "outputs": []
    },
    {
      "cell_type": "code",
      "metadata": {
        "id": "ryfT8Gz3W-Jl"
      },
      "source": [
        "n=15 #no. of epochs"
      ],
      "execution_count": 17,
      "outputs": []
    },
    {
      "cell_type": "code",
      "metadata": {
        "id": "U8nhdlOQVj22"
      },
      "source": [
        "#For K =1 \n",
        "for k in range(1,26):\n",
        "    my_original_image = (my_image/255).reshape(384*299,3)\n",
        "    \n",
        "    init_centroids_1 = random.sample(range(0,len(my_original_image)),k)\n",
        "    #print(init_centroids_1)\n",
        "\n",
        "    centroids_1=[]\n",
        "    for i in init_centroids_1:\n",
        "        centroids_1.append(my_original_image[i])\n",
        "\n",
        "    centroids_1 = np.array(centroids_1)\n",
        "    #print(centroids_1)\n",
        "\n",
        "    centroids_for_display_epochs=[]\n",
        "    for i in range(n):\n",
        "        #print(i)\n",
        "        get_centroid = findclosestcentroid(centroids_1,my_original_image)\n",
        "        centroids_1 = calc_centroids(get_centroid,my_original_image)\n",
        "        if(i==0):\n",
        "            centroids_for_display_epochs.append(centroids_1)\n",
        "        if(i==n//2):\n",
        "            centroids_for_display_epochs.append(centroids_1)\n",
        "\n",
        "    #recovering the Image for Each epochs displayed\n",
        "    myOriginal_recovered_1 = my_original_image.copy()\n",
        "    for i in range(len(my_original_image)):\n",
        "        myOriginal_recovered_1[i] = centroids_for_display_epochs[0][get_centroid[i]]\n",
        "    myOriginal_recovered_1_plot = myOriginal_recovered_1.reshape(384,299,3)\n",
        "\n",
        "    myOriginal_recovered_2 = my_original_image.copy()\n",
        "    for i in range(len(my_original_image)):\n",
        "        myOriginal_recovered_2[i] = centroids_for_display_epochs[1][get_centroid[i]]\n",
        "    myOriginal_recovered_2_plot = myOriginal_recovered_2.reshape(384,299,3)\n",
        "\n",
        "    myOriginal_recovered_3 = my_original_image.copy()\n",
        "    for i in range(len(my_original_image)):\n",
        "        myOriginal_recovered_3[i] = centroids_1[get_centroid[i]]\n",
        "    myOriginal_recovered_3_plot = myOriginal_recovered_3.reshape(384,299,3)\n",
        "\n",
        "    my_original_image = cv2.imread('josh.jpg')\n",
        "    fig,ax = plt.subplots(1,4)\n",
        "    plt.title('For k='+str(k))\n",
        "    ax[0].imshow(my_original_image)\n",
        "    ax[1].imshow(myOriginal_recovered_1_plot)\n",
        "    ax[2].imshow(myOriginal_recovered_2_plot)\n",
        "    ax[3].imshow(myOriginal_recovered_3_plot)"
      ],
      "execution_count": null,
      "outputs": []
    }
  ]
}